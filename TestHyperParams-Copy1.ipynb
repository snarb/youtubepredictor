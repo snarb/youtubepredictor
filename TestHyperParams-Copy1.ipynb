{
 "cells": [
  {
   "cell_type": "code",
   "execution_count": 4,
   "metadata": {
    "collapsed": true
   },
   "outputs": [],
   "source": [
    "import pandas as pd\n",
    "import numpy as np\n",
    "import tensorflow as tf\n",
    "import pickle\n",
    "from math import floor\n",
    "#import Test\n",
    "import time\n",
    "from matplotlib import pyplot as plt\n",
    "from matplotlib.ticker import FormatStrFormatter\n",
    "from matplotlib.ticker import FuncFormatter\n",
    "from sklearn.neighbors import KNeighborsClassifier\n",
    "from sklearn.utils import shuffle\n",
    "from sklearn.cluster import KMeans\n",
    "\n",
    "# SEQUENCE_LENGTH = 8\n",
    "# PREDICTION_DELTA = 4\n",
    "VIDEO_LEN_LIMIT = 50\n",
    "\n",
    "MIN_VIEWS = 100 #1000 ?\n",
    "\n",
    "BATCH_SIZE = 100\n",
    "TRAIN_STEPS = 700000\n",
    "LEARNING_RATE = 2e-3\n",
    "STABLE_DELTA = 0.69 # 2 views\n",
    "\n",
    "\n",
    "# fig, ax = plt.subplots()\n",
    "# plt.figure(figsize=(12, 5))\n",
    "# ax.xaxis.set_major_formatter(FormatStrFormatter('%.5f'))\n",
    "\n",
    "\n",
    "def rolling_window(a, window, lablesShift):\n",
    "    shape = a.shape[:-1] + (a.shape[-1] - window + 1, window)\n",
    "    strides = a.strides + (a.strides[-1],)\n",
    "\n",
    "    data = np.lib.stride_tricks.as_strided(a, shape=shape, strides=strides)\n",
    "    lables = a[window - 1 + lablesShift::1]\n",
    "    return data[:-lablesShift], lables\n",
    "\n",
    "\n",
    "def LoadData(name):\n",
    "    df = pd.read_csv('data/' + name + '.csv',\n",
    "                     index_col=['date'],\n",
    "                     dtype={\"video_id\": object, \"views\": np.float64},\n",
    "                     parse_dates=['date'])\n",
    "    return df\n",
    "\n",
    "\n",
    "def GetNextBatch(inputs, lables, batchId):\n",
    "    batchId = batchId % len(inputs)\n",
    "    startIndex = batchId * BATCH_SIZE\n",
    "    endIndex = (batchId + 1) * BATCH_SIZE\n",
    "    if (len(inputs) < endIndex):\n",
    "        startIndex = 0\n",
    "        endIndex = BATCH_SIZE\n",
    "\n",
    "    return (inputs[startIndex:endIndex], lables[startIndex:endIndex])\n",
    "\n",
    "\n",
    "def DfToList(df):\n",
    "    listOfVideoViews = list(df.groupby('video_id')['views'].apply(pd.DataFrame.as_matrix))\n",
    "    return listOfVideoViews\n",
    "\n",
    "def ExtractSequenes(listOfVideoViews, seqLen, predDelta, minLen, maxLen):\n",
    "    if (not minLen):\n",
    "        minLen = 0\n",
    "\n",
    "    if (not maxLen):\n",
    "        maxLen = 10e+10\n",
    "    \n",
    "    koefs = []\n",
    "    datas = []\n",
    "    lables = []\n",
    "    maxV = 0\n",
    "    maxI = 0\n",
    "\n",
    "    for i in range(len(listOfVideoViews)):\n",
    "        s = listOfVideoViews[i]\n",
    "        if (len(s) > minLen and len(s) < maxLen):\n",
    "\n",
    "\n",
    "            # if(i == 297553):\n",
    "            #     print(\"target\")\n",
    "            daysToRemove = 0\n",
    "            passed = False\n",
    "\n",
    "            for j in range(len(s)):\n",
    "                if (s[j] > 20):\n",
    "                    daysToRemove = j\n",
    "                    passed = True\n",
    "                    break\n",
    "\n",
    "            if (passed and (len(s) - daysToRemove > minLen)):\n",
    "                realDaysToRemove = max(daysToRemove, 30)\n",
    "                data, lable = rolling_window(s[realDaysToRemove:], window=seqLen, lablesShift=predDelta)\n",
    "                # if(data.min() < 20):\n",
    "                #     print(\"bad\")\n",
    "\n",
    "                datas.extend(data)\n",
    "                lables.extend(lable)\n",
    "                \n",
    "#                 dataMean = np.mean(data)\n",
    "#                 koef = np.log(lable) / np.log(dataMean)\n",
    "#                 koefs.append(koef)\n",
    "\n",
    "\n",
    "    datas_res = np.log(datas)\n",
    "    lables_res = np.log(lables)\n",
    "\n",
    "    datas_res = np.clip(datas_res, a_min = STABLE_DELTA, a_max = 99999999999)\n",
    "    lables_res = np.clip(lables_res, a_min = STABLE_DELTA, a_max = 99999999999)\n",
    "    \n",
    "#     print(len(koefs))\n",
    "#     print(np.mean(koefs))\n",
    "#     plt.plot(koefs)\n",
    "#     plt.show()\n",
    "#     for i in range(len(datas_res)):\n",
    "#         data = datas_res[i]\n",
    "#         lable = lables_res[i]\n",
    "\n",
    "#         koef = lable / data\n",
    "#         curMax = koef.max()\n",
    "#         if (curMax > maxV):\n",
    "#             maxV = curMax\n",
    "#             maxI = i\n",
    "\n",
    "#         if (koef.max() > 10000):\n",
    "#             print(\"Bad\")\n",
    "\n",
    "    return datas_res, lables_res\n",
    "\n",
    "\n",
    "def TrainModel(train_inputs, train_lables, test_inputs, test_lables, SEQUENCE_LENGTH):\n",
    "    #train_inputs, train_lables = shuffle(train_inputs, train_lables)\n",
    "\n",
    "    # if (absNorms is not None):\n",
    "    #     train_inputs /= absNorms\n",
    "\n",
    "    X = tf.placeholder(\"float\", shape=(None, SEQUENCE_LENGTH), name=\"Inputs\")  # , COLUMNS_COUNT\n",
    "    Y = tf.placeholder(\"float\", shape=(None, 1), name=\"Outputs\")\n",
    "\n",
    "    W = tf.Variable(tf.ones([SEQUENCE_LENGTH, 1]), name=\"weight\")  # COLUMNS_COUNT\n",
    "\n",
    "    pred = tf.reduce_sum(tf.matmul(X, W), axis=1)\n",
    "    loss = tf.reduce_mean(tf.square(pred / Y - 1))\n",
    "    grads = tf.gradients(loss, [W])[0]\n",
    "\n",
    "    optimizer = tf.train.GradientDescentOptimizer(LEARNING_RATE)\n",
    "    train = optimizer.minimize(loss)\n",
    "\n",
    "    init = tf.global_variables_initializer()\n",
    "\n",
    "    sess = tf.Session()\n",
    "    sess.run(init)\n",
    "    losses = []\n",
    "\n",
    "    for step in range(TRAIN_STEPS):\n",
    "        training_data, lables = GetNextBatch(train_inputs, train_lables, step)\n",
    "        inputs = np.reshape(training_data, (BATCH_SIZE, SEQUENCE_LENGTH))\n",
    "        output = np.reshape(lables, (BATCH_SIZE, 1))\n",
    "\n",
    "        _, curLoss = sess.run([train, loss], feed_dict={X: inputs, Y: output})\n",
    "        losses.append(curLoss)\n",
    "\n",
    "        if (step % 9000 == 0):\n",
    "            mn = np.mean(losses[len(losses) - 9000: len(losses)])\n",
    "            #print(\"loss: \", mn)\n",
    "            #print(\"W = \", sess.run(W))\n",
    "\n",
    "    test_lables = np.reshape(test_lables, (len(test_lables), 1))\n",
    "    predictTest = sess.run(pred, feed_dict={X: test_inputs})\n",
    "\n",
    "    originalPredicted = np.exp(np.array(predictTest))\n",
    "\n",
    "    # if (absNorms is not None):\n",
    "    #     originalPredicted *= absNorms\n",
    "\n",
    "    originalTestOutputs = np.exp(test_lables.ravel())  # Why exp here ???!!\n",
    "    rse = ((originalPredicted / originalTestOutputs) - 1) ** 2\n",
    "    mapeAr = abs(1 - originalPredicted / originalTestOutputs)\n",
    "    finalW = sess.run(W)\n",
    "    print(\"Final W = \", finalW)\n",
    "\n",
    "#     print(\"W = \", sess.run(W))\n",
    "\n",
    "#     tr_inputs = np.reshape(train_inputs, (len(train_inputs), SEQUENCE_LENGTH))\n",
    "#     tr_output = np.reshape(train_lables, (len(train_lables), 1))\n",
    "#     trainLoss = sess.run(loss, feed_dict={X: tr_inputs[:30000], Y: tr_output[:30000]})\n",
    "#     print(\"train loss\", trainLoss)\n",
    "\n",
    "#     tst_inputs = np.reshape(test_inputs, (len(test_inputs), SEQUENCE_LENGTH))\n",
    "#     tst_output = np.reshape(test_lables, (len(test_lables), 1))\n",
    "#     testLoss = sess.run(loss, feed_dict={X: tst_inputs[:30000], Y: tst_output[:30000]})\n",
    "#     print(\"testLoss loss\", testLoss)\n",
    "\n",
    "#     predictTrain = sess.run(pred, feed_dict={X: tr_inputs})\n",
    "#     originalTrainPredicted = np.exp(np.array(predictTrain))\n",
    "#     originalTrainOutputs = np.exp(train_lables.ravel())\n",
    "#     mapeAr_train = abs(1 - originalTrainPredicted / originalTrainOutputs)\n",
    "#     print(\"mapeAr_train mean\", mapeAr_train.mean())\n",
    "\n",
    "#     mn = pd.rolling_mean(np.array(losses), 500)\n",
    "#     plt.plot(mn[500:])\n",
    "#     plt.show()\n",
    "\n",
    "    return mapeAr.mean(), mapeAr.std(), finalW\n",
    "\n",
    "\n",
    "def ExtractNormilizedSequences(listOfVideoViews, seqLen, minLen, maxLen):\n",
    "    if (not minLen):\n",
    "        minLen = 0\n",
    "\n",
    "    if (not maxLen):\n",
    "        maxLen = 10e+10\n",
    "\n",
    "    datas = []\n",
    "    lables = []\n",
    "    for s in listOfVideoViews:\n",
    "        if (len(s) > minLen and len(s) < maxLen):\n",
    "            data = np.array(s[:seqLen])\n",
    "            maxData = np.max(data)  # data[seqLen - 1]\n",
    "            if (maxData > 0):\n",
    "                data = data / maxData\n",
    "                datas.append(data)\n",
    "\n",
    "    return np.array(datas)\n",
    "\n",
    "\n",
    "def TestParams(listOfTrainVideoViews, listOfTestVideoViews, seqLength, lableShift, minLimit, maxLimit):\n",
    "    train_inputs, train_lables = ExtractSequenes(listOfTrainVideoViews, seqLength, lableShift, minLimit, maxLimit)\n",
    "    \n",
    "    test_inputs, test_lables = ExtractSequenes(listOfTestVideoViews, seqLength, lableShift, minLimit, maxLimit)\n",
    "    mapeMean, mapeVar, finalW = TrainModel(train_inputs, train_lables, test_inputs, test_lables, seqLength)\n",
    "    return mapeMean, mapeVar, finalW\n",
    "\n",
    "def GetRegrouppedViews(trainDf, testDf):\n",
    "    return DfToList(trainDf), DfToList(testDf)\n",
    "\n",
    "\n",
    "def AddTrend(x, y):\n",
    "    z = np.polyfit(x, y, 1)\n",
    "    p = np.poly1d(z)\n",
    "    plt.plot(x, p(x), \"r--\")\n",
    "\n",
    "\n",
    "def Plot(dataL, step=1):\n",
    "    rseMean, rseVar, mapeMean, mapeVar = zip(*dataL)\n",
    "    # calc the trendline\n",
    "    x = np.arange(start=0, stop=len(mapeMean), step=step)\n",
    "    y = mapeMean\n",
    "    plt.title('MAPE mean')\n",
    "    plt.gca().yaxis.set_major_formatter(FuncFormatter(lambda y, _: '{:.0%}'.format(y)))\n",
    "    AddTrend(x, y)\n",
    "    plt.plot(x, y)\n",
    "    plt.show()\n",
    "\n",
    "    x = np.arange(len(mapeVar))\n",
    "    y = mapeVar\n",
    "    plt.title('MAPE var')\n",
    "    AddTrend(x, y)\n",
    "    plt.gca().yaxis.set_major_formatter(FuncFormatter(lambda y, _: '{:.0%}'.format(y)))\n",
    "    plt.plot(x, y)\n",
    "    plt.show()\n",
    "\n",
    "    minInd = np.argmin(mapeMean)\n",
    "\n",
    "    print(\"Min at index: {}; val: {}%\".format(minInd, x[minInd] * 100.0))\n",
    "\n",
    "\n",
    "def TestSeqLenPerf(listOfTrainVideoViews, listOfTestVideoViews, predDelta, maxSeqLen, seqLenStep=1, minLimit=None,\n",
    "                   maxLimit=None):\n",
    "    dataL = []\n",
    "\n",
    "    for seqLen in range(1, maxSeqLen, seqLenStep):\n",
    "        print(\"{} from {}\".format(seqLen, maxSeqLen), end=\"\\r\")\n",
    "        statsTuple = TestParams(listOfTrainVideoViews, listOfTestVideoViews, seqLen, predDelta, minLimit, maxLimit)\n",
    "        dataL.append(statsTuple)\n",
    "\n",
    "    return dataL\n",
    "\n",
    "\n",
    "def TestSeqPredDeltaPerf(listOfTrainVideoViews, listOfTestVideoViews, seqLen, maxPredDelta, predDeltaStep=1,\n",
    "                         minLimit=None, maxLimit=None):\n",
    "    dataL = []\n",
    "\n",
    "    for predDelta in range(1, maxPredDelta, predDeltaStep):\n",
    "        #print(\"{} from {}\".format(predDelta, maxPredDelta), end=\"\\r\")\n",
    "        print(\"{} from {}\".format(predDelta, maxPredDelta))\n",
    "        statsTuple = TestParams(listOfTrainVideoViews, listOfTestVideoViews, seqLen, predDelta, minLimit, maxLimit)\n",
    "        dataL.append(statsTuple)\n",
    "\n",
    "    return dataL\n",
    "\n",
    "def GetDeltasStats(listOfTrainVideoViews, listOfTestVideoViews, seqLen, maxPredDelta, predDeltaStep=1,\n",
    "                         minLimit=None, maxLimit=None):\n",
    "    dataL = []\n",
    "\n",
    "    for predDelta in range(1, maxPredDelta, predDeltaStep):\n",
    "        print(\"{} from {}\".format(predDelta, maxPredDelta))\n",
    "        statsTuple = TestParams(listOfTrainVideoViews, listOfTestVideoViews, seqLen, predDelta, minLimit, maxLimit)\n",
    "        dataL.append(statsTuple)\n",
    "\n",
    "    return dataL\n"
   ]
  },
  {
   "cell_type": "code",
   "execution_count": 5,
   "metadata": {
    "collapsed": true
   },
   "outputs": [],
   "source": [
    "trainDf = LoadData('train')\n",
    "testDf = LoadData('validation')"
   ]
  },
  {
   "cell_type": "code",
   "execution_count": 6,
   "metadata": {
    "collapsed": true
   },
   "outputs": [],
   "source": [
    "trainViewsD, testViewsD = GetRegrouppedViews(trainDf, testDf)"
   ]
  },
  {
   "cell_type": "code",
   "execution_count": null,
   "metadata": {
    "collapsed": true
   },
   "outputs": [],
   "source": [
    "start = time.time()\n",
    "\n",
    "statsTuple4 = TestParams(trainViewsD, testViewsD, 26, 120, minLimit = 180, maxLimit = None)\n",
    "print(statsTuple4)\n",
    "\n",
    "end = time.time()\n",
    "print(\"Elapsed: \", end - start)"
   ]
  },
  {
   "cell_type": "code",
   "execution_count": 7,
   "metadata": {},
   "outputs": [
    {
     "name": "stdout",
     "output_type": "stream",
     "text": [
      "Final W =  [[ 0.14267205]\n",
      " [ 0.14270554]\n",
      " [ 0.14274073]\n",
      " [ 0.1427795 ]\n",
      " [ 0.14281748]\n",
      " [ 0.14285892]\n",
      " [ 0.14290227]]\n",
      "(0.0093643633792315252, 0.0010133639779925558, 0.061539533548144308, 0.0055772491899083515)\n",
      "Elapsed:  20.334311723709106\n"
     ]
    }
   ],
   "source": [
    "start = time.time()\n",
    "\n",
    "statsTuple4 = TestParams(trainViewsD, testViewsD, 7, 30, minLimit = 180, maxLimit = None)\n",
    "print(statsTuple4)\n",
    "\n",
    "end = time.time()\n",
    "print(\"Elapsed: \", end - start)"
   ]
  },
  {
   "cell_type": "code",
   "execution_count": 6,
   "metadata": {},
   "outputs": [
    {
     "name": "stdout",
     "output_type": "stream",
     "text": [
      "Final W =  [[ 0.02739497]\n",
      " [ 0.0283144 ]\n",
      " [ 0.02922882]\n",
      " [ 0.03013889]\n",
      " [ 0.03104594]\n",
      " [ 0.03194813]\n",
      " [ 0.03284737]\n",
      " [ 0.0337435 ]\n",
      " [ 0.03463593]\n",
      " [ 0.03552384]\n",
      " [ 0.03640951]\n",
      " [ 0.03729248]\n",
      " [ 0.03817254]\n",
      " [ 0.0390501 ]\n",
      " [ 0.03992458]\n",
      " [ 0.0407968 ]\n",
      " [ 0.041665  ]\n",
      " [ 0.04253018]\n",
      " [ 0.04339216]\n",
      " [ 0.04425192]\n",
      " [ 0.04510824]\n",
      " [ 0.04595961]\n",
      " [ 0.04680723]\n",
      " [ 0.04765006]\n",
      " [ 0.04848742]\n",
      " [ 0.04932073]]\n",
      "(0.054591405656834124, 0.0065590371560504636, array([[ 0.02739497],\n",
      "       [ 0.0283144 ],\n",
      "       [ 0.02922882],\n",
      "       [ 0.03013889],\n",
      "       [ 0.03104594],\n",
      "       [ 0.03194813],\n",
      "       [ 0.03284737],\n",
      "       [ 0.0337435 ],\n",
      "       [ 0.03463593],\n",
      "       [ 0.03552384],\n",
      "       [ 0.03640951],\n",
      "       [ 0.03729248],\n",
      "       [ 0.03817254],\n",
      "       [ 0.0390501 ],\n",
      "       [ 0.03992458],\n",
      "       [ 0.0407968 ],\n",
      "       [ 0.041665  ],\n",
      "       [ 0.04253018],\n",
      "       [ 0.04339216],\n",
      "       [ 0.04425192],\n",
      "       [ 0.04510824],\n",
      "       [ 0.04595961],\n",
      "       [ 0.04680723],\n",
      "       [ 0.04765006],\n",
      "       [ 0.04848742],\n",
      "       [ 0.04932073]], dtype=float32))\n"
     ]
    }
   ],
   "source": [
    "statsTuple4 = TestParams(trainViewsD, testViewsD, 26, 30, minLimit = 180, maxLimit = None)\n",
    "print(statsTuple4)"
   ]
  },
  {
   "cell_type": "code",
   "execution_count": null,
   "metadata": {},
   "outputs": [
    {
     "name": "stdout",
     "output_type": "stream",
     "text": [
      "1 from 120\n",
      "Final W =  [[-0.01704628]\n",
      " [-0.0118172 ]\n",
      " [-0.00698762]\n",
      " [-0.00221506]\n",
      " [ 0.00234871]\n",
      " [ 0.00703329]\n",
      " [ 0.01168653]\n",
      " [ 0.01640361]\n",
      " [ 0.0213945 ]\n",
      " [ 0.02582366]\n",
      " [ 0.03007046]\n",
      " [ 0.03417314]\n",
      " [ 0.03824677]\n",
      " [ 0.04239038]\n",
      " [ 0.04656124]\n",
      " [ 0.05070356]\n",
      " [ 0.05485644]\n",
      " [ 0.05900588]\n",
      " [ 0.06263857]\n",
      " [ 0.06623467]\n",
      " [ 0.06937527]\n",
      " [ 0.07329607]\n",
      " [ 0.07680875]\n",
      " [ 0.08070105]\n",
      " [ 0.08427545]\n",
      " [ 0.08677129]]\n",
      "2 from 120\n",
      "Final W =  [[-0.01698972]\n",
      " [-0.01176979]\n",
      " [-0.00694091]\n",
      " [-0.0021804 ]\n",
      " [ 0.00237853]\n",
      " [ 0.00705283]\n",
      " [ 0.01170347]\n",
      " [ 0.01640511]\n",
      " [ 0.02139563]\n",
      " [ 0.02582463]\n",
      " [ 0.03006787]\n",
      " [ 0.03417578]\n",
      " [ 0.0382494 ]\n",
      " [ 0.04239688]\n",
      " [ 0.0465714 ]\n",
      " [ 0.05071751]\n",
      " [ 0.05487245]\n",
      " [ 0.05902208]\n",
      " [ 0.06263655]\n",
      " [ 0.06623102]\n",
      " [ 0.06939635]\n",
      " [ 0.07331023]\n",
      " [ 0.07682464]\n",
      " [ 0.08072777]\n",
      " [ 0.08429224]\n",
      " [ 0.08676994]]\n",
      "3 from 120\n",
      "Final W =  [[-0.01713341]\n",
      " [-0.01190464]\n",
      " [-0.0070661 ]\n",
      " [-0.00229708]\n",
      " [ 0.00227629]\n",
      " [ 0.00695591]\n",
      " [ 0.01162778]\n",
      " [ 0.01633363]\n",
      " [ 0.02133904]\n",
      " [ 0.02578734]\n",
      " [ 0.03004286]\n",
      " [ 0.03416664]\n",
      " [ 0.03825374]\n",
      " [ 0.04241653]\n",
      " [ 0.04660641]\n",
      " [ 0.05077146]\n",
      " [ 0.05494539]\n",
      " [ 0.05910914]\n",
      " [ 0.06272765]\n",
      " [ 0.06631493]\n",
      " [ 0.06952502]\n",
      " [ 0.07344516]\n",
      " [ 0.07697479]\n",
      " [ 0.08091278]\n",
      " [ 0.08446305]\n",
      " [ 0.08693913]]\n",
      "4 from 120\n",
      "Final W =  [[-0.01760317]\n",
      " [-0.01231743]\n",
      " [-0.00743199]\n",
      " [-0.0026204 ]\n",
      " [ 0.00200253]\n",
      " [ 0.00671289]\n",
      " [ 0.01143462]\n",
      " [ 0.01616507]\n",
      " [ 0.0212048 ]\n",
      " [ 0.02569944]\n",
      " [ 0.02998695]\n",
      " [ 0.0341426 ]\n",
      " [ 0.03826547]\n",
      " [ 0.04246648]\n",
      " [ 0.0466917 ]\n",
      " [ 0.05089271]\n",
      " [ 0.05510094]\n",
      " [ 0.059289  ]\n",
      " [ 0.06293763]\n",
      " [ 0.06651516]\n",
      " [ 0.06980382]\n",
      " [ 0.07375101]\n",
      " [ 0.07731566]\n",
      " [ 0.0813163 ]\n",
      " [ 0.08484629]\n",
      " [ 0.08733816]]\n",
      "5 from 120\n",
      "Final W =  [[-0.01789176]\n",
      " [-0.01256949]\n",
      " [-0.00764919]\n",
      " [-0.00280929]\n",
      " [ 0.0018531 ]\n",
      " [ 0.00658006]\n",
      " [ 0.01134017]\n",
      " [ 0.01609285]\n",
      " [ 0.02116559]\n",
      " [ 0.02569196]\n",
      " [ 0.02999778]\n",
      " [ 0.0341829 ]\n",
      " [ 0.0383231 ]\n",
      " [ 0.04254228]\n",
      " [ 0.04678466]\n",
      " [ 0.05099989]\n",
      " [ 0.05522379]\n",
      " [ 0.05941555]\n",
      " [ 0.06307188]\n",
      " [ 0.06662497]\n",
      " [ 0.06995752]\n",
      " [ 0.07390402]\n",
      " [ 0.07747335]\n",
      " [ 0.0814999 ]\n",
      " [ 0.08499896]\n",
      " [ 0.0874784 ]]\n",
      "6 from 120\n",
      "Final W =  [[-0.01805734]\n",
      " [-0.01273408]\n",
      " [-0.00779907]\n",
      " [-0.00295178]\n",
      " [ 0.00171866]\n",
      " [ 0.00644515]\n",
      " [ 0.01121697]\n",
      " [ 0.01597819]\n",
      " [ 0.02105639]\n",
      " [ 0.02560374]\n",
      " [ 0.029923  ]\n",
      " [ 0.03411725]\n",
      " [ 0.03828106]\n",
      " [ 0.04252627]\n",
      " [ 0.04679531]\n",
      " [ 0.05103844]\n",
      " [ 0.05528945]\n",
      " [ 0.0595018 ]\n",
      " [ 0.06318406]\n",
      " [ 0.06673345]\n",
      " [ 0.07013468]\n",
      " [ 0.07410685]\n",
      " [ 0.07770678]\n",
      " [ 0.08178384]\n",
      " [ 0.08527334]\n",
      " [ 0.08777762]]\n",
      "7 from 120\n",
      "Final W =  [[-0.0181109 ]\n",
      " [-0.01278244]\n",
      " [-0.00783956]\n",
      " [-0.00297763]\n",
      " [ 0.00170789]\n",
      " [ 0.00643207]\n",
      " [ 0.01121728]\n",
      " [ 0.01598262]\n",
      " [ 0.02106227]\n",
      " [ 0.02561191]\n",
      " [ 0.02992913]\n",
      " [ 0.03413136]\n",
      " [ 0.03829832]\n",
      " [ 0.04254969]\n",
      " [ 0.04682467]\n",
      " [ 0.05107094]\n",
      " [ 0.05532558]\n",
      " [ 0.05953628]\n",
      " [ 0.06321884]\n",
      " [ 0.06674547]\n",
      " [ 0.07018438]\n",
      " [ 0.07415144]\n",
      " [ 0.07775591]\n",
      " [ 0.08184977]\n",
      " [ 0.08532089]\n",
      " [ 0.08782667]]\n",
      "8 from 120\n",
      "Final W =  [[-0.01811773]\n",
      " [-0.01278698]\n",
      " [-0.00784273]\n",
      " [-0.00297429]\n",
      " [ 0.00171693]\n",
      " [ 0.00643844]\n",
      " [ 0.01123283]\n",
      " [ 0.01600159]\n",
      " [ 0.02108503]\n",
      " [ 0.02563431]\n",
      " [ 0.02994216]\n",
      " [ 0.03414872]\n",
      " [ 0.03831206]\n",
      " [ 0.04256268]\n",
      " [ 0.04683865]\n",
      " [ 0.05108637]\n",
      " [ 0.05534338]\n",
      " [ 0.05955035]\n",
      " [ 0.06323054]\n",
      " [ 0.0667362 ]\n",
      " [ 0.07021122]\n",
      " [ 0.07417259]\n",
      " [ 0.07778315]\n",
      " [ 0.081892  ]\n",
      " [ 0.08534477]\n",
      " [ 0.0878541 ]]\n",
      "9 from 120\n",
      "Final W =  [[-0.01831904]\n",
      " [-0.01298382]\n",
      " [-0.00803251]\n",
      " [-0.00314045]\n",
      " [ 0.00156452]\n",
      " [ 0.00629771]\n",
      " [ 0.01111265]\n",
      " [ 0.01590053]\n",
      " [ 0.02099316]\n",
      " [ 0.02556933]\n",
      " [ 0.02989239]\n",
      " [ 0.03411508]\n",
      " [ 0.03829988]\n",
      " [ 0.04257379]\n",
      " [ 0.04687191]\n",
      " [ 0.05114525]\n",
      " [ 0.05542737]\n",
      " [ 0.05964616]\n",
      " [ 0.06335591]\n",
      " [ 0.06684401]\n",
      " [ 0.07038292]\n",
      " [ 0.07436174]\n",
      " [ 0.07799768]\n",
      " [ 0.08215214]\n",
      " [ 0.0855864 ]\n",
      " [ 0.08813914]]\n",
      "10 from 120\n",
      "Final W =  [[-0.01851815]\n",
      " [-0.01315825]\n",
      " [-0.00817816]\n",
      " [-0.00324761]\n",
      " [ 0.00148667]\n",
      " [ 0.00624373]\n",
      " [ 0.01108965]\n",
      " [ 0.0158947 ]\n",
      " [ 0.02100107]\n",
      " [ 0.02559224]\n",
      " [ 0.02991309]\n",
      " [ 0.03415112]\n",
      " [ 0.03834458]\n",
      " [ 0.04262745]\n",
      " [ 0.04692854]\n",
      " [ 0.05121216]\n",
      " [ 0.05550118]\n",
      " [ 0.05971642]\n",
      " [ 0.06343313]\n",
      " [ 0.06689011]\n",
      " [ 0.07047279]\n",
      " [ 0.07444835]\n",
      " [ 0.07808836]\n",
      " [ 0.08226494]\n",
      " [ 0.08567242]\n",
      " [ 0.08824316]]\n",
      "11 from 120\n",
      "Final W =  [[-0.01874805]\n",
      " [-0.01337931]\n",
      " [-0.00838829]\n",
      " [-0.00343686]\n",
      " [ 0.00131234]\n",
      " [ 0.00608256]\n",
      " [ 0.01095193]\n",
      " [ 0.01578224]\n",
      " [ 0.02090809]\n",
      " [ 0.02553288]\n",
      " [ 0.02987292]\n",
      " [ 0.03413311]\n",
      " [ 0.03835186]\n",
      " [ 0.04266134]\n",
      " [ 0.04698311]\n",
      " [ 0.05129879]\n",
      " [ 0.05561103]\n",
      " [ 0.05983458]\n",
      " [ 0.06357982]\n",
      " [ 0.06701246]\n",
      " [ 0.07065501]\n",
      " [ 0.07464258]\n",
      " [ 0.07830046]\n",
      " [ 0.08251324]\n",
      " [ 0.08589344]\n",
      " [ 0.08850361]]\n",
      "12 from 120\n",
      "Final W =  [[-0.01882387]\n",
      " [-0.01345417]\n",
      " [-0.008462  ]\n",
      " [-0.00350341]\n",
      " [ 0.00125645]\n",
      " [ 0.0060351 ]\n",
      " [ 0.01091458]\n",
      " [ 0.01575167]\n",
      " [ 0.02088279]\n",
      " [ 0.02551702]\n",
      " [ 0.02985839]\n",
      " [ 0.03412824]\n",
      " [ 0.03835258]\n",
      " [ 0.0426721 ]\n",
      " [ 0.04700181]\n",
      " [ 0.05132872]\n",
      " [ 0.05565172]\n",
      " [ 0.0598793 ]\n",
      " [ 0.06363802]\n",
      " [ 0.06705181]\n",
      " [ 0.07073934]\n",
      " [ 0.07473083]\n",
      " [ 0.07839994]\n",
      " [ 0.08263773]\n",
      " [ 0.08599908]\n",
      " [ 0.08863794]]\n",
      "13 from 120\n",
      "Final W =  [[-0.01893454]\n",
      " [-0.01355548]\n",
      " [-0.00855588]\n",
      " [-0.00358908]\n",
      " [ 0.00118446]\n",
      " [ 0.00597339]\n",
      " [ 0.01086806]\n",
      " [ 0.01571883]\n",
      " [ 0.02085594]\n",
      " [ 0.02550498]\n",
      " [ 0.02984781]\n",
      " [ 0.03413398]\n",
      " [ 0.0383635 ]\n",
      " [ 0.04269379]\n",
      " [ 0.04703334]\n",
      " [ 0.05137018]\n",
      " [ 0.05570272]\n",
      " [ 0.05993209]\n",
      " [ 0.06369967]\n",
      " [ 0.06709078]\n",
      " [ 0.07082656]\n",
      " [ 0.07482197]\n",
      " [ 0.07850497]\n",
      " [ 0.08277263]\n",
      " [ 0.08611999]\n",
      " [ 0.08879435]]\n",
      "14 from 120\n",
      "Final W =  [[-0.01922715]\n",
      " [-0.01382976]\n",
      " [-0.00881116]\n",
      " [-0.00382119]\n",
      " [ 0.00098572]\n",
      " [ 0.0057966 ]\n",
      " [ 0.01071914]\n",
      " [ 0.01559369]\n",
      " [ 0.020739  ]\n",
      " [ 0.02542476]\n",
      " [ 0.0297872 ]\n",
      " [ 0.03409573]\n",
      " [ 0.03834993]\n",
      " [ 0.04271229]\n",
      " [ 0.0470832 ]\n",
      " [ 0.05145065]\n",
      " [ 0.05581483]\n",
      " [ 0.06005648]\n",
      " [ 0.06386233]\n",
      " [ 0.06723605]\n",
      " [ 0.07104069]\n",
      " [ 0.07505845]\n",
      " [ 0.07877002]\n",
      " [ 0.08307555]\n",
      " [ 0.08641516]\n",
      " [ 0.08914214]]\n",
      "15 from 120\n",
      "Final W =  [[-0.01933883]\n",
      " [-0.01392557]\n",
      " [-0.00889356]\n",
      " [-0.00389499]\n",
      " [ 0.00092863]\n",
      " [ 0.00574918]\n",
      " [ 0.01068347]\n",
      " [ 0.0155717 ]\n",
      " [ 0.02072309]\n",
      " [ 0.02542497]\n",
      " [ 0.02978862]\n",
      " [ 0.03411713]\n",
      " [ 0.03836755]\n",
      " [ 0.04273985]\n",
      " [ 0.04711927]\n",
      " [ 0.05149493]\n",
      " [ 0.05586566]\n",
      " [ 0.06010672]\n",
      " [ 0.06392194]\n",
      " [ 0.06727712]\n",
      " [ 0.07112103]\n",
      " [ 0.07513948]\n",
      " [ 0.07886487]\n",
      " [ 0.08317117]\n",
      " [ 0.08649863]\n",
      " [ 0.08925099]]\n",
      "16 from 120\n",
      "Final W =  [[-0.01947502]\n",
      " [-0.01406227]\n",
      " [-0.00902192]\n",
      " [-0.00401841]\n",
      " [ 0.00082388]\n",
      " [ 0.00565496]\n",
      " [ 0.010598  ]\n",
      " [ 0.01551114]\n",
      " [ 0.02066945]\n",
      " [ 0.02539451]\n",
      " [ 0.02976787]\n",
      " [ 0.03412058]\n",
      " [ 0.03837932]\n",
      " [ 0.04276901]\n",
      " [ 0.04716511]\n",
      " [ 0.05155699]\n",
      " [ 0.05594471]\n",
      " [ 0.06018671]\n",
      " [ 0.06402316]\n",
      " [ 0.06736031]\n",
      " [ 0.07124462]\n",
      " [ 0.07526463]\n",
      " [ 0.07901307]\n",
      " [ 0.08331225]\n",
      " [ 0.0866299 ]\n",
      " [ 0.08940729]]\n",
      "17 from 120\n",
      "Final W =  [[-0.01984269]\n",
      " [-0.01439315]\n",
      " [-0.00930999]\n",
      " [-0.00427894]\n",
      " [ 0.00060952]\n",
      " [ 0.00546954]\n",
      " [ 0.01043439]\n",
      " [ 0.01539112]\n",
      " [ 0.0205621 ]\n",
      " [ 0.02532971]\n",
      " [ 0.0297267 ]\n",
      " [ 0.03412526]\n",
      " [ 0.03838958]\n",
      " [ 0.04280559]\n",
      " [ 0.04722887]\n",
      " [ 0.05164842]\n",
      " [ 0.05606492]\n",
      " [ 0.06031321]\n",
      " [ 0.06418867]\n",
      " [ 0.06750984]\n",
      " [ 0.07146167]\n",
      " [ 0.07550542]\n",
      " [ 0.07930614]\n",
      " [ 0.08359892]\n",
      " [ 0.08693776]\n",
      " [ 0.08977344]]\n",
      "18 from 120\n",
      "Final W =  [[-0.01969811]\n",
      " [-0.01426918]\n",
      " [-0.0092048 ]\n",
      " [-0.00419563]\n",
      " [ 0.00068275]\n",
      " [ 0.00552802]\n",
      " [ 0.0104755 ]\n",
      " [ 0.01542694]\n",
      " [ 0.02058375]\n",
      " [ 0.02534567]\n",
      " [ 0.02973325]\n",
      " [ 0.03413583]\n",
      " [ 0.03838914]\n",
      " [ 0.04280171]\n",
      " [ 0.04722218]\n",
      " [ 0.05163879]\n",
      " [ 0.05605062]\n",
      " [ 0.06029076]\n",
      " [ 0.06415929]\n",
      " [ 0.06747186]\n",
      " [ 0.0714361 ]\n",
      " [ 0.07547086]\n",
      " [ 0.07927304]\n",
      " [ 0.08355191]\n",
      " [ 0.08688767]\n",
      " [ 0.08972646]]\n",
      "19 from 120\n",
      "Final W =  [[-0.02011572]\n",
      " [-0.01464164]\n",
      " [-0.00953784]\n",
      " [-0.00449326]\n",
      " [ 0.0004374 ]\n",
      " [ 0.00532011]\n",
      " [ 0.01029565]\n",
      " [ 0.01529648]\n",
      " [ 0.02046859]\n",
      " [ 0.02527772]\n",
      " [ 0.02969253]\n",
      " [ 0.03414611]\n",
      " [ 0.03840671]\n",
      " [ 0.04285249]\n",
      " [ 0.04730368]\n",
      " [ 0.05175157]\n",
      " [ 0.05619404]\n",
      " [ 0.0604406 ]\n",
      " [ 0.06435528]\n",
      " [ 0.06765176]\n",
      " [ 0.07167964]\n",
      " [ 0.07573554]\n",
      " [ 0.07958829]\n",
      " [ 0.08384357]\n",
      " [ 0.08719976]\n",
      " [ 0.09009492]]\n",
      "20 from 120\n",
      "Final W =  [[-0.0198118 ]\n",
      " [-0.0143662 ]\n",
      " [-0.00928665]\n",
      " [-0.0042728 ]\n",
      " [ 0.00063523]\n",
      " [ 0.00549034]\n",
      " [ 0.01043672]\n",
      " [ 0.01541767]\n",
      " [ 0.02056829]\n",
      " [ 0.02534983]\n",
      " [ 0.02973709]\n",
      " [ 0.03418067]\n",
      " [ 0.03841454]\n",
      " [ 0.04283882]\n",
      " [ 0.04726966]\n",
      " [ 0.05169719]\n",
      " [ 0.05612109]\n",
      " [ 0.06035031]\n",
      " [ 0.06423835]\n",
      " [ 0.06752592]\n",
      " [ 0.07154658]\n",
      " [ 0.07558098]\n",
      " [ 0.07941326]\n",
      " [ 0.08365978]\n",
      " [ 0.08699498]\n",
      " [ 0.08987736]]\n",
      "21 from 120\n"
     ]
    },
    {
     "name": "stdout",
     "output_type": "stream",
     "text": [
      "Final W =  [[-0.02009245]\n",
      " [-0.01461934]\n",
      " [-0.00951202]\n",
      " [-0.00447367]\n",
      " [ 0.00047297]\n",
      " [ 0.00535236]\n",
      " [ 0.01031677]\n",
      " [ 0.0153358 ]\n",
      " [ 0.02049838]\n",
      " [ 0.02530843]\n",
      " [ 0.02971249]\n",
      " [ 0.03419224]\n",
      " [ 0.03843374]\n",
      " [ 0.04287992]\n",
      " [ 0.04733476]\n",
      " [ 0.05178516]\n",
      " [ 0.05622774]\n",
      " [ 0.06045878]\n",
      " [ 0.06437882]\n",
      " [ 0.0676523 ]\n",
      " [ 0.07171877]\n",
      " [ 0.07576546]\n",
      " [ 0.07963239]\n",
      " [ 0.08385755]\n",
      " [ 0.087198  ]\n",
      " [ 0.09012225]]\n",
      "22 from 120\n",
      "Final W =  [[-0.02037749]\n",
      " [-0.01487959]\n",
      " [-0.00974464]\n",
      " [-0.00468888]\n",
      " [ 0.00029093]\n",
      " [ 0.0051913 ]\n",
      " [ 0.01017043]\n",
      " [ 0.01522765]\n",
      " [ 0.02040401]\n",
      " [ 0.02524502]\n",
      " [ 0.02967147]\n",
      " [ 0.03418745]\n",
      " [ 0.0384388 ]\n",
      " [ 0.04291163]\n",
      " [ 0.04738927]\n",
      " [ 0.05186334]\n",
      " [ 0.05633201]\n",
      " [ 0.06056591]\n",
      " [ 0.06452522]\n",
      " [ 0.06779087]\n",
      " [ 0.07190851]\n",
      " [ 0.0759752 ]\n",
      " [ 0.07988665]\n",
      " [ 0.08409724]\n",
      " [ 0.08744968]\n",
      " [ 0.09042504]]\n",
      "23 from 120\n"
     ]
    }
   ],
   "source": [
    "start = time.time()\n",
    "\n",
    "deltaStats = GetDeltasStats(trainViewsD, testViewsD, seqLen = 26,\n",
    "                                    maxPredDelta = 120, predDeltaStep = 1, minLimit = 180, maxLimit = None)\n",
    "\n",
    "end = time.time()\n",
    "print(\"Elapsed: \", end - start)"
   ]
  },
  {
   "cell_type": "code",
   "execution_count": 17,
   "metadata": {
    "collapsed": true
   },
   "outputs": [],
   "source": [
    "mapeAr, mapeVar, finalW = zip(*deltaStats)"
   ]
  },
  {
   "cell_type": "code",
   "execution_count": null,
   "metadata": {
    "collapsed": true
   },
   "outputs": [],
   "source": [
    "with open('deltaStats_2', 'wb') as handle:\n",
    "    pickle.dump(deltaStats, handle, protocol=pickle.HIGHEST_PROTOCOL)"
   ]
  },
  {
   "cell_type": "code",
   "execution_count": null,
   "metadata": {
    "collapsed": true
   },
   "outputs": [],
   "source": []
  },
  {
   "cell_type": "code",
   "execution_count": null,
   "metadata": {
    "collapsed": true
   },
   "outputs": [],
   "source": [
    "Plot(dSeqPred)"
   ]
  },
  {
   "cell_type": "code",
   "execution_count": null,
   "metadata": {
    "collapsed": true
   },
   "outputs": [],
   "source": [
    "# Test daily prediction prefomance up to one year using last 26 days. For videos with history more then 1 year.\n",
    "seqLen = 26\n",
    "    \n",
    "dataL = []\n",
    "maxPredDelta = 260\n",
    "minLimit = 360\n",
    "maxLimit = None\n",
    "\n",
    "for predDelta in range(211, maxPredDelta, 1):\n",
    "        print(\"{} from {}\".format(predDelta, maxPredDelta))\n",
    "        statsTuple = TestParams(trainViewsD, trainViewsD, seqLen, predDelta, minLimit, maxLimit)\n",
    "        dataL.append(statsTuple)\n",
    "\n",
    "Plot(dataL)"
   ]
  },
  {
   "cell_type": "code",
   "execution_count": 120,
   "metadata": {},
   "outputs": [
    {
     "data": {
      "image/png": "[encoded data removed]",
      "text/plain": [
       "<matplotlib.figure.Figure at 0x7f883f173978>"
      ]
     },
     "metadata": {},
     "output_type": "display_data"
    },
    {
     "data": {
      "image/png": "[encoded data removed]",
      "text/plain": [
       "<matplotlib.figure.Figure at 0x7f883e5e7c18>"
      ]
     },
     "metadata": {},
     "output_type": "display_data"
    },
    {
     "name": "stdout",
     "output_type": "stream",
     "text": [
      "Min at index: 3; val: 300.0%\n"
     ]
    }
   ],
   "source": [
    "Plot(dataL)"
   ]
  },
  {
   "cell_type": "code",
   "execution_count": 32,
   "metadata": {},
   "outputs": [
    {
     "name": "stdout",
     "output_type": "stream",
     "text": [
      "29 from 30\r"
     ]
    }
   ],
   "source": [
    "dSeqPred = TestSeqLenPerf(trainViewsD, testViewsD, 60, 30, seqLenStep=1, minLimit=360, \n",
    "                   maxLimit=None)"
   ]
  },
  {
   "cell_type": "code",
   "execution_count": 33,
   "metadata": {},
   "outputs": [
    {
     "data": {
      "image/png": "[encoded data removed]",
      "text/plain": [
       "<matplotlib.figure.Figure at 0x7f7d0013a208>"
      ]
     },
     "metadata": {},
     "output_type": "display_data"
    },
    {
     "data": {
      "text/plain": [
       "<matplotlib.figure.Figure at 0x7f7d0013a080>"
      ]
     },
     "metadata": {},
     "output_type": "display_data"
    },
    {
     "data": {
      "image/png": "[encoded data removed]",
      "text/plain": [
       "<matplotlib.figure.Figure at 0x7f7d04d2c710>"
      ]
     },
     "metadata": {},
     "output_type": "display_data"
    },
    {
     "data": {
      "text/plain": [
       "<matplotlib.figure.Figure at 0x7f7d04d2cb00>"
      ]
     },
     "metadata": {},
     "output_type": "display_data"
    },
    {
     "data": {
      "image/png": "[encoded data removed]",
      "text/plain": [
       "<matplotlib.figure.Figure at 0x7f7d2c1804e0>"
      ]
     },
     "metadata": {},
     "output_type": "display_data"
    },
    {
     "data": {
      "image/png": "[encoded data removed]",
      "text/plain": [
       "<matplotlib.figure.Figure at 0x7f7d2c158c88>"
      ]
     },
     "metadata": {},
     "output_type": "display_data"
    },
    {
     "data": {
      "image/png": "[encoded data removed]",
      "text/plain": [
       "<matplotlib.figure.Figure at 0x7f7d018d34e0>"
      ]
     },
     "metadata": {},
     "output_type": "display_data"
    },
    {
     "name": "stdout",
     "output_type": "stream",
     "text": [
      "Min at index: 1; val: 100.0%\n"
     ]
    }
   ],
   "source": [
    "Plot(dSeqPred)"
   ]
  },
  {
   "cell_type": "code",
   "execution_count": 25,
   "metadata": {},
   "outputs": [
    {
     "name": "stdout",
     "output_type": "stream",
     "text": [
      "1.51113304813\n"
     ]
    }
   ],
   "source": [
    "rseMean, rseVar, mapeMean, mapeVar = zip(*dSeqPred)\n",
    "print(mapeMean[56])\n",
    "# plt.plot(mapeMean)\n",
    "# plt.show()"
   ]
  },
  {
   "cell_type": "code",
   "execution_count": 30,
   "metadata": {},
   "outputs": [
    {
     "name": "stdout",
     "output_type": "stream",
     "text": [
      "(0.061632200314191886, 0.0028646838575015648, 0.2240592246728966, 0.011429664153172338)\n"
     ]
    }
   ],
   "source": [
    "statsTuple2 = TestParams(trainViewsD, testViewsD, 30, 56, minLimit = 360, maxLimit = None)\n",
    "print(statsTuple2)"
   ]
  },
  {
   "cell_type": "code",
   "execution_count": 53,
   "metadata": {},
   "outputs": [
    {
     "name": "stdout",
     "output_type": "stream",
     "text": [
      "(0.023438504552296079, 0.053837229848589199, 0.093689122233756125, 0.10642736050002977, 0.92067736995318006, 0.14364342556029261, 0.50134173005886529, 0.1893877461819122, 0.21482854856720371, 0.44875991113456348, 0.2340103151192077, 0.3072964315523467)\n"
     ]
    }
   ],
   "source": [
    "rseMean, rseVar, mapeMean, mapeVar = zip(*dSeqPred)\n",
    "print(mapeMean)"
   ]
  },
  {
   "cell_type": "code",
   "execution_count": 47,
   "metadata": {},
   "outputs": [
    {
     "name": "stdout",
     "output_type": "stream",
     "text": [
      "(0.012397810898559809, 0.002382165213488433, 0.058666371992402704, 0.0089560676958088392)\n"
     ]
    }
   ],
   "source": [
    "statsTuple2 = TestParams(trainViewsD, testViewsD, 26, 150, minLimit = 360, maxLimit = None)\n",
    "print(statsTuple2)"
   ]
  },
  {
   "cell_type": "code",
   "execution_count": 48,
   "metadata": {},
   "outputs": [
    {
     "name": "stdout",
     "output_type": "stream",
     "text": [
      "(0.024383772052560017, 0.0054264797405616273, 0.090952492888184591, 0.016111416089984752)\n"
     ]
    }
   ],
   "source": [
    "print(TestParams(trainViewsD, testViewsD, 26, 30 * 2, minLimit = 360, maxLimit = None))"
   ]
  },
  {
   "cell_type": "code",
   "execution_count": 110,
   "metadata": {},
   "outputs": [
    {
     "name": "stdout",
     "output_type": "stream",
     "text": [
      "(0.030970941850745098, 0.0048697365159474414, 0.13457778638812662, 0.012859761261616854)\n"
     ]
    }
   ],
   "source": [
    "statsTuple2 = TestParams(trainViewsD, testViewsD, 26, 30 * 3, minLimit = 360, maxLimit = None)\n",
    "print(statsTuple2)"
   ]
  },
  {
   "cell_type": "code",
   "execution_count": 109,
   "metadata": {},
   "outputs": [
    {
     "name": "stdout",
     "output_type": "stream",
     "text": [
      "(0.0399638883950795, 0.0092419259572782894, 0.13098310477646688, 0.022807314658196597)\n"
     ]
    }
   ],
   "source": [
    "statsTuple2 = TestParams(trainViewsD, testViewsD, 26, 30 * 4, minLimit = 360, maxLimit = None)\n",
    "print(statsTuple2)"
   ]
  },
  {
   "cell_type": "code",
   "execution_count": null,
   "metadata": {
    "collapsed": true
   },
   "outputs": [],
   "source": []
  },
  {
   "cell_type": "code",
   "execution_count": 108,
   "metadata": {},
   "outputs": [
    {
     "name": "stdout",
     "output_type": "stream",
     "text": [
      "(0.077016989098839805, 0.0091957638704973053, 0.23595655215083969, 0.021341494595927879)\n"
     ]
    }
   ],
   "source": [
    "statsTuple2 = TestParams(trainViewsD, testViewsD, 26, 30 * 5, minLimit = 360, maxLimit = None)\n",
    "print(statsTuple2)"
   ]
  },
  {
   "cell_type": "code",
   "execution_count": 107,
   "metadata": {},
   "outputs": [
    {
     "name": "stdout",
     "output_type": "stream",
     "text": [
      "(0.068557417520085165, 0.017340568638434969, 0.17840531895923173, 0.036728959687139968)\n"
     ]
    }
   ],
   "source": [
    "statsTuple2 = TestParams(trainViewsD, testViewsD, 26, 30 * 6, minLimit = 360, maxLimit = None)\n",
    "print(statsTuple2)\n"
   ]
  },
  {
   "cell_type": "code",
   "execution_count": 123,
   "metadata": {},
   "outputs": [
    {
     "name": "stdout",
     "output_type": "stream",
     "text": [
      "(0.07703924638005244, 0.020727509405807414, 0.19300380413119667, 0.039788777970939097)\n"
     ]
    }
   ],
   "source": [
    "# Bad perfomance here\n",
    "statsTuple2 = TestParams(trainViewsD, testViewsD, 26, 215, minLimit = 360, maxLimit = None)\n",
    "print(statsTuple2)"
   ]
  },
  {
   "cell_type": "code",
   "execution_count": 17,
   "metadata": {},
   "outputs": [
    {
     "name": "stdout",
     "output_type": "stream",
     "text": [
      "loss:  0.0170344\n",
      "loss:  0.00422531\n",
      "loss:  0.00394915\n",
      "loss:  0.0036728\n",
      "loss:  0.00300384\n",
      "loss:  0.00265028\n",
      "loss:  0.00279299\n",
      "loss:  0.004187\n",
      "loss:  0.00343638\n",
      "loss:  0.00298608\n",
      "loss:  6.43893\n",
      "loss:  0.0332543\n",
      "loss:  0.00366462\n",
      "loss:  0.00339968\n",
      "loss:  0.00269493\n",
      "loss:  0.0026204\n",
      "loss:  0.00283008\n",
      "loss:  0.00392323\n",
      "loss:  0.00304039\n",
      "loss:  0.00296548\n",
      "loss:  27.3094\n",
      "loss:  0.0714312\n",
      "loss:  0.00377397\n",
      "loss:  0.00312758\n",
      "loss:  0.00245757\n",
      "loss:  0.00260615\n",
      "loss:  0.0028427\n",
      "loss:  0.00363083\n",
      "loss:  0.00287138\n",
      "loss:  0.00294465\n",
      "loss:  62.8535\n",
      "loss:  0.109294\n",
      "loss:  0.00371296\n",
      "loss:  0.00287592\n",
      "loss:  0.00233111\n",
      "loss:  0.00249051\n",
      "loss:  0.00279129\n",
      "loss:  0.00337624\n",
      "loss:  0.00259179\n",
      "loss:  0.00270501\n",
      "loss:  113.239\n",
      "loss:  0.146682\n",
      "loss:  0.00341543\n",
      "loss:  0.00284391\n",
      "loss:  0.00217604\n",
      "loss:  0.00250562\n",
      "loss:  0.00287981\n",
      "loss:  0.00298514\n",
      "loss:  0.00229534\n",
      "loss:  0.00263769\n",
      "loss:  178.591\n",
      "loss:  0.182613\n",
      "loss:  0.00363664\n",
      "loss:  0.00254299\n",
      "loss:  0.00206939\n",
      "loss:  0.00231708\n",
      "loss:  0.00270976\n",
      "loss:  0.00320706\n",
      "loss:  0.0022214\n",
      "loss:  0.0024366\n",
      "loss:  259.047\n",
      "loss:  0.217612\n",
      "loss:  0.00342406\n",
      "loss:  0.00241197\n",
      "loss:  0.0020234\n",
      "loss:  0.00251475\n",
      "loss:  0.00255685\n",
      "loss:  0.00342194\n",
      "loss:  0.00194001\n",
      "loss:  0.00287789\n",
      "loss:  354.777\n",
      "loss:  0.251308\n",
      "loss:  0.00345062\n",
      "loss:  0.00233711\n",
      "loss:  0.00205889\n",
      "loss:  0.00216493\n",
      "loss:  0.00271432\n",
      "loss:  0.00279951\n",
      "loss:  0.00191363\n",
      "loss:  0.0025316\n",
      "loss:  465.936\n",
      "loss:  0.284053\n",
      "loss:  0.00327709\n",
      "loss:  0.00222972\n",
      "loss:  0.00190733\n",
      "loss:  0.0021709\n",
      "loss:  0.00271559\n",
      "loss:  0.00261168\n",
      "loss:  0.00181261\n",
      "loss:  0.00239921\n",
      "loss:  592.651\n",
      "loss:  0.315133\n",
      "loss:  0.00311609\n",
      "loss:  0.00225815\n",
      "loss:  0.00197847\n",
      "loss:  0.00212757\n",
      "loss:  0.00255265\n",
      "loss:  0.00241346\n",
      "loss:  0.00168025\n",
      "loss:  0.00239182\n"
     ]
    }
   ],
   "source": [
    "badPErf = TestSeqLenPerf(trainViewsD, testViewsD, predDelta = 26 * 10, maxSeqLen = 30,\n",
    "                   seqLenStep = 3, minLimit = 360, maxLimit = None)"
   ]
  },
  {
   "cell_type": "code",
   "execution_count": 18,
   "metadata": {},
   "outputs": [
    {
     "data": {
      "image/png": "[encoded data removed]",
      "text/plain": [
       "<matplotlib.figure.Figure at 0x7f88b8a4e390>"
      ]
     },
     "metadata": {},
     "output_type": "display_data"
    },
    {
     "data": {
      "image/png": "[encoded data removed]",
      "text/plain": [
       "<matplotlib.figure.Figure at 0x7f88a9e48cf8>"
      ]
     },
     "metadata": {},
     "output_type": "display_data"
    },
    {
     "name": "stdout",
     "output_type": "stream",
     "text": [
      "Min at index: 8; val: 800.0%\n"
     ]
    }
   ],
   "source": [
    "Plot(badPErf)"
   ]
  },
  {
   "cell_type": "code",
   "execution_count": 19,
   "metadata": {},
   "outputs": [
    {
     "data": {
      "text/plain": [
       "(0.085841099333417395,\n",
       " 0.026713412648721103,\n",
       " 0.21143140017591774,\n",
       " 0.041137862353068343)"
      ]
     },
     "execution_count": 19,
     "metadata": {},
     "output_type": "execute_result"
    }
   ],
   "source": [
    "badPErf[4]"
   ]
  },
  {
   "cell_type": "code",
   "execution_count": 20,
   "metadata": {},
   "outputs": [
    {
     "name": "stdout",
     "output_type": "stream",
     "text": [
      "loss:  0.00160499\n",
      "loss:  0.00117175\n",
      "loss:  0.00156658\n",
      "loss:  0.000814553\n",
      "loss:  0.00148469\n",
      "loss:  0.000988981\n",
      "loss:  0.00121203\n",
      "loss:  0.00102616\n",
      "loss:  0.000867133\n",
      "loss:  0.00136037\n",
      "loss:  0.00467841\n",
      "loss:  0.00113235\n",
      "loss:  0.00169052\n",
      "loss:  0.00101037\n",
      "loss:  0.0013561\n",
      "loss:  0.00111469\n",
      "loss:  0.00102777\n",
      "loss:  0.00103619\n",
      "loss:  0.000966834\n",
      "loss:  0.00136362\n",
      "loss:  0.00765718\n",
      "loss:  0.00140833\n",
      "loss:  0.00193736\n",
      "loss:  0.00140016\n",
      "loss:  0.00154107\n",
      "loss:  0.00133559\n",
      "loss:  0.00107899\n",
      "loss:  0.00126823\n",
      "loss:  0.00153833\n",
      "loss:  0.00138153\n",
      "loss:  0.00992685\n",
      "loss:  0.00171275\n",
      "loss:  0.00226059\n",
      "loss:  0.0018131\n",
      "loss:  0.00166745\n",
      "loss:  0.00163684\n",
      "loss:  0.00128192\n",
      "loss:  0.00141699\n",
      "loss:  0.00173116\n",
      "loss:  0.00178941\n",
      "loss:  0.0118223\n",
      "loss:  0.00202466\n",
      "loss:  0.00256733\n",
      "loss:  0.00215707\n",
      "loss:  0.00183336\n",
      "loss:  0.00189412\n",
      "loss:  0.00145562\n",
      "loss:  0.00172419\n",
      "loss:  0.00196609\n",
      "loss:  0.00225377\n",
      "loss:  0.0135655\n",
      "loss:  0.00235609\n",
      "loss:  0.00293284\n",
      "loss:  0.00252853\n",
      "loss:  0.00196163\n",
      "loss:  0.00202113\n",
      "loss:  0.00175278\n",
      "loss:  0.002299\n",
      "loss:  0.00232288\n",
      "loss:  0.00242959\n",
      "loss:  0.0147818\n",
      "loss:  0.00274331\n",
      "loss:  0.00327937\n",
      "loss:  0.0027246\n",
      "loss:  0.00253569\n",
      "loss:  0.00198287\n",
      "loss:  0.00213291\n",
      "loss:  0.00246042\n",
      "loss:  0.00280847\n",
      "loss:  0.00279893\n",
      "loss:  0.0156601\n",
      "loss:  0.00310716\n",
      "loss:  0.00353649\n",
      "loss:  0.00343396\n",
      "loss:  0.00261835\n",
      "loss:  0.0021802\n",
      "loss:  0.00249383\n",
      "loss:  0.0030364\n",
      "loss:  0.0030998\n",
      "loss:  0.00269031\n",
      "loss:  0.0165363\n",
      "loss:  0.0037565\n",
      "loss:  0.0037932\n",
      "loss:  0.00365117\n",
      "loss:  0.00275599\n",
      "loss:  0.00234453\n",
      "loss:  0.00325341\n",
      "loss:  0.00323196\n",
      "loss:  0.00359517\n",
      "loss:  0.00262421\n",
      "loss:  0.0173189\n",
      "loss:  0.00419146\n",
      "loss:  0.00435482\n",
      "loss:  0.00374097\n",
      "loss:  0.00288272\n",
      "loss:  0.00312911\n",
      "loss:  0.00356882\n",
      "loss:  0.00387142\n",
      "loss:  0.00319747\n",
      "loss:  0.00357614\n",
      "loss:  0.0180524\n",
      "loss:  0.00551507\n",
      "loss:  0.00418053\n",
      "loss:  0.00359443\n",
      "loss:  0.00325416\n",
      "loss:  0.00369343\n",
      "loss:  0.00389159\n",
      "loss:  0.00447663\n",
      "loss:  0.00364529\n",
      "loss:  0.00413509\n",
      "loss:  0.0188433\n",
      "loss:  0.00599597\n",
      "loss:  0.0046165\n",
      "loss:  0.00413589\n",
      "loss:  0.00307922\n",
      "loss:  0.00416476\n",
      "loss:  0.00499687\n",
      "loss:  0.00409058\n",
      "loss:  0.0044906\n",
      "loss:  0.00478694\n"
     ]
    }
   ],
   "source": [
    "# Test daily prediction prefomance up to one year using last 26 days. For videos with history more then 1 year.\n",
    "dSeqPred_oneD = TestSeqPredDeltaPerf(trainViewsD, testViewsD, seqLen = 1,\n",
    "                                    maxPredDelta = 360, predDeltaStep = 30, minLimit = 360, maxLimit = None)"
   ]
  },
  {
   "cell_type": "code",
   "execution_count": 21,
   "metadata": {},
   "outputs": [
    {
     "data": {
      "image/png": "[encoded data removed]",
      "text/plain": [
       "<matplotlib.figure.Figure at 0x7f88af37beb8>"
      ]
     },
     "metadata": {},
     "output_type": "display_data"
    },
    {
     "data": {
      "image/png": "[encoded data removed]",
      "text/plain": [
       "<matplotlib.figure.Figure at 0x7f88b96c0400>"
      ]
     },
     "metadata": {},
     "output_type": "display_data"
    },
    {
     "name": "stdout",
     "output_type": "stream",
     "text": [
      "Min at index: 0; val: 0.0%\n"
     ]
    }
   ],
   "source": [
    "Plot(dSeqPred_oneD)"
   ]
  },
  {
   "cell_type": "code",
   "execution_count": 22,
   "metadata": {},
   "outputs": [
    {
     "data": {
      "text/plain": [
       "0.44120838174683408"
      ]
     },
     "execution_count": 22,
     "metadata": {},
     "output_type": "execute_result"
    }
   ],
   "source": [
    "np.array(dSeqPred_oneD)[:,2][10]"
   ]
  },
  {
   "cell_type": "code",
   "execution_count": 23,
   "metadata": {},
   "outputs": [
    {
     "name": "stdout",
     "output_type": "stream",
     "text": [
      "loss:  0.0165018\n",
      "loss:  0.00395257\n",
      "loss:  0.00361027\n",
      "loss:  0.00363439\n",
      "loss:  0.00281947\n",
      "loss:  0.00224416\n",
      "loss:  0.00293108\n",
      "loss:  0.00321229\n",
      "loss:  0.00379484\n",
      "loss:  0.00263574\n",
      "(0.089464939553247205, 0.022844451636032589, 0.23526451906510945, 0.034115545622310006)\n"
     ]
    }
   ],
   "source": [
    "statsTuple_1d = TestParams(trainViewsD, testViewsD, 1, 8 * 30, minLimit = 360, maxLimit = None)\n",
    "print(statsTuple_1d)"
   ]
  },
  {
   "cell_type": "code",
   "execution_count": 24,
   "metadata": {},
   "outputs": [
    {
     "name": "stdout",
     "output_type": "stream",
     "text": [
      "loss:  0.0172888\n",
      "loss:  0.00436309\n",
      "loss:  0.00411329\n",
      "loss:  0.00382762\n",
      "loss:  0.00293512\n",
      "loss:  0.00302122\n",
      "loss:  0.00310927\n",
      "loss:  0.0040698\n",
      "loss:  0.0033267\n",
      "loss:  0.00354596\n",
      "(0.12422846777402635, 0.026114449297300071, 0.29329163854269907, 0.038208482534965074)\n"
     ]
    }
   ],
   "source": [
    "statsTuple_1d = TestParams(trainViewsD, testViewsD, 1, 9 * 30, minLimit = 360, maxLimit = None)\n",
    "print(statsTuple_1d)"
   ]
  },
  {
   "cell_type": "code",
   "execution_count": 25,
   "metadata": {},
   "outputs": [
    {
     "name": "stdout",
     "output_type": "stream",
     "text": [
      "loss:  0.0180274\n",
      "loss:  0.00551677\n",
      "loss:  0.00419505\n",
      "loss:  0.00365568\n",
      "loss:  0.00319845\n",
      "loss:  0.00340943\n",
      "loss:  0.00389684\n",
      "loss:  0.00456194\n",
      "loss:  0.00357757\n",
      "loss:  0.00420993\n",
      "(0.13815237332760169, 0.029998098520072649, 0.31024008633355366, 0.041903462159350792)\n"
     ]
    }
   ],
   "source": [
    "statsTuple_1d = TestParams(trainViewsD, testViewsD, 1, 10 * 30, minLimit = 360, maxLimit = None)\n",
    "print(statsTuple_1d)"
   ]
  },
  {
   "cell_type": "code",
   "execution_count": 26,
   "metadata": {},
   "outputs": [
    {
     "name": "stdout",
     "output_type": "stream",
     "text": [
      "loss:  0.014745\n",
      "loss:  0.00287382\n",
      "loss:  0.00312413\n",
      "loss:  0.00277396\n",
      "loss:  0.00228054\n",
      "loss:  0.00223252\n",
      "loss:  0.00201998\n",
      "loss:  0.00208925\n",
      "loss:  0.00290471\n",
      "loss:  0.00296832\n",
      "(0.068916421711631037, 0.016694599916906028, 0.20470527597999377, 0.027012171697585616)\n"
     ]
    }
   ],
   "source": [
    "statsTuple_1d = TestParams(trainViewsD, testViewsD, 1, 6 * 30, minLimit = 360, maxLimit = None)\n",
    "print(statsTuple_1d)"
   ]
  },
  {
   "cell_type": "code",
   "execution_count": 27,
   "metadata": {},
   "outputs": [
    {
     "name": "stdout",
     "output_type": "stream",
     "text": [
      "loss:  0.0188433\n",
      "loss:  0.00599597\n",
      "loss:  0.0046165\n",
      "loss:  0.00413589\n",
      "loss:  0.00307922\n",
      "loss:  0.00416476\n",
      "loss:  0.00499687\n",
      "loss:  0.00409058\n",
      "loss:  0.0044906\n",
      "loss:  0.00478694\n",
      "(0.13821691267274863, 0.032343103481023136, 0.30722003436854067, 0.043832763155341375)\n"
     ]
    }
   ],
   "source": [
    "statsTuple_1d = TestParams(trainViewsD, testViewsD, 1, 331, minLimit = 360, maxLimit = None)\n",
    "print(statsTuple_1d)"
   ]
  },
  {
   "cell_type": "code",
   "execution_count": 28,
   "metadata": {},
   "outputs": [
    {
     "data": {
      "text/plain": [
       "array([ 1479.,  1883.,  2021.,  2083.,  2127.,  2192.,  2223.,  2252.,\n",
       "        2279.,  2291.,  2306.,  2324.,  2338.,  2351.,  2356.])"
      ]
     },
     "execution_count": 28,
     "metadata": {},
     "output_type": "execute_result"
    }
   ],
   "source": [
    "trainViewsD[0]"
   ]
  },
  {
   "cell_type": "code",
   "execution_count": 29,
   "metadata": {},
   "outputs": [
    {
     "name": "stdout",
     "output_type": "stream",
     "text": [
      "loss:  0.0100878\n",
      "loss:  0.008201\n",
      "loss:  0.00671089\n",
      "loss:  0.00768345\n",
      "loss:  0.00784552\n",
      "loss:  0.00825246\n",
      "loss:  0.00722813\n",
      "loss:  0.00666448\n",
      "loss:  0.00785293\n",
      "loss:  0.00883569\n",
      "loss:  0.643611\n",
      "loss:  0.0143779\n",
      "loss:  0.00729171\n",
      "loss:  0.0073014\n",
      "loss:  0.00697531\n",
      "loss:  0.00753438\n",
      "loss:  0.00681189\n",
      "loss:  0.00726005\n",
      "loss:  0.00762265\n",
      "loss:  0.00889962\n",
      "loss:  2.91007\n",
      "loss:  0.0255287\n",
      "loss:  0.00696787\n",
      "loss:  0.00746943\n",
      "loss:  0.00796485\n",
      "loss:  0.00764642\n",
      "loss:  0.00682629\n",
      "loss:  0.0081328\n",
      "loss:  0.00716985\n",
      "loss:  0.0083311\n",
      "loss:  6.81748\n",
      "loss:  0.0382144\n",
      "loss:  0.00743301\n",
      "loss:  0.0072611\n",
      "loss:  0.00809846\n",
      "loss:  0.00737228\n",
      "loss:  0.007047\n",
      "loss:  0.00814501\n",
      "loss:  0.00772765\n",
      "loss:  0.00841123\n",
      "loss:  12.3727\n",
      "loss:  0.0505876\n",
      "loss:  0.00749548\n",
      "loss:  0.00712112\n",
      "loss:  0.00813311\n",
      "loss:  0.00811439\n",
      "loss:  0.00750203\n",
      "loss:  0.00770947\n",
      "loss:  0.00764778\n",
      "loss:  0.00783437\n",
      "loss:  19.5827\n",
      "loss:  0.0639951\n",
      "loss:  0.00714882\n",
      "loss:  0.00739044\n",
      "loss:  0.00804445\n",
      "loss:  0.00787119\n",
      "loss:  0.0072639\n",
      "loss:  0.00740881\n",
      "loss:  0.00826315\n",
      "loss:  0.0079734\n",
      "loss:  28.4555\n",
      "loss:  0.0763642\n",
      "loss:  0.00704505\n",
      "loss:  0.00729251\n",
      "loss:  0.00840777\n",
      "loss:  0.00750256\n",
      "loss:  0.00764825\n",
      "loss:  0.00659391\n",
      "loss:  0.0085104\n",
      "loss:  0.00759295\n",
      "loss:  38.9983\n",
      "loss:  0.0895643\n",
      "loss:  0.00778114\n",
      "loss:  0.00719564\n",
      "loss:  0.00847238\n",
      "loss:  0.00785885\n",
      "loss:  0.00781171\n",
      "loss:  0.00664292\n",
      "loss:  0.0088403\n",
      "loss:  0.00865808\n",
      "loss:  51.2169\n",
      "loss:  0.102314\n",
      "loss:  0.00687703\n",
      "loss:  0.00740572\n",
      "loss:  0.00860818\n",
      "loss:  0.00767414\n",
      "loss:  0.00808832\n",
      "loss:  0.00695316\n",
      "loss:  0.0091451\n",
      "loss:  0.00810008\n",
      "loss:  65.1149\n",
      "loss:  0.115243\n",
      "loss:  0.00746181\n",
      "loss:  0.00717831\n",
      "loss:  0.00868866\n",
      "loss:  0.00715099\n",
      "loss:  0.007382\n",
      "loss:  0.00635803\n",
      "loss:  0.00852433\n",
      "loss:  0.00740352\n",
      "loss:  80.6971\n",
      "loss:  0.128089\n",
      "loss:  0.00725609\n",
      "loss:  0.00728229\n",
      "loss:  0.00898017\n",
      "loss:  0.00731261\n",
      "loss:  0.00791798\n",
      "loss:  0.00659806\n",
      "loss:  0.00825769\n",
      "loss:  0.00816994\n",
      "loss:  97.9684\n",
      "loss:  0.139324\n",
      "loss:  0.00687408\n",
      "loss:  0.00709975\n",
      "loss:  0.00872316\n",
      "loss:  0.00735823\n",
      "loss:  0.00789222\n",
      "loss:  0.00681446\n",
      "loss:  0.00833273\n",
      "loss:  0.00781055\n",
      "loss:  116.938\n",
      "loss:  0.152305\n",
      "loss:  0.00637583\n",
      "loss:  0.00787513\n",
      "loss:  0.00930713\n",
      "loss:  0.00721191\n",
      "loss:  0.00772905\n",
      "loss:  0.00695795\n",
      "loss:  0.00812913\n",
      "loss:  0.00823504\n",
      "loss:  137.612\n",
      "loss:  0.164435\n",
      "loss:  0.00668922\n",
      "loss:  0.00704528\n",
      "loss:  0.00852839\n",
      "loss:  0.00752446\n",
      "loss:  0.00811393\n",
      "loss:  0.00721676\n",
      "loss:  0.00770099\n",
      "loss:  0.00777001\n",
      "loss:  159.998\n",
      "loss:  0.176175\n",
      "loss:  0.00675182\n",
      "loss:  0.00851383\n",
      "loss:  0.00804867\n",
      "loss:  0.00766764\n",
      "loss:  0.0077381\n",
      "loss:  0.00811861\n",
      "loss:  0.00864705\n",
      "loss:  0.0079985\n",
      "loss:  184.094\n",
      "loss:  0.187767\n",
      "loss:  0.00653527\n",
      "loss:  0.00799059\n",
      "loss:  0.00802182\n",
      "loss:  0.00726069\n",
      "loss:  0.00800246\n",
      "loss:  0.00765814\n",
      "loss:  0.00836828\n",
      "loss:  0.00826756\n",
      "loss:  209.896\n",
      "loss:  0.199338\n",
      "loss:  0.00710504\n",
      "loss:  0.0085432\n",
      "loss:  0.00801696\n",
      "loss:  0.00681784\n",
      "loss:  0.00721706\n",
      "loss:  0.00798843\n",
      "loss:  0.00752653\n",
      "loss:  0.00842098\n",
      "loss:  237.407\n",
      "loss:  0.211122\n",
      "loss:  0.00725522\n",
      "loss:  0.00814664\n",
      "loss:  0.00807678\n",
      "loss:  0.00756954\n",
      "loss:  0.00713774\n",
      "loss:  0.00771071\n",
      "loss:  0.00766205\n",
      "loss:  0.00920293\n",
      "loss:  266.627\n",
      "loss:  0.222196\n",
      "loss:  0.00668942\n",
      "loss:  0.00735729\n",
      "loss:  0.00839018\n",
      "loss:  0.0071572\n",
      "loss:  0.00790395\n",
      "loss:  0.00684907\n",
      "loss:  0.00888402\n",
      "loss:  0.0102142\n",
      "loss:  297.572\n",
      "loss:  0.23404\n",
      "loss:  0.00729628\n",
      "loss:  0.00779138\n",
      "loss:  0.00806838\n",
      "loss:  0.00700361\n",
      "loss:  0.00728841\n",
      "loss:  0.00772299\n",
      "loss:  0.00823395\n",
      "loss:  0.0102448\n",
      "loss:  330.243\n",
      "loss:  0.245192\n",
      "loss:  0.00724616\n",
      "loss:  0.00789393\n",
      "loss:  0.00795372\n",
      "loss:  0.00808085\n",
      "loss:  0.00777893\n",
      "loss:  0.00781212\n",
      "loss:  0.0088535\n",
      "loss:  0.010427\n",
      "loss:  364.652\n",
      "loss:  0.255949\n",
      "loss:  0.00743394\n",
      "loss:  0.00734987\n",
      "loss:  0.00840568\n",
      "loss:  0.0082467\n",
      "loss:  0.00760196\n",
      "loss:  0.0074774\n",
      "loss:  0.00771448\n",
      "loss:  0.0103444\n",
      "loss:  400.797\n",
      "loss:  0.267456\n",
      "loss:  0.00743077\n",
      "loss:  0.00756602\n",
      "loss:  0.00816474\n",
      "loss:  0.0083256\n",
      "loss:  0.00817201\n",
      "loss:  0.00796738\n",
      "loss:  0.00835667\n",
      "loss:  0.0106205\n",
      "loss:  438.679\n",
      "loss:  0.278248\n",
      "loss:  0.00728891\n",
      "loss:  0.00762116\n",
      "loss:  0.0076025\n",
      "loss:  0.00751387\n",
      "loss:  0.00821702\n",
      "loss:  0.00868522\n",
      "loss:  0.00853604\n",
      "loss:  0.0109491\n",
      "loss:  478.291\n",
      "loss:  0.28873\n",
      "loss:  0.00715882\n",
      "loss:  0.00783513\n",
      "loss:  0.00760996\n",
      "loss:  0.00836051\n",
      "loss:  0.00764696\n",
      "loss:  0.00871298\n",
      "loss:  0.00873997\n",
      "loss:  0.0121131\n",
      "loss:  519.649\n",
      "loss:  0.299252\n",
      "loss:  0.00720415\n",
      "loss:  0.0086091\n",
      "loss:  0.00812176\n",
      "loss:  0.0075948\n",
      "loss:  0.00747791\n",
      "loss:  0.00919511\n",
      "loss:  0.00808024\n",
      "loss:  0.0126539\n",
      "loss:  562.766\n",
      "loss:  0.309597\n",
      "loss:  0.00786144\n",
      "loss:  0.00768902\n",
      "loss:  0.00779194\n",
      "loss:  0.00834406\n",
      "loss:  0.00794762\n",
      "loss:  0.00895183\n",
      "loss:  0.00802451\n",
      "loss:  0.0116534\n",
      "loss:  607.644\n",
      "loss:  0.320505\n",
      "loss:  0.00807391\n",
      "loss:  0.00806601\n",
      "loss:  0.00814224\n",
      "loss:  0.0082215\n",
      "loss:  0.00771564\n",
      "loss:  0.00864253\n",
      "loss:  0.00871949\n",
      "loss:  0.00990943\n",
      "loss:  654.285\n",
      "loss:  0.330131\n",
      "loss:  0.00725462\n",
      "loss:  0.00810509\n",
      "loss:  0.00856553\n",
      "loss:  0.00893748\n",
      "loss:  0.00661961\n",
      "loss:  0.0087058\n",
      "loss:  0.00842919\n",
      "loss:  0.0104664\n",
      "loss:  702.689\n",
      "loss:  0.340578\n",
      "loss:  0.00768891\n",
      "loss:  0.00767532\n",
      "loss:  0.0087662\n",
      "loss:  0.00926082\n",
      "loss:  0.00682103\n",
      "loss:  0.00856961\n",
      "loss:  0.00859799\n",
      "loss:  0.00874849\n"
     ]
    }
   ],
   "source": [
    "# Test daily per sequence size one year ahead prediction prefomance.\n",
    "# For videos with history more then 1 year.\n",
    "# dOneTwoMonPred = TestSeqLenPerf(trainViewsD, trainViewsD, predDelta = 60, maxSeqLen = 30,\n",
    "#                    seqLenStep = 1, minLimit = 80, maxLimit = None)\n",
    "\n",
    "dOneYearPred_short_life = TestSeqLenPerf(trainViewsD, testViewsD, predDelta = 60, maxSeqLen = 30,\n",
    "                   seqLenStep = 1, minLimit = 61, maxLimit = 360)"
   ]
  },
  {
   "cell_type": "code",
   "execution_count": 30,
   "metadata": {},
   "outputs": [
    {
     "ename": "NameError",
     "evalue": "name 'dOneYearPred' is not defined",
     "output_type": "error",
     "traceback": [
      "\u001b[0;31m---------------------------------------------------------------------------\u001b[0m",
      "\u001b[0;31mNameError\u001b[0m                                 Traceback (most recent call last)",
      "\u001b[0;32m<ipython-input-30-c7941ea10795>\u001b[0m in \u001b[0;36m<module>\u001b[0;34m()\u001b[0m\n\u001b[0;32m----> 1\u001b[0;31m \u001b[0mPlot\u001b[0m\u001b[0;34m(\u001b[0m\u001b[0mdOneYearPred\u001b[0m\u001b[0;34m)\u001b[0m\u001b[0;34m\u001b[0m\u001b[0m\n\u001b[0m",
      "\u001b[0;31mNameError\u001b[0m: name 'dOneYearPred' is not defined"
     ]
    }
   ],
   "source": [
    "Plot(dOneYearPred)"
   ]
  },
  {
   "cell_type": "code",
   "execution_count": null,
   "metadata": {
    "collapsed": true
   },
   "outputs": [],
   "source": [
    "# Test daily prediction prefomance up to one year using last 7 days.\n",
    "# For videos with history < 1 year and > 38d.\n",
    "\n",
    "dSeqPred_short_life = TestSeqPredDeltaPerf(trainViewsD, testViewsD, seqLen = 7,\n",
    "                                    maxPredDelta = 60, predDeltaStep = 1, minLimit = 38, maxLimit = 360)"
   ]
  },
  {
   "cell_type": "code",
   "execution_count": null,
   "metadata": {
    "collapsed": true
   },
   "outputs": [],
   "source": [
    "Plot(dSeqPred_short_life)"
   ]
  },
  {
   "cell_type": "code",
   "execution_count": null,
   "metadata": {
    "collapsed": true
   },
   "outputs": [],
   "source": [
    "# Test daily per sequence size one month ahead prediction prefomance.\n",
    "# For videos with history < 1 year and > 61d.\n",
    "\n",
    "dOneYearPred_short_life = TestSeqLenPerf(trainViewsD, testViewsD, predDelta = 30, maxSeqLen = 30,\n",
    "                   seqLenStep = 1, minLimit = 61, maxLimit = 360)"
   ]
  },
  {
   "cell_type": "code",
   "execution_count": null,
   "metadata": {
    "collapsed": true
   },
   "outputs": [],
   "source": [
    "Plot(dOneYearPred_short_life)"
   ]
  },
  {
   "cell_type": "code",
   "execution_count": null,
   "metadata": {
    "collapsed": true
   },
   "outputs": [],
   "source": [
    "# Test daily per sequence size one year ahead prediction prefomance.\n",
    "# For videos with history more then 1 year.\n",
    "dOneYearPred = TestSeqLenPerf(trainViewsD, testViewsD, predDelta = 360, maxSeqLen = 40,\n",
    "                   seqLenStep = 5, minLimit = 360, maxLimit = None)"
   ]
  },
  {
   "cell_type": "code",
   "execution_count": null,
   "metadata": {
    "collapsed": true
   },
   "outputs": [],
   "source": [
    "Plot(dOneYearPred)"
   ]
  },
  {
   "cell_type": "code",
   "execution_count": null,
   "metadata": {
    "collapsed": true
   },
   "outputs": [],
   "source": [
    "rseMean, rseVar, mapeMean, mapeVar  = zip(*dOneYearPred)\n",
    "print(np.argmin(mapeMean))\n",
    "print(mapeMean[1])"
   ]
  },
  {
   "cell_type": "code",
   "execution_count": null,
   "metadata": {
    "collapsed": true
   },
   "outputs": [],
   "source": [
    "rseMean, rseVar, mapeMean, mapeVar  = zip(*dOneYearPred)\n",
    "mapeMean[1]"
   ]
  },
  {
   "cell_type": "code",
   "execution_count": 1,
   "metadata": {},
   "outputs": [
    {
     "ename": "NameError",
     "evalue": "name 'TestSeqPredDeltaPerf' is not defined",
     "output_type": "error",
     "traceback": [
      "\u001b[0;31m---------------------------------------------------------------------------\u001b[0m",
      "\u001b[0;31mNameError\u001b[0m                                 Traceback (most recent call last)",
      "\u001b[0;32m<ipython-input-1-4016ac0085ec>\u001b[0m in \u001b[0;36m<module>\u001b[0;34m()\u001b[0m\n\u001b[1;32m      1\u001b[0m \u001b[0;31m# Test daily prediction prefomance up to one year using last 26 days. For videos with history more then 1 year.\u001b[0m\u001b[0;34m\u001b[0m\u001b[0;34m\u001b[0m\u001b[0m\n\u001b[0;32m----> 2\u001b[0;31m dSeqPred = TestSeqPredDeltaPerf(trainViewsD, testD, seqLen = 7,\n\u001b[0m\u001b[1;32m      3\u001b[0m                                     maxPredDelta = 30, predDeltaStep = 1, minLimit = 37, maxLimit = 180)\n",
      "\u001b[0;31mNameError\u001b[0m: name 'TestSeqPredDeltaPerf' is not defined"
     ]
    }
   ],
   "source": [
    "# Test daily prediction prefomance up to one year using last 26 days. For videos with history more then 1 year.\n",
    "dSeqPred = TestSeqPredDeltaPerf(trainViewsD, testD, seqLen = 7,\n",
    "                                    maxPredDelta = 30, predDeltaStep = 1, minLimit = 37, maxLimit = 180)"
   ]
  },
  {
   "cell_type": "code",
   "execution_count": null,
   "metadata": {
    "collapsed": true
   },
   "outputs": [],
   "source": [
    "Plot(dSeqPred)"
   ]
  },
  {
   "cell_type": "code",
   "execution_count": null,
   "metadata": {
    "collapsed": true
   },
   "outputs": [],
   "source": [
    "rseMean, rseVar, mapeMean, mapeVar  = zip(*dSeqPred)\n",
    "ind = np.argmin(mapeMean)\n",
    "print(ind)\n",
    "print(mapeMean[ind])\n",
    "print(rseMean)"
   ]
  },
  {
   "cell_type": "code",
   "execution_count": null,
   "metadata": {
    "collapsed": true
   },
   "outputs": [],
   "source": [
    "# Test daily prediction prefomance up to one year using last 26 days. For videos with history more then 1 year.\n",
    "dSeqPred = TestSeqPredDeltaPerf(trainViewsD, testViewD, seqLen = 1,\n",
    "                                    maxPredDelta = 30, predDeltaStep = 7, minLimit = 37, maxLimit = 180)"
   ]
  },
  {
   "cell_type": "code",
   "execution_count": null,
   "metadata": {
    "collapsed": true
   },
   "outputs": [],
   "source": [
    "rseMean, rseVar, mapeMean, mapeVar  = zip(*dSeqPred)\n",
    "ind = np.argmin(mapeMean)\n",
    "print(ind)\n",
    "print(mapeMean[ind])"
   ]
  },
  {
   "cell_type": "code",
   "execution_count": null,
   "metadata": {
    "collapsed": true
   },
   "outputs": [],
   "source": [
    "rseMean"
   ]
  },
  {
   "cell_type": "code",
   "execution_count": null,
   "metadata": {
    "collapsed": true
   },
   "outputs": [],
   "source": [
    "Plot(dSeqPred)"
   ]
  },
  {
   "cell_type": "code",
   "execution_count": null,
   "metadata": {
    "collapsed": true
   },
   "outputs": [],
   "source": [
    "# from sklearn.neighbors import KNeighborsClassifier\n",
    "\n",
    "# def ExtractNormilizedSequences(listOfVideoViews, seqLen, minLen, maxLen):\n",
    "#     if(not minLen):\n",
    "#         minLen = 0\n",
    "\n",
    "#     if (not maxLen):\n",
    "#         maxLen = 10e+10\n",
    "\n",
    "    \n",
    "#     datas = []\n",
    "#     lables = []\n",
    "#     for s in listOfVideoViews:\n",
    "#         if (len(s) > minLen and len(s) < maxLen):\n",
    "#             data = np.array(s[:seqLen])\n",
    "#             maxData = data[seqLen - 1]\n",
    "#             data = data / maxData\n",
    "#             datas.append(data)\n",
    "\n",
    "# #     datas = np.log(datas) + STABLE_DELTA\n",
    "# #     lables = np.log(lables) + STABLE_DELTA\n",
    "#     return datas\n",
    "\n",
    "\n",
    "#test_inputs, test_lables = ExtractSequenes(listOfTestVideoViews, seqLength, lableShift, minLimit, maxLimit)"
   ]
  },
  {
   "cell_type": "code",
   "execution_count": 60,
   "metadata": {
    "collapsed": true
   },
   "outputs": [],
   "source": [
    "maxLimit = 360\n",
    "minLimit = 30\n",
    "seqLength = 30\n",
    "\n",
    "train_inputs = ExtractNormilizedSequences(trainViewsD, seqLength, minLimit, maxLimit)"
   ]
  },
  {
   "cell_type": "code",
   "execution_count": 64,
   "metadata": {},
   "outputs": [
    {
     "name": "stdout",
     "output_type": "stream",
     "text": [
      "24784\n"
     ]
    }
   ],
   "source": [
    "print(len(train_inputs))"
   ]
  },
  {
   "cell_type": "code",
   "execution_count": 63,
   "metadata": {
    "collapsed": true
   },
   "outputs": [],
   "source": [
    "CLUSTERS_COUNT = 6\n",
    "kmeans = KMeans(n_clusters=CLUSTERS_COUNT, random_state=0).fit(train_inputs)\n",
    "\n",
    "def PrintClusterExamples(clusterid, examplesCount = 10):\n",
    "    for i in range(examplesCount):\n",
    "        classInd = np.where(kmeans.labels_ == 0)[0]\n",
    "        plt.plot(train_inputs[classInd[i]])\n",
    "    plt.show()"
   ]
  },
  {
   "cell_type": "code",
   "execution_count": 65,
   "metadata": {},
   "outputs": [
    {
     "data": {
      "image/png": "[encoded data removed]",
      "text/plain": [
       "<matplotlib.figure.Figure at 0x7f8866bf0080>"
      ]
     },
     "metadata": {},
     "output_type": "display_data"
    },
    {
     "data": {
      "image/png": "[encoded data removed]",
      "text/plain": [
       "<matplotlib.figure.Figure at 0x7f8866bf00f0>"
      ]
     },
     "metadata": {},
     "output_type": "display_data"
    },
    {
     "data": {
      "image/png": "[encoded data removed]",
      "text/plain": [
       "<matplotlib.figure.Figure at 0x7f886dd406d8>"
      ]
     },
     "metadata": {},
     "output_type": "display_data"
    },
    {
     "data": {
      "image/png": "[encoded data removed]",
      "text/plain": [
       "<matplotlib.figure.Figure at 0x7f887e997550>"
      ]
     },
     "metadata": {},
     "output_type": "display_data"
    },
    {
     "data": {
      "image/png": "[encoded data removed]",
      "text/plain": [
       "<matplotlib.figure.Figure at 0x7f883cebe7b8>"
      ]
     },
     "metadata": {},
     "output_type": "display_data"
    },
    {
     "data": {
      "image/png": "[encoded data removed]",
      "text/plain": [
       "<matplotlib.figure.Figure at 0x7f886749d320>"
      ]
     },
     "metadata": {},
     "output_type": "display_data"
    },
    {
     "data": {
      "image/png": "[encoded data removed]",
      "text/plain": [
       "<matplotlib.figure.Figure at 0x7f88673da8d0>"
      ]
     },
     "metadata": {},
     "output_type": "display_data"
    }
   ],
   "source": [
    "EXAMPLES_COUNT = 8\n",
    "\n",
    "for i in range(CLUSTERS_COUNT):\n",
    "    classInd = np.where(kmeans.labels_ == i)[0]\n",
    "\n",
    "    for y in range(EXAMPLES_COUNT):\n",
    "        plt.plot(train_inputs[classInd[y]])\n",
    "    plt.show()\n"
   ]
  },
  {
   "cell_type": "code",
   "execution_count": 67,
   "metadata": {},
   "outputs": [
    {
     "ename": "ValueError",
     "evalue": "setting an array element with a sequence.",
     "output_type": "error",
     "traceback": [
      "\u001b[0;31m---------------------------------------------------------------------------\u001b[0m",
      "\u001b[0;31mValueError\u001b[0m                                Traceback (most recent call last)",
      "\u001b[0;32m<ipython-input-67-0ae55cbb2fdb>\u001b[0m in \u001b[0;36m<module>\u001b[0;34m()\u001b[0m\n\u001b[1;32m      3\u001b[0m \u001b[0;34m\u001b[0m\u001b[0m\n\u001b[1;32m      4\u001b[0m \u001b[0;31m#train_inputs = ExtractNormilizedSequences(trainViewsD, seqLength, minLimit, maxLimit)\u001b[0m\u001b[0;34m\u001b[0m\u001b[0;34m\u001b[0m\u001b[0m\n\u001b[0;32m----> 5\u001b[0;31m \u001b[0mkmeans\u001b[0m \u001b[0;34m=\u001b[0m \u001b[0mKMeans\u001b[0m\u001b[0;34m(\u001b[0m\u001b[0mn_clusters\u001b[0m\u001b[0;34m=\u001b[0m\u001b[0mCLUSTERS_COUNT\u001b[0m\u001b[0;34m,\u001b[0m \u001b[0mrandom_state\u001b[0m\u001b[0;34m=\u001b[0m\u001b[0;36m0\u001b[0m\u001b[0;34m)\u001b[0m\u001b[0;34m.\u001b[0m\u001b[0mfit\u001b[0m\u001b[0;34m(\u001b[0m\u001b[0mtrainViewsD\u001b[0m\u001b[0;34m)\u001b[0m\u001b[0;34m\u001b[0m\u001b[0m\n\u001b[0m\u001b[1;32m      6\u001b[0m \u001b[0;34m\u001b[0m\u001b[0m\n\u001b[1;32m      7\u001b[0m \u001b[0;32mfor\u001b[0m \u001b[0mi\u001b[0m \u001b[0;32min\u001b[0m \u001b[0mrange\u001b[0m\u001b[0;34m(\u001b[0m\u001b[0mCLUSTERS_COUNT\u001b[0m\u001b[0;34m)\u001b[0m\u001b[0;34m:\u001b[0m\u001b[0;34m\u001b[0m\u001b[0m\n",
      "\u001b[0;32m/usr/local/lib/python3.5/dist-packages/sklearn/cluster/k_means_.py\u001b[0m in \u001b[0;36mfit\u001b[0;34m(self, X, y)\u001b[0m\n\u001b[1;32m    878\u001b[0m         \"\"\"\n\u001b[1;32m    879\u001b[0m         \u001b[0mrandom_state\u001b[0m \u001b[0;34m=\u001b[0m \u001b[0mcheck_random_state\u001b[0m\u001b[0;34m(\u001b[0m\u001b[0mself\u001b[0m\u001b[0;34m.\u001b[0m\u001b[0mrandom_state\u001b[0m\u001b[0;34m)\u001b[0m\u001b[0;34m\u001b[0m\u001b[0m\n\u001b[0;32m--> 880\u001b[0;31m         \u001b[0mX\u001b[0m \u001b[0;34m=\u001b[0m \u001b[0mself\u001b[0m\u001b[0;34m.\u001b[0m\u001b[0m_check_fit_data\u001b[0m\u001b[0;34m(\u001b[0m\u001b[0mX\u001b[0m\u001b[0;34m)\u001b[0m\u001b[0;34m\u001b[0m\u001b[0m\n\u001b[0m\u001b[1;32m    881\u001b[0m \u001b[0;34m\u001b[0m\u001b[0m\n\u001b[1;32m    882\u001b[0m         \u001b[0mself\u001b[0m\u001b[0;34m.\u001b[0m\u001b[0mcluster_centers_\u001b[0m\u001b[0;34m,\u001b[0m \u001b[0mself\u001b[0m\u001b[0;34m.\u001b[0m\u001b[0mlabels_\u001b[0m\u001b[0;34m,\u001b[0m \u001b[0mself\u001b[0m\u001b[0;34m.\u001b[0m\u001b[0minertia_\u001b[0m\u001b[0;34m,\u001b[0m \u001b[0mself\u001b[0m\u001b[0;34m.\u001b[0m\u001b[0mn_iter_\u001b[0m \u001b[0;34m=\u001b[0m\u001b[0;31m \u001b[0m\u001b[0;31m\\\u001b[0m\u001b[0;34m\u001b[0m\u001b[0m\n",
      "\u001b[0;32m/usr/local/lib/python3.5/dist-packages/sklearn/cluster/k_means_.py\u001b[0m in \u001b[0;36m_check_fit_data\u001b[0;34m(self, X)\u001b[0m\n\u001b[1;32m    852\u001b[0m     \u001b[0;32mdef\u001b[0m \u001b[0m_check_fit_data\u001b[0m\u001b[0;34m(\u001b[0m\u001b[0mself\u001b[0m\u001b[0;34m,\u001b[0m \u001b[0mX\u001b[0m\u001b[0;34m)\u001b[0m\u001b[0;34m:\u001b[0m\u001b[0;34m\u001b[0m\u001b[0m\n\u001b[1;32m    853\u001b[0m         \u001b[0;34m\"\"\"Verify that the number of samples given is larger than k\"\"\"\u001b[0m\u001b[0;34m\u001b[0m\u001b[0m\n\u001b[0;32m--> 854\u001b[0;31m         \u001b[0mX\u001b[0m \u001b[0;34m=\u001b[0m \u001b[0mcheck_array\u001b[0m\u001b[0;34m(\u001b[0m\u001b[0mX\u001b[0m\u001b[0;34m,\u001b[0m \u001b[0maccept_sparse\u001b[0m\u001b[0;34m=\u001b[0m\u001b[0;34m'csr'\u001b[0m\u001b[0;34m,\u001b[0m \u001b[0mdtype\u001b[0m\u001b[0;34m=\u001b[0m\u001b[0;34m[\u001b[0m\u001b[0mnp\u001b[0m\u001b[0;34m.\u001b[0m\u001b[0mfloat64\u001b[0m\u001b[0;34m,\u001b[0m \u001b[0mnp\u001b[0m\u001b[0;34m.\u001b[0m\u001b[0mfloat32\u001b[0m\u001b[0;34m]\u001b[0m\u001b[0;34m)\u001b[0m\u001b[0;34m\u001b[0m\u001b[0m\n\u001b[0m\u001b[1;32m    855\u001b[0m         \u001b[0;32mif\u001b[0m \u001b[0mX\u001b[0m\u001b[0;34m.\u001b[0m\u001b[0mshape\u001b[0m\u001b[0;34m[\u001b[0m\u001b[0;36m0\u001b[0m\u001b[0;34m]\u001b[0m \u001b[0;34m<\u001b[0m \u001b[0mself\u001b[0m\u001b[0;34m.\u001b[0m\u001b[0mn_clusters\u001b[0m\u001b[0;34m:\u001b[0m\u001b[0;34m\u001b[0m\u001b[0m\n\u001b[1;32m    856\u001b[0m             raise ValueError(\"n_samples=%d should be >= n_clusters=%d\" % (\n",
      "\u001b[0;32m/usr/local/lib/python3.5/dist-packages/sklearn/utils/validation.py\u001b[0m in \u001b[0;36mcheck_array\u001b[0;34m(array, accept_sparse, dtype, order, copy, force_all_finite, ensure_2d, allow_nd, ensure_min_samples, ensure_min_features, warn_on_dtype, estimator)\u001b[0m\n\u001b[1;32m    380\u001b[0m                                       force_all_finite)\n\u001b[1;32m    381\u001b[0m     \u001b[0;32melse\u001b[0m\u001b[0;34m:\u001b[0m\u001b[0;34m\u001b[0m\u001b[0m\n\u001b[0;32m--> 382\u001b[0;31m         \u001b[0marray\u001b[0m \u001b[0;34m=\u001b[0m \u001b[0mnp\u001b[0m\u001b[0;34m.\u001b[0m\u001b[0marray\u001b[0m\u001b[0;34m(\u001b[0m\u001b[0marray\u001b[0m\u001b[0;34m,\u001b[0m \u001b[0mdtype\u001b[0m\u001b[0;34m=\u001b[0m\u001b[0mdtype\u001b[0m\u001b[0;34m,\u001b[0m \u001b[0morder\u001b[0m\u001b[0;34m=\u001b[0m\u001b[0morder\u001b[0m\u001b[0;34m,\u001b[0m \u001b[0mcopy\u001b[0m\u001b[0;34m=\u001b[0m\u001b[0mcopy\u001b[0m\u001b[0;34m)\u001b[0m\u001b[0;34m\u001b[0m\u001b[0m\n\u001b[0m\u001b[1;32m    383\u001b[0m \u001b[0;34m\u001b[0m\u001b[0m\n\u001b[1;32m    384\u001b[0m         \u001b[0;32mif\u001b[0m \u001b[0mensure_2d\u001b[0m\u001b[0;34m:\u001b[0m\u001b[0;34m\u001b[0m\u001b[0m\n",
      "\u001b[0;31mValueError\u001b[0m: setting an array element with a sequence."
     ]
    }
   ],
   "source": [
    "CLUSTERS_COUNT = 6\n",
    "EXAMPLES_COUNT = 8\n",
    "\n",
    "train_inputs, train_lables = ExtractSequenes(trainViewsD, seqLength = 360, lableShift, minLimit, maxLimit)\n",
    "\n",
    "#train_inputs = ExtractNormilizedSequences(trainViewsD, seqLength, minLimit, maxLimit)\n",
    "kmeans = KMeans(n_clusters=CLUSTERS_COUNT, random_state=0).fit(trainViewsD)\n",
    "\n",
    "for i in range(CLUSTERS_COUNT):\n",
    "    classInd = np.where(kmeans.labels_ == i)[0]\n",
    "\n",
    "    for y in range(EXAMPLES_COUNT):\n",
    "        plt.plot(train_inputs[classInd[y]])\n",
    "    plt.show()"
   ]
  },
  {
   "cell_type": "code",
   "execution_count": null,
   "metadata": {
    "collapsed": true
   },
   "outputs": [],
   "source": [
    "for i in range(CLUSTERS_COUNT):\n",
    "    menVals = np.mean(train_inputs[np.where(kmeans.labels_ == i)[0]], axis = 0)\n",
    "    plt.plot(menVals)\n",
    "    plt.show()"
   ]
  },
  {
   "cell_type": "code",
   "execution_count": null,
   "metadata": {
    "collapsed": true
   },
   "outputs": [],
   "source": [
    "from sklearn.cluster import AgglomerativeClustering\n",
    "\n",
    "aggl = AgglomerativeClustering(n_clusters=4, linkage='ward').fit(train_inputs)\n"
   ]
  },
  {
   "cell_type": "code",
   "execution_count": null,
   "metadata": {
    "collapsed": true
   },
   "outputs": [],
   "source": [
    "aggl.labels_\n"
   ]
  },
  {
   "cell_type": "code",
   "execution_count": null,
   "metadata": {
    "collapsed": true
   },
   "outputs": [],
   "source": [
    "for i in range(np.max(aggl.labels_)):\n",
    "    menVals = np.mean(train_inputs[np.where(kmeans.labels_ == i)[0]], axis = 0)\n",
    "    plt.plot(menVals)\n",
    "    plt.show()"
   ]
  },
  {
   "cell_type": "code",
   "execution_count": null,
   "metadata": {
    "collapsed": true
   },
   "outputs": [],
   "source": [
    "minLimit = 360\n",
    "seqLength = 360\n",
    "maxLimit = 100000\n",
    "train_inputs = np.array(ExtractNormilizedSequences(trainViewsD, seqLength, minLimit, maxLimit))"
   ]
  },
  {
   "cell_type": "code",
   "execution_count": null,
   "metadata": {
    "collapsed": true
   },
   "outputs": [],
   "source": [
    "CLUSTERS_COUNT = 4\n",
    "kmeans = KMeans(n_clusters=CLUSTERS_COUNT, random_state=0).fit(train_inputs)\n",
    "\n",
    "def PrintClusterExamples(clusterid, examplesCount = 10):\n",
    "    for i in range(examplesCount):\n",
    "        classInd = np.where(kmeans.labels_ == 0)[0]\n",
    "        plt.plot(train_inputs[classInd[i]])\n",
    "    plt.show()"
   ]
  },
  {
   "cell_type": "code",
   "execution_count": null,
   "metadata": {
    "collapsed": true
   },
   "outputs": [],
   "source": [
    "for i in range(CLUSTERS_COUNT):\n",
    "    menVals = np.mean(train_inputs[np.where(kmeans.labels_ == i)[0]], axis = 0)\n",
    "    plt.plot(menVals)\n",
    "    plt.show()"
   ]
  },
  {
   "cell_type": "code",
   "execution_count": null,
   "metadata": {
    "collapsed": true
   },
   "outputs": [],
   "source": [
    "train_inputs"
   ]
  },
  {
   "cell_type": "code",
   "execution_count": 59,
   "metadata": {},
   "outputs": [
    {
     "name": "stdout",
     "output_type": "stream",
     "text": [
      "359 from 360\r"
     ]
    },
    {
     "data": {
      "image/png": "[encoded data removed]",
      "text/plain": [
       "<matplotlib.figure.Figure at 0x7f88b957fb38>"
      ]
     },
     "metadata": {},
     "output_type": "display_data"
    },
    {
     "data": {
      "text/plain": [
       "<matplotlib.figure.Figure at 0x7f88b957fba8>"
      ]
     },
     "metadata": {},
     "output_type": "display_data"
    },
    {
     "data": {
      "image/png": "[encoded data removed]",
      "text/plain": [
       "<matplotlib.figure.Figure at 0x7f88af6ceef0>"
      ]
     },
     "metadata": {},
     "output_type": "display_data"
    },
    {
     "data": {
      "text/plain": [
       "<matplotlib.figure.Figure at 0x7f88af6cef60>"
      ]
     },
     "metadata": {},
     "output_type": "display_data"
    },
    {
     "data": {
      "image/png": "[encoded data removed]",
      "text/plain": [
       "<matplotlib.figure.Figure at 0x7f88af6f8d30>"
      ]
     },
     "metadata": {},
     "output_type": "display_data"
    },
    {
     "data": {
      "image/png": "[encoded data removed]",
      "text/plain": [
       "<matplotlib.figure.Figure at 0x7f88af6f8da0>"
      ]
     },
     "metadata": {},
     "output_type": "display_data"
    },
    {
     "data": {
      "image/png": "[encoded data removed]",
      "text/plain": [
       "<matplotlib.figure.Figure at 0x7f883c7bde80>"
      ]
     },
     "metadata": {},
     "output_type": "display_data"
    },
    {
     "name": "stdout",
     "output_type": "stream",
     "text": [
      "Min at index: 0; val: 0.0%\n"
     ]
    }
   ],
   "source": [
    "dSeqPred_oneD = TestSeqPredDeltaPerf(trainViewsD, testViewsD, seqLen = 1,\n",
    "                                    maxPredDelta = 360, predDeltaStep = 1, minLimit = 360, maxLimit = None)\n",
    "Plot(dSeqPred_oneD)"
   ]
  }
 ],
 "metadata": {
  "kernelspec": {
   "display_name": "Python 3",
   "language": "python",
   "name": "python3"
  },
  "language_info": {
   "codemirror_mode": {
    "name": "ipython",
    "version": 3
   },
   "file_extension": ".py",
   "mimetype": "text/x-python",
   "name": "python",
   "nbconvert_exporter": "python",
   "pygments_lexer": "ipython3",
   "version": "3.5.3"
  }
 },
 "nbformat": 4,
 "nbformat_minor": 2
}
