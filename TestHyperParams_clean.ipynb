{
 "cells": [
  {
   "cell_type": "code",
   "execution_count": 11,
   "metadata": {
    "collapsed": true
   },
   "outputs": [],
   "source": [
    "%matplotlib inline\n",
    "\n",
    "\n",
    "import pandas as pd\n",
    "import numpy as np\n",
    "import tensorflow as tf\n",
    "import pickle\n",
    "import threading\n",
    "from math import floor\n",
    "#import Test\n",
    "import time\n",
    "from matplotlib import pyplot as plt\n",
    "from matplotlib.ticker import FormatStrFormatter\n",
    "from matplotlib.ticker import FuncFormatter\n",
    "from sklearn.neighbors import KNeighborsClassifier\n",
    "from sklearn.utils import shuffle\n",
    "from sklearn.cluster import KMeans\n",
    "from multiprocessing import Pool\n",
    "from multiprocessing.dummy import Pool as ThreadPool, freeze_support\n",
    "from itertools import repeat\n",
    "\n",
    "# SEQUENCE_LENGTH = 8\n",
    "# PREDICTION_DELTA = 4\n",
    "VIDEO_LEN_LIMIT = 50\n",
    "\n",
    "MIN_VIEWS = 100 #1000 ?\n",
    "\n",
    "BATCH_SIZE = 10\n",
    "TRAIN_STEPS = 80000\n",
    "LEARNING_RATE = 2e-3\n",
    "STABLE_DELTA = 0.69 # 2 views\n",
    "THREADS_COUNT = 2\n",
    "\n",
    "\n",
    "# fig, ax = plt.subplots()\n",
    "# plt.figure(figsize=(12, 5))\n",
    "# ax.xaxis.set_major_formatter(FormatStrFormatter('%.5f'))\n",
    "\n",
    "\n",
    "def rolling_window(a, window, lablesShift):\n",
    "    shape = a.shape[:-1] + (a.shape[-1] - window + 1, window)\n",
    "    strides = a.strides + (a.strides[-1],)\n",
    "\n",
    "    data = np.lib.stride_tricks.as_strided(a, shape=shape, strides=strides)\n",
    "    lables = a[window - 1 + lablesShift::1]\n",
    "    return data[:-lablesShift], lables\n",
    "\n",
    "\n",
    "def LoadData(name):\n",
    "    df = pd.read_csv('data/' + name + '.csv',\n",
    "                     index_col=['date'],\n",
    "                     dtype={\"video_id\": object, \"views\": np.float64},\n",
    "                     parse_dates=['date'])\n",
    "    return df\n",
    "\n",
    "\n",
    "def GetNextBatch(inputs, lables, batchId):\n",
    "    batchId = batchId % len(inputs)\n",
    "    startIndex = batchId * BATCH_SIZE\n",
    "    endIndex = (batchId + 1) * BATCH_SIZE\n",
    "    if (len(inputs) < endIndex):\n",
    "        startIndex = 0\n",
    "        endIndex = BATCH_SIZE\n",
    "\n",
    "    return (inputs[startIndex:endIndex], lables[startIndex:endIndex])\n",
    "\n",
    "\n",
    "def DfToList(df):\n",
    "    listOfVideoViews = list(df.groupby('video_id')['views'].apply(pd.DataFrame.as_matrix))\n",
    "    return listOfVideoViews\n",
    "\n",
    "def ExtractSequenes(listOfVideoViews, seqLen, predDelta, minLen, maxLen):\n",
    "    if (not minLen):\n",
    "        minLen = 0\n",
    "\n",
    "    if (not maxLen):\n",
    "        maxLen = 10e+10\n",
    "    \n",
    "    koefs = []\n",
    "    datas = []\n",
    "    lables = []\n",
    "    maxV = 0\n",
    "    maxI = 0\n",
    "\n",
    "    for i in range(len(listOfVideoViews)):\n",
    "        s = listOfVideoViews[i]\n",
    "        if (len(s) > minLen and len(s) < maxLen):\n",
    "\n",
    "            daysToRemove = 0\n",
    "            passed = False\n",
    "\n",
    "            for j in range(len(s)):\n",
    "                if (s[j] > 20):\n",
    "                    daysToRemove = j\n",
    "                    passed = True\n",
    "                    break\n",
    "\n",
    "            if (passed and (len(s) - daysToRemove > minLen)):\n",
    "                realDaysToRemove = max(daysToRemove, 30)\n",
    "                data, lable = rolling_window(s[realDaysToRemove:], window=seqLen, lablesShift=predDelta)\n",
    "                datas.extend(data)\n",
    "                lables.extend(lable)\n",
    "\n",
    "    datas_res = np.log(datas)\n",
    "    lables_res = np.log(lables)\n",
    "\n",
    "    datas_res = np.clip(datas_res, a_min = STABLE_DELTA, a_max = 99999999999)\n",
    "    lables_res = np.clip(lables_res, a_min = STABLE_DELTA, a_max = 99999999999)\n",
    "    \n",
    "    return datas_res, lables_res\n",
    "\n",
    "\n",
    "globW0 = []\n",
    "globWL = []\n",
    "shifts = []\n",
    "\n",
    "def TrainModel(train_inputs, train_lables, test_inputs, test_lables, SEQUENCE_LENGTH):\n",
    "\n",
    "    X = tf.placeholder(\"float\", shape=(None, SEQUENCE_LENGTH), name=\"Inputs\")  # , COLUMNS_COUNT\n",
    "    Y = tf.placeholder(\"float\", shape=(None, 1), name=\"Outputs\")\n",
    "\n",
    "    W = tf.Variable(tf.ones([SEQUENCE_LENGTH, 1]), name=\"weight\")  # COLUMNS_COUNT\n",
    "\n",
    "    pred = tf.reduce_sum(tf.matmul(X, W), axis=1)\n",
    "    loss = tf.reduce_mean(tf.square(pred / Y - 1))\n",
    "    grads = tf.gradients(loss, [W])[0]\n",
    "\n",
    "    optimizer = tf.train.GradientDescentOptimizer(LEARNING_RATE)\n",
    "    train = optimizer.minimize(loss)\n",
    "\n",
    "    init = tf.global_variables_initializer()\n",
    "\n",
    "    sess = tf.Session()\n",
    "    sess.run(init)\n",
    "    losses = []\n",
    "\n",
    "    for step in range(TRAIN_STEPS):\n",
    "        training_data, lables = GetNextBatch(train_inputs, train_lables, step)\n",
    "        inputs = np.reshape(training_data, (BATCH_SIZE, SEQUENCE_LENGTH))\n",
    "        output = np.reshape(lables, (BATCH_SIZE, 1))\n",
    "\n",
    "        _, curLoss = sess.run([train, loss], feed_dict={X: inputs, Y: output})\n",
    "        losses.append(curLoss)\n",
    "\n",
    "        if (step % 9000 == 0):\n",
    "            mn = np.mean(losses[len(losses) - 9000: len(losses)])\n",
    "            #print(\"loss: \", mn)\n",
    "            #print(\"W = \", sess.run(W))\n",
    "\n",
    "    test_lables = np.reshape(test_lables, (len(test_lables), 1))\n",
    "    predictTest = sess.run(pred, feed_dict={X: test_inputs})\n",
    "\n",
    "    originalPredicted = np.exp(np.array(predictTest))\n",
    "\n",
    "    # if (absNorms is not None):\n",
    "    #     originalPredicted *= absNorms\n",
    "\n",
    "    originalTestOutputs = np.exp(test_lables.ravel())  # Why exp here ???!!\n",
    "    rse = ((originalPredicted / originalTestOutputs) - 1) ** 2\n",
    "    mapeAr = abs(1 - originalPredicted / originalTestOutputs)\n",
    "    \n",
    "    curW = sess.run(W)\n",
    "    print(\"W0 = \", curW[0][0])\n",
    "    globW0.append(curW[0][0])\n",
    "    print(\"WL = \", curW[-1][0])\n",
    "    globWL.append(curW[-1][0])\n",
    "    \n",
    "#     tr_inputs = np.reshape(train_inputs, (len(train_inputs), SEQUENCE_LENGTH))\n",
    "#     tr_output = np.reshape(train_lables, (len(train_lables), 1))\n",
    "#     trainLoss = sess.run(loss, feed_dict={X: tr_inputs[:30000], Y: tr_output[:30000]})\n",
    "#     print(\"train loss\", trainLoss)\n",
    "\n",
    "#     tst_inputs = np.reshape(test_inputs, (len(test_inputs), SEQUENCE_LENGTH))\n",
    "#     tst_output = np.reshape(test_lables, (len(test_lables), 1))\n",
    "#     testLoss = sess.run(loss, feed_dict={X: tst_inputs[:30000], Y: tst_output[:30000]})\n",
    "#     print(\"testLoss loss\", testLoss)\n",
    "\n",
    "#     predictTrain = sess.run(pred, feed_dict={X: tr_inputs})\n",
    "#     originalTrainPredicted = np.exp(np.array(predictTrain))\n",
    "#     originalTrainOutputs = np.exp(train_lables.ravel())\n",
    "#     mapeAr_train = abs(1 - originalTrainPredicted / originalTrainOutputs)\n",
    "#     print(\"mapeAr_train mean\", mapeAr_train.mean())\n",
    "\n",
    "#     mn = pd.rolling_mean(np.array(losses), 500)\n",
    "#     plt.plot(mn[500:])\n",
    "#     plt.show()\n",
    "\n",
    "    return rse.mean(), rse.var(), mapeAr.mean(), mapeAr.var()\n",
    "\n",
    "\n",
    "def ExtractNormilizedSequences(listOfVideoViews, seqLen, minLen, maxLen):\n",
    "    if (not minLen):\n",
    "        minLen = 0\n",
    "\n",
    "    if (not maxLen):\n",
    "        maxLen = 10e+10\n",
    "\n",
    "    datas = []\n",
    "    lables = []\n",
    "    for s in listOfVideoViews:\n",
    "        if (len(s) > minLen and len(s) < maxLen):\n",
    "            data = np.array(s[:seqLen])\n",
    "            maxData = np.max(data)  # data[seqLen - 1]\n",
    "            if (maxData > 0):\n",
    "                data = data / maxData\n",
    "                datas.append(data)\n",
    "\n",
    "    return np.array(datas)\n",
    "\n",
    "\n",
    "def TestParams(listOfTrainVideoViews, listOfTestVideoViews, seqLength, lableShift, minLimit, maxLimit):\n",
    "    id = threading.current_thread()\n",
    "    print(\"Hi from thread id: \", id)\n",
    "    train_inputs, train_lables = ExtractSequenes(listOfTrainVideoViews, seqLength, lableShift, minLimit, maxLimit)\n",
    "    test_inputs, test_lables = ExtractSequenes(listOfTestVideoViews, seqLength, lableShift, minLimit, maxLimit)\n",
    "    rseMean, rseVar, mapeMean, mapeVar = TrainModel(train_inputs, train_lables, test_inputs, test_lables, seqLength)\n",
    "    print(\"Complited: lableShift = \", lableShift)\n",
    "    shifts.append(lableShift)\n",
    "    return rseMean, rseVar, mapeMean, mapeVar\n",
    "\n",
    "def GetRegrouppedViews(trainDf, testDf):\n",
    "    return DfToList(trainDf), DfToList(testDf)\n",
    "\n",
    "\n",
    "def AddTrend(x, y):\n",
    "    z = np.polyfit(x, y, 1)\n",
    "    p = np.poly1d(z)\n",
    "    plt.plot(x, p(x), \"r--\")\n",
    "\n",
    "\n",
    "def Plot(dataL, step=1):\n",
    "    rseMean, rseVar, mapeMean, mapeVar = zip(*dataL)\n",
    "    # calc the trendline\n",
    "    x = np.arange(start=0, stop=len(mapeMean), step=step)\n",
    "    y = mapeMean\n",
    "    plt.title('MAPE mean')\n",
    "    plt.gca().yaxis.set_major_formatter(FuncFormatter(lambda y, _: '{:.0%}'.format(y)))\n",
    "    AddTrend(x, y)\n",
    "    plt.plot(x, y)\n",
    "    plt.show()\n",
    "\n",
    "    x = np.arange(len(mapeVar))\n",
    "    y = mapeVar\n",
    "    plt.title('MAPE var')\n",
    "    AddTrend(x, y)\n",
    "    plt.gca().yaxis.set_major_formatter(FuncFormatter(lambda y, _: '{:.0%}'.format(y)))\n",
    "    plt.plot(x, y)\n",
    "    plt.show()\n",
    "\n",
    "    minInd = np.argmin(mapeMean)\n",
    "\n",
    "    print(\"Min at index: {}; val: {}%\".format(minInd, x[minInd] * 100.0))\n",
    "\n",
    "\n",
    "def TestSeqLenPerf(listOfTrainVideoViews, listOfTestVideoViews, predDelta, minSeqLen, maxSeqLen, seqLenStep=1, minLimit=None,\n",
    "                   maxLimit=None):\n",
    "    dataL = []\n",
    "\n",
    "    for seqLen in range(minSeqLen, maxSeqLen, seqLenStep):\n",
    "        print(\"{} from {}\".format(seqLen, maxSeqLen), end=\"\\r\")\n",
    "        statsTuple = TestParams(listOfTrainVideoViews, listOfTestVideoViews, seqLen, predDelta, minLimit, maxLimit)\n",
    "        dataL.append(statsTuple)\n",
    "\n",
    "    return dataL\n",
    "\n",
    "def TestSeqPredDeltaPerf_old(listOfTrainVideoViews, listOfTestVideoViews, seqLen, maxPredDelta, predDeltaStep=1,\n",
    "                         minLimit=None, maxLimit=None):\n",
    "    dataL = []\n",
    "\n",
    "    for predDelta in range(1, maxPredDelta, predDeltaStep):\n",
    "        # print(\"{} from {}\".format(predDelta, maxPredDelta), end=\"\\r\")\n",
    "        print(\"{} from {}\".format(predDelta, maxPredDelta))\n",
    "        statsTuple = TestParams(listOfTrainVideoViews, listOfTestVideoViews, seqLen, predDelta, minLimit, maxLimit)\n",
    "        dataL.append(statsTuple)\n",
    "\n",
    "    return dataL\n",
    "\n",
    "def TestSeqPredDeltaPerf(listOfTrainVideoViews, listOfTestVideoViews, seqLen, minPredDelta,\n",
    "                         maxPredDelta, predDeltaStep, minLimit=None, maxLimit=None):\n",
    "    with ThreadPool(THREADS_COUNT) as pool:\n",
    "        predDeltas = range(minPredDelta, maxPredDelta, predDeltaStep)\n",
    "        args = zip(repeat(listOfTrainVideoViews), repeat(listOfTestVideoViews),\n",
    "                   repeat(seqLen), predDeltas, repeat(minLimit), repeat(maxLimit))\n",
    "        results = pool.starmap(TestParams, args)\n",
    "\n",
    "    return results"
   ]
  },
  {
   "cell_type": "code",
   "execution_count": 3,
   "metadata": {
    "collapsed": true
   },
   "outputs": [],
   "source": [
    "trainDf = LoadData('train')\n",
    "testDf = LoadData('validation')"
   ]
  },
  {
   "cell_type": "code",
   "execution_count": 4,
   "metadata": {
    "collapsed": true
   },
   "outputs": [],
   "source": [
    "trainViewsD, testViewsD = GetRegrouppedViews(trainDf, testDf)"
   ]
  },
  {
   "cell_type": "code",
   "execution_count": null,
   "metadata": {
    "collapsed": true
   },
   "outputs": [],
   "source": [
    "start = time.time()\n",
    "\n",
    "# Test daily prediction prefomance up to one year using last 26 days. For videos with history more then 1 year.\n",
    "dSeqPred = TestSeqPredDeltaPerf(trainViewsD, testViewsD, seqLen = 26, minPredDelta = 1,\n",
    "                                    maxPredDelta = 3, predDeltaStep = 1, minLimit = 60, maxLimit = None)\n",
    "\n",
    "end = time.time()\n",
    "print(end - start)"
   ]
  },
  {
   "cell_type": "code",
   "execution_count": 12,
   "metadata": {},
   "outputs": [
    {
     "name": "stdout",
     "output_type": "stream",
     "text": [
      "1 from 130\n",
      "Hi from thread id:  <_MainThread(MainThread, started 140655432369920)>\n",
      "W0 =  0.0373206\n",
      "WL =  0.0404292\n",
      "Complited: lableShift =  1\n",
      "31 from 130\n",
      "Hi from thread id:  <_MainThread(MainThread, started 140655432369920)>\n",
      "W0 =  0.0338989\n",
      "WL =  0.043915\n",
      "Complited: lableShift =  31\n",
      "61 from 130\n",
      "Hi from thread id:  <_MainThread(MainThread, started 140655432369920)>\n",
      "W0 =  0.031642\n",
      "WL =  0.0463956\n",
      "Complited: lableShift =  61\n",
      "91 from 130\n",
      "Hi from thread id:  <_MainThread(MainThread, started 140655432369920)>\n",
      "W0 =  0.0299452\n",
      "WL =  0.0482007\n",
      "Complited: lableShift =  91\n",
      "121 from 130\n",
      "Hi from thread id:  <_MainThread(MainThread, started 140655432369920)>\n",
      "W0 =  0.0279386\n",
      "WL =  0.0495539\n",
      "Complited: lableShift =  121\n",
      "174.24866008758545\n"
     ]
    }
   ],
   "source": [
    "start = time.time()\n",
    "\n",
    "# Test daily prediction prefomance up to one year using last 26 days. For videos with history more then 1 year.\n",
    "dSeqPred = TestSeqPredDeltaPerf_old(trainViewsD, testViewsD, seqLen = 26, \n",
    "                                    maxPredDelta = 130, predDeltaStep = 30, minLimit = 60, maxLimit = None)\n",
    "\n",
    "end = time.time()\n",
    "print(end - start)"
   ]
  },
  {
   "cell_type": "code",
   "execution_count": 10,
   "metadata": {},
   "outputs": [
    {
     "name": "stdout",
     "output_type": "stream",
     "text": [
      "[0.036757261, 0.03864884, 0.039859638, 0.041516297]\n"
     ]
    },
    {
     "data": {
      "text/plain": [
       "[<matplotlib.lines.Line2D at 0x7fec916139b0>]"
      ]
     },
     "execution_count": 10,
     "metadata": {},
     "output_type": "execute_result"
    },
    {
     "data": {
      "image/png": "[encoded data removed]",
      "text/plain": [
       "<matplotlib.figure.Figure at 0x7fec9159fba8>"
      ]
     },
     "metadata": {},
     "output_type": "display_data"
    }
   ],
   "source": [
    "print(globWL)\n",
    "plt.plot(globWL)"
   ]
  },
  {
   "cell_type": "code",
   "execution_count": 13,
   "metadata": {},
   "outputs": [
    {
     "name": "stdout",
     "output_type": "stream",
     "text": [
      "[ 1.          0.90831721  0.84784436  0.8023771   0.74861121]\n"
     ]
    },
    {
     "data": {
      "text/plain": [
       "[<matplotlib.lines.Line2D at 0x7fec6ceba2e8>]"
      ]
     },
     "execution_count": 13,
     "metadata": {},
     "output_type": "execute_result"
    },
    {
     "data": {
      "image/png": "[encoded data removed]",
      "text/plain": [
       "<matplotlib.figure.Figure at 0x7fec9161f908>"
      ]
     },
     "metadata": {},
     "output_type": "display_data"
    }
   ],
   "source": [
    "fw = np.array(globW0)\n",
    "fw /= fw[0]\n",
    "print(fw)\n",
    "plt.plot(fw)\n",
    "\n"
   ]
  },
  {
   "cell_type": "code",
   "execution_count": null,
   "metadata": {
    "collapsed": true
   },
   "outputs": [],
   "source": [
    "start = time.time()\n",
    "\n",
    "statsTuple4 = TestParams(trainViewsD, testViewsD, 26, 255-1, minLimit = 360, maxLimit = None)\n",
    "print(statsTuple4)\n",
    "\n",
    "end = time.time()\n",
    "print(end - start)"
   ]
  },
  {
   "cell_type": "code",
   "execution_count": null,
   "metadata": {
    "collapsed": true
   },
   "outputs": [],
   "source": [
    "rseMean, rseVar, mapeMean, mapeVar = zip(*dSeqPred)\n",
    "print(mapeMean[56])\n",
    "# plt.plot(mapeMean)\n",
    "# plt.show()"
   ]
  },
  {
   "cell_type": "code",
   "execution_count": null,
   "metadata": {
    "collapsed": true
   },
   "outputs": [],
   "source": [
    "statsTuple_1d = TestParams(trainViewsD, testViewsD, 1, 8 * 30, minLimit = 360, maxLimit = None)\n",
    "print(statsTuple_1d)"
   ]
  },
  {
   "cell_type": "code",
   "execution_count": null,
   "metadata": {
    "collapsed": true
   },
   "outputs": [],
   "source": [
    "rseMean, rseVar, mapeMean, mapeVar  = zip(*dSeqPred)\n",
    "ind = np.argmin(mapeMean)\n",
    "print(ind)\n",
    "print(mapeMean[ind])\n",
    "print(rseMean)"
   ]
  }
 ],
 "metadata": {
  "kernelspec": {
   "display_name": "Python 3",
   "language": "python",
   "name": "python3"
  },
  "language_info": {
   "codemirror_mode": {
    "name": "ipython",
    "version": 3
   },
   "file_extension": ".py",
   "mimetype": "text/x-python",
   "name": "python",
   "nbconvert_exporter": "python",
   "pygments_lexer": "ipython3",
   "version": "3.5.3"
  }
 },
 "nbformat": 4,
 "nbformat_minor": 2
}
