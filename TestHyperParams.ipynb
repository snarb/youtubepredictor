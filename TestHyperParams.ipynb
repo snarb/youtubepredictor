{
 "cells": [
  {
   "cell_type": "code",
   "execution_count": 58,
   "metadata": {
    "collapsed": true
   },
   "outputs": [],
   "source": [
    "import pandas as pd\n",
    "import numpy as np\n",
    "import tensorflow as tf\n",
    "import pickle\n",
    "from math import floor\n",
    "import Test\n",
    "from matplotlib import pyplot as plt\n",
    "from matplotlib.ticker import FormatStrFormatter\n",
    "from matplotlib.ticker import FuncFormatter\n",
    "from sklearn.neighbors import KNeighborsClassifier\n",
    "from sklearn.utils import shuffle\n",
    "\n",
    "# SEQUENCE_LENGTH = 8\n",
    "# PREDICTION_DELTA = 4\n",
    "VIDEO_LEN_LIMIT = 50\n",
    "\n",
    "MIN_VIEWS = 100 #1000 ?\n",
    "\n",
    "BATCH_SIZE = 10\n",
    "TRAIN_STEPS = 90000\n",
    "LEARNING_RATE = 2e-3\n",
    "STABLE_DELTA = 0.69 # 2 views\n",
    "\n",
    "\n",
    "fig, ax = plt.subplots()\n",
    "plt.figure(figsize=(12, 5))\n",
    "ax.xaxis.set_major_formatter(FormatStrFormatter('%.5f'))\n",
    "\n",
    "\n",
    "def rolling_window(a, window, lablesShift):\n",
    "    shape = a.shape[:-1] + (a.shape[-1] - window + 1, window)\n",
    "    strides = a.strides + (a.strides[-1],)\n",
    "\n",
    "    data = np.lib.stride_tricks.as_strided(a, shape=shape, strides=strides)\n",
    "    lables = a[window - 1 + lablesShift::1]\n",
    "    return data[:-lablesShift], lables\n",
    "\n",
    "\n",
    "def LoadData(name):\n",
    "    df = pd.read_csv('data/' + name + '.csv',\n",
    "                     index_col=['datetime'],\n",
    "                     dtype={\"video_id\": object, \"views\": np.float64},\n",
    "                     parse_dates=['datetime'])\n",
    "    return df\n",
    "\n",
    "\n",
    "def GetNextBatch(inputs, lables, batchId):\n",
    "    batchId = batchId % len(inputs)\n",
    "    startIndex = batchId * BATCH_SIZE\n",
    "    endIndex = (batchId + 1) * BATCH_SIZE\n",
    "    if (len(inputs) < endIndex):\n",
    "        startIndex = 0\n",
    "        endIndex = BATCH_SIZE\n",
    "\n",
    "    return (inputs[startIndex:endIndex], lables[startIndex:endIndex])\n",
    "\n",
    "\n",
    "def Regroup(df, timeGrouperIndex):\n",
    "    resDf = df.groupby(['video_id', pd.TimeGrouper(timeGrouperIndex)]).mean()\n",
    "    resDf = resDf.reset_index().set_index('datetime')\n",
    "    listOfVideoViews = list(resDf.groupby('video_id')['views'].apply(pd.DataFrame.as_matrix))\n",
    "    return listOfVideoViews\n",
    "\n",
    "def ExtractSequenes(listOfVideoViews, seqLen, predDelta, minLen, maxLen):\n",
    "    if (not minLen):\n",
    "        minLen = 0\n",
    "\n",
    "    if (not maxLen):\n",
    "        maxLen = 10e+10\n",
    "\n",
    "    datas = []\n",
    "    lables = []\n",
    "    maxV = 0\n",
    "    maxI = 0\n",
    "\n",
    "    for i in range(len(listOfVideoViews)):\n",
    "        s = listOfVideoViews[i]\n",
    "        if (len(s) > minLen and len(s) < maxLen):\n",
    "\n",
    "\n",
    "            # if(i == 297553):\n",
    "            #     print(\"target\")\n",
    "            daysToRemove = 0\n",
    "            passed = False\n",
    "\n",
    "            for j in range(len(s)):\n",
    "                if (s[j] > 20):\n",
    "                    daysToRemove = j\n",
    "                    passed = True\n",
    "                    break\n",
    "\n",
    "            if (passed and (len(s) - daysToRemove > minLen)):\n",
    "                realDaysToRemove = max(daysToRemove, 7)\n",
    "                data, lable = rolling_window(s[realDaysToRemove:], window=seqLen, lablesShift=predDelta)\n",
    "                # if(data.min() < 20):\n",
    "                #     print(\"bad\")\n",
    "\n",
    "                datas.extend(data)\n",
    "                lables.extend(lable)\n",
    "\n",
    "\n",
    "\n",
    "    datas_res = np.log(datas)\n",
    "    lables_res = np.log(lables)\n",
    "\n",
    "    datas_res = np.clip(datas_res, a_min = STABLE_DELTA, a_max = 99999999999)\n",
    "    lables_res = np.clip(lables_res, a_min = STABLE_DELTA, a_max = 99999999999)\n",
    "\n",
    "    for i in range(len(datas_res)):\n",
    "        data = datas_res[i]\n",
    "        lable = lables_res[i]\n",
    "\n",
    "        koef = lable / data\n",
    "        curMax = koef.max()\n",
    "        if (curMax > maxV):\n",
    "            maxV = curMax\n",
    "            maxI = i\n",
    "\n",
    "#         if (koef.max() > 10000):\n",
    "#             print(\"Bad\")\n",
    "\n",
    "    return datas_res, lables_res\n",
    "\n",
    "\n",
    "def TrainModel(train_inputs, train_lables, test_inputs, test_lables, SEQUENCE_LENGTH):\n",
    "    #train_inputs, train_lables = shuffle(train_inputs, train_lables)\n",
    "\n",
    "    # if (absNorms is not None):\n",
    "    #     train_inputs /= absNorms\n",
    "\n",
    "    X = tf.placeholder(\"float\", shape=(None, SEQUENCE_LENGTH), name=\"Inputs\")  # , COLUMNS_COUNT\n",
    "    Y = tf.placeholder(\"float\", shape=(None, 1), name=\"Outputs\")\n",
    "\n",
    "    W = tf.Variable(tf.ones([SEQUENCE_LENGTH, 1]), name=\"weight\")  # COLUMNS_COUNT\n",
    "\n",
    "    pred = tf.reduce_sum(tf.matmul(X, W), axis=1)\n",
    "    loss = tf.reduce_mean(tf.square(pred / Y - 1))\n",
    "    grads = tf.gradients(loss, [W])[0]\n",
    "\n",
    "    optimizer = tf.train.GradientDescentOptimizer(LEARNING_RATE)\n",
    "    train = optimizer.minimize(loss)\n",
    "\n",
    "    init = tf.global_variables_initializer()\n",
    "\n",
    "    sess = tf.Session()\n",
    "    sess.run(init)\n",
    "    losses = []\n",
    "\n",
    "    for step in range(TRAIN_STEPS):\n",
    "        training_data, lables = GetNextBatch(train_inputs, train_lables, step)\n",
    "        inputs = np.reshape(training_data, (BATCH_SIZE, SEQUENCE_LENGTH))\n",
    "        output = np.reshape(lables, (BATCH_SIZE, 1))\n",
    "\n",
    "        _, curLoss = sess.run([train, loss], feed_dict={X: inputs, Y: output})\n",
    "        losses.append(curLoss)\n",
    "\n",
    "        if (step % 9000 == 0):\n",
    "            mn = np.mean(losses[len(losses) - 9000: len(losses)])\n",
    "            #print(\"loss: \", mn)\n",
    "            #print(\"W = \", sess.run(W))\n",
    "\n",
    "    test_lables = np.reshape(test_lables, (len(test_lables), 1))\n",
    "    predictTest = sess.run(pred, feed_dict={X: test_inputs})\n",
    "\n",
    "    originalPredicted = np.exp(np.array(predictTest))\n",
    "\n",
    "    # if (absNorms is not None):\n",
    "    #     originalPredicted *= absNorms\n",
    "\n",
    "    originalTestOutputs = np.exp(test_lables.ravel())  # Why exp here ???!!\n",
    "    rse = ((originalPredicted / originalTestOutputs) - 1) ** 2\n",
    "    mapeAr = abs(1 - originalPredicted / originalTestOutputs)\n",
    "\n",
    "#     print(\"W = \", sess.run(W))\n",
    "\n",
    "#     tr_inputs = np.reshape(train_inputs, (len(train_inputs), SEQUENCE_LENGTH))\n",
    "#     tr_output = np.reshape(train_lables, (len(train_lables), 1))\n",
    "#     trainLoss = sess.run(loss, feed_dict={X: tr_inputs[:30000], Y: tr_output[:30000]})\n",
    "#     print(\"train loss\", trainLoss)\n",
    "\n",
    "#     tst_inputs = np.reshape(test_inputs, (len(test_inputs), SEQUENCE_LENGTH))\n",
    "#     tst_output = np.reshape(test_lables, (len(test_lables), 1))\n",
    "#     testLoss = sess.run(loss, feed_dict={X: tst_inputs[:30000], Y: tst_output[:30000]})\n",
    "#     print(\"testLoss loss\", testLoss)\n",
    "\n",
    "#     predictTrain = sess.run(pred, feed_dict={X: tr_inputs})\n",
    "#     originalTrainPredicted = np.exp(np.array(predictTrain))\n",
    "#     originalTrainOutputs = np.exp(train_lables.ravel())\n",
    "#     mapeAr_train = abs(1 - originalTrainPredicted / originalTrainOutputs)\n",
    "#     print(\"mapeAr_train mean\", mapeAr_train.mean())\n",
    "\n",
    "#     mn = pd.rolling_mean(np.array(losses), 500)\n",
    "#     plt.plot(mn[500:])\n",
    "#     plt.show()\n",
    "\n",
    "    return rse.mean(), rse.var(), mapeAr.mean(), mapeAr.var()\n",
    "\n",
    "\n",
    "def ExtractNormilizedSequences(listOfVideoViews, seqLen, minLen, maxLen):\n",
    "    if (not minLen):\n",
    "        minLen = 0\n",
    "\n",
    "    if (not maxLen):\n",
    "        maxLen = 10e+10\n",
    "\n",
    "    datas = []\n",
    "    lables = []\n",
    "    for s in listOfVideoViews:\n",
    "        if (len(s) > minLen and len(s) < maxLen):\n",
    "            data = np.array(s[:seqLen])\n",
    "            maxData = np.max(data)  # data[seqLen - 1]\n",
    "            if (maxData > 0):\n",
    "                data = data / maxData\n",
    "                datas.append(data)\n",
    "\n",
    "    return np.array(datas)\n",
    "\n",
    "\n",
    "def TestParams(listOfTrainVideoViews, listOfTestVideoViews, seqLength, lableShift, minLimit, maxLimit):\n",
    "    train_inputs, train_lables = ExtractSequenes(listOfTrainVideoViews, seqLength, lableShift, minLimit, maxLimit)\n",
    "    test_inputs, test_lables = ExtractSequenes(listOfTestVideoViews, seqLength, lableShift, minLimit, maxLimit)\n",
    "    rseMean, rseVar, mapeMean, mapeVar = TrainModel(train_inputs, train_lables, test_inputs, test_lables, seqLength)\n",
    "    return rseMean, rseVar, mapeMean, mapeVar\n",
    "\n",
    "def GetRegrouppedViews(trainDf, testDf, timeGrouperIndex):\n",
    "    return Regroup(trainDf, timeGrouperIndex), Regroup(testDf, timeGrouperIndex)\n",
    "\n",
    "\n",
    "def AddTrend(x, y):\n",
    "    z = np.polyfit(x, y, 1)\n",
    "    p = np.poly1d(z)\n",
    "    plt.plot(x, p(x), \"r--\")\n",
    "\n",
    "\n",
    "def Plot(dataL, step=1):\n",
    "    rseMean, rseVar, mapeMean, mapeVar = zip(*dataL)\n",
    "    #     plt.title('RSE mean')\n",
    "    #     plt.plot(rseMean, np.arange(len(rseMean)))\n",
    "    #     plt.show()\n",
    "\n",
    "    #     plt.title('RSE var')\n",
    "    #     plt.plot(rseVar, np.arange(len(rseVar)))\n",
    "    #     plt.show()\n",
    "\n",
    "    # calc the trendline\n",
    "    x = np.arange(start=0, stop=len(mapeMean), step=step)\n",
    "    y = mapeMean\n",
    "    plt.title('MAPE mean')\n",
    "    plt.gca().yaxis.set_major_formatter(FuncFormatter(lambda y, _: '{:.0%}'.format(y)))\n",
    "    AddTrend(x, y)\n",
    "    plt.plot(x, y)\n",
    "    plt.show()\n",
    "\n",
    "    x = np.arange(len(mapeVar))\n",
    "    y = mapeVar\n",
    "    plt.title('MAPE var')\n",
    "    AddTrend(x, y)\n",
    "    plt.gca().yaxis.set_major_formatter(FuncFormatter(lambda y, _: '{:.0%}'.format(y)))\n",
    "    plt.plot(x, y)\n",
    "    plt.show()\n",
    "\n",
    "    minInd = np.argmin(mapeMean)\n",
    "\n",
    "    print(\"Min at index: {}; val: {}%\".format(minInd, x[minInd] * 100.0))\n",
    "\n",
    "\n",
    "def TestSeqLenPerf(listOfTrainVideoViews, listOfTestVideoViews, predDelta, maxSeqLen, seqLenStep=1, minLimit=None,\n",
    "                   maxLimit=None):\n",
    "    dataL = []\n",
    "\n",
    "    for seqLen in range(1, maxSeqLen, seqLenStep):\n",
    "        print(\"{} from {}\".format(seqLen, maxSeqLen), end=\"\\r\")\n",
    "        statsTuple = TestParams(listOfTrainVideoViews, listOfTestVideoViews, seqLen, predDelta, minLimit, maxLimit)\n",
    "        dataL.append(statsTuple)\n",
    "\n",
    "    return dataL\n",
    "\n",
    "\n",
    "def TestSeqPredDeltaPerf(listOfTrainVideoViews, listOfTestVideoViews, seqLen, maxPredDelta, predDeltaStep=1,\n",
    "                         minLimit=None, maxLimit=None):\n",
    "    dataL = []\n",
    "\n",
    "    for predDelta in range(1, maxPredDelta, predDeltaStep):\n",
    "        print(\"{} from {}\".format(predDelta, maxPredDelta), end=\"\\r\")\n",
    "        statsTuple = TestParams(listOfTrainVideoViews, listOfTestVideoViews, seqLen, predDelta, minLimit, maxLimit)\n",
    "        dataL.append(statsTuple)\n",
    "\n",
    "    return dataL\n",
    "\n",
    "\n",
    "# def TestAbsNormSeqPredDeltaPerf(listOfTrainVideoViews, listOfTestVideoViews, seqLen, maxPredDelta, predDeltaStep=1,\n",
    "#                                 minLimit=None, maxLimit=None):\n",
    "#     dataL = []\n",
    "\n",
    "#     for predDelta in range(1, maxPredDelta + 1, predDeltaStep):\n",
    "#         print(\"{} from {}\".format(predDelta, maxPredDelta + 1), end=\"\\r\")\n",
    "#         statsTuple = TestParams(listOfTrainVideoViews, listOfTestVideoViews, seqLen, predDelta, minLimit, maxLimit)\n",
    "#         dataL.append(statsTuple)\n",
    "\n",
    "#     return dataL\n",
    "\n"
   ]
  },
  {
   "cell_type": "code",
   "execution_count": 2,
   "metadata": {
    "collapsed": true
   },
   "outputs": [],
   "source": [
    "trainDf = LoadData('train')\n",
    "testDf = LoadData('validation')"
   ]
  },
  {
   "cell_type": "code",
   "execution_count": 3,
   "metadata": {
    "collapsed": true
   },
   "outputs": [],
   "source": [
    "trainViewsW, testViewsW = GetRegrouppedViews(trainDf, testDf, 'W')\n",
    "trainViewsD, testViewsD = GetRegrouppedViews(trainDf, testDf, 'D')"
   ]
  },
  {
   "cell_type": "code",
   "execution_count": 4,
   "metadata": {},
   "outputs": [
    {
     "name": "stdout",
     "output_type": "stream",
     "text": [
      "loss:  32.2257\n",
      "loss:  0.0696733\n",
      "loss:  0.00156059\n",
      "loss:  0.00110382\n",
      "loss:  0.00135649\n",
      "loss:  0.000995575\n",
      "loss:  0.000926115\n",
      "loss:  0.00101565\n",
      "loss:  0.0010562\n",
      "loss:  0.00110956\n",
      "(0.017633994416125544, 0.0017415583959602915, 0.11144175080699252, 0.0052147305931977261)\n"
     ]
    }
   ],
   "source": [
    "statsTuple = TestParams(trainViewsD, testViewsD, 7, 30, 360, maxLimit = None)\n",
    "print(statsTuple)"
   ]
  },
  {
   "cell_type": "code",
   "execution_count": 5,
   "metadata": {},
   "outputs": [
    {
     "name": "stdout",
     "output_type": "stream",
     "text": [
      "loss:  0.0945486\n",
      "loss:  0.01136\n",
      "loss:  0.0127223\n",
      "loss:  0.092319\n",
      "loss:  0.0943378\n",
      "loss:  0.0943378\n",
      "loss:  0.0943378\n",
      "loss:  0.0943378\n",
      "loss:  0.0943378\n",
      "loss:  0.0943378\n",
      "loss:  1.05018\n",
      "loss:  0.0175878\n",
      "loss:  0.0130727\n",
      "loss:  0.0966358\n",
      "loss:  0.0966113\n",
      "loss:  0.0965884\n",
      "loss:  0.0965654\n",
      "loss:  0.0965426\n",
      "loss:  0.0965197\n",
      "loss:  0.0964969\n",
      "loss:  3.76649\n",
      "loss:  0.0290372\n",
      "loss:  0.0160425\n",
      "loss:  0.0918173\n",
      "loss:  0.0917526\n",
      "loss:  0.0916881\n",
      "loss:  0.0916243\n",
      "loss:  0.0915607\n",
      "loss:  0.0914975\n",
      "loss:  0.0914344\n",
      "loss:  7.94026\n",
      "loss:  0.0411941\n",
      "loss:  0.017308\n",
      "loss:  0.0770142\n",
      "loss:  0.0769694\n",
      "loss:  0.0769252\n",
      "loss:  0.0768813\n",
      "loss:  0.0768378\n",
      "loss:  0.076795\n",
      "loss:  0.0767524\n",
      "loss:  12.9974\n",
      "loss:  0.0541287\n",
      "loss:  0.0162366\n",
      "loss:  0.0488171\n",
      "loss:  0.048812\n",
      "loss:  0.0488069\n",
      "loss:  0.0488019\n",
      "loss:  0.0487969\n",
      "loss:  0.048792\n",
      "loss:  0.0487872\n",
      "loss:  18.0814\n",
      "loss:  0.0672634\n",
      "loss:  0.0107141\n",
      "loss:  0.00119088\n",
      "loss:  0.00116768\n",
      "loss:  0.0011452\n",
      "loss:  0.00112339\n",
      "loss:  0.00110226\n",
      "loss:  0.00108174\n",
      "loss:  0.00106184\n",
      "loss:  26.5373\n",
      "loss:  0.0801964\n",
      "loss:  0.00971101\n",
      "loss:  0.00097959\n",
      "loss:  0.000943011\n",
      "loss:  0.000908117\n",
      "loss:  0.000874845\n",
      "loss:  0.000843125\n",
      "loss:  0.000812873\n",
      "loss:  0.000784002\n",
      "loss:  36.657\n",
      "loss:  0.0928039\n",
      "loss:  0.00926318\n",
      "loss:  0.000804527\n",
      "loss:  0.000758943\n",
      "loss:  0.000716266\n",
      "loss:  0.000676307\n",
      "loss:  0.000638888\n",
      "loss:  0.000603848\n",
      "loss:  0.000571032\n",
      "loss:  48.4497\n",
      "loss:  0.105732\n",
      "loss:  0.00979397\n",
      "loss:  0.000672591\n",
      "loss:  0.00062277\n",
      "loss:  0.000576915\n",
      "loss:  0.00053471\n",
      "loss:  0.000495863\n",
      "loss:  0.0004601\n",
      "loss:  0.000427177\n",
      "loss:  61.9227\n",
      "loss:  0.117783\n",
      "loss:  0.00841965\n",
      "loss:  0.000569177\n",
      "loss:  0.000518839\n",
      "loss:  0.000473182\n",
      "loss:  0.000431772\n",
      "loss:  0.000394212\n",
      "loss:  0.000360142\n",
      "loss:  0.000329238\n",
      "loss:  77.0853\n",
      "loss:  0.130614\n",
      "loss:  0.00811785\n",
      "loss:  0.00049424\n",
      "loss:  0.000444556\n",
      "loss:  0.000400063\n",
      "loss:  0.000360214\n",
      "loss:  0.000324525\n",
      "loss:  0.000292559\n",
      "loss:  0.000263928\n",
      "loss:  93.9476\n",
      "loss:  0.14271\n",
      "loss:  0.00765528\n",
      "loss:  0.000432839\n",
      "loss:  0.000384772\n",
      "loss:  0.000342204\n",
      "loss:  0.000304508\n",
      "loss:  0.000271123\n",
      "loss:  0.000241556\n",
      "loss:  0.000215369\n",
      "loss:  112.52\n",
      "loss:  0.155577\n",
      "loss:  0.00766506\n",
      "loss:  0.000380423\n",
      "loss:  0.000334577\n",
      "loss:  0.000294394\n",
      "loss:  0.000259175\n",
      "loss:  0.000228305\n",
      "loss:  0.000201248\n",
      "loss:  0.000177531\n",
      "loss:  139.141\n",
      "loss:  0.166936\n",
      "loss:  0.0129037\n",
      "loss:  0.0153605\n",
      "loss:  0.0153498\n",
      "loss:  0.0153399\n",
      "loss:  0.0153308\n",
      "loss:  0.0153222\n",
      "loss:  0.0153142\n",
      "loss:  0.0153067\n",
      "loss:  168.403\n",
      "loss:  0.178334\n",
      "loss:  0.0172475\n",
      "loss:  0.0254236\n",
      "loss:  0.0252204\n",
      "loss:  0.0250472\n",
      "loss:  0.0248992\n",
      "loss:  0.0247722\n",
      "loss:  0.0246627\n",
      "loss:  0.024568\n",
      "loss:  200.106\n",
      "loss:  0.190176\n",
      "loss:  0.0198086\n",
      "loss:  0.0312294\n",
      "loss:  0.0305216\n",
      "loss:  0.0299477\n",
      "loss:  0.0294808\n",
      "loss:  0.0290998\n",
      "loss:  0.0287873\n",
      "loss:  0.0285298\n"
     ]
    }
   ],
   "source": [
    "# Weekly. Test one year ahead sequances length prediction prediction. For videos with history more then 1 year.\n",
    "\n",
    "wOneYearPred = TestSeqLenPerf(trainViewsW, testViewsW, predDelta = 51, maxSeqLen = 16,\n",
    "               seqLenStep = 1, minLimit = 50, maxLimit = None)"
   ]
  },
  {
   "cell_type": "code",
   "execution_count": 6,
   "metadata": {},
   "outputs": [
    {
     "data": {
      "image/png": "[encoded data removed]",
      "text/plain": [
       "<matplotlib.figure.Figure at 0x7f8900ff6f28>"
      ]
     },
     "metadata": {},
     "output_type": "display_data"
    },
    {
     "data": {
      "image/png": "[encoded data removed]",
      "text/plain": [
       "<matplotlib.figure.Figure at 0x7f8900ff6f98>"
      ]
     },
     "metadata": {},
     "output_type": "display_data"
    },
    {
     "data": {
      "image/png": "[encoded data removed]",
      "text/plain": [
       "<matplotlib.figure.Figure at 0x7f88a86afa90>"
      ]
     },
     "metadata": {},
     "output_type": "display_data"
    },
    {
     "name": "stdout",
     "output_type": "stream",
     "text": [
      "Min at index: 3; val: 300.0%\n"
     ]
    }
   ],
   "source": [
    "Plot(wOneYearPred)"
   ]
  },
  {
   "cell_type": "code",
   "execution_count": 7,
   "metadata": {},
   "outputs": [
    {
     "name": "stdout",
     "output_type": "stream",
     "text": [
      "loss:  47.1796\n",
      "loss:  0.0885779\n",
      "loss:  0.00590559\n",
      "loss:  0.00833591\n",
      "loss:  0.00699934\n",
      "loss:  0.00229635\n",
      "loss:  0.000220211\n",
      "loss:  0.000219725\n",
      "loss:  0.000219238\n",
      "loss:  0.000218752\n",
      "loss:  46.0094\n",
      "loss:  0.0889783\n",
      "loss:  0.00672272\n",
      "loss:  0.00825337\n",
      "loss:  0.00823089\n",
      "loss:  0.000199498\n",
      "loss:  0.000199019\n",
      "loss:  0.000198541\n",
      "loss:  0.000198061\n",
      "loss:  0.000197582\n",
      "loss:  45.0126\n",
      "loss:  0.0893704\n",
      "loss:  0.00730446\n",
      "loss:  0.00787432\n",
      "loss:  0.00708702\n",
      "loss:  0.000191609\n",
      "loss:  0.000191142\n",
      "loss:  0.000190683\n",
      "loss:  0.000190224\n",
      "loss:  0.000189764\n",
      "loss:  44.1192\n",
      "loss:  0.0899626\n",
      "loss:  0.00754224\n",
      "loss:  0.0083976\n",
      "loss:  0.00559047\n",
      "loss:  0.000181321\n",
      "loss:  0.000180869\n",
      "loss:  0.000180418\n",
      "loss:  0.000179967\n",
      "loss:  0.000179518\n",
      "loss:  43.2433\n",
      "loss:  0.0897175\n",
      "loss:  0.00896775\n",
      "loss:  0.00834845\n",
      "loss:  0.00465174\n",
      "loss:  0.0001904\n",
      "loss:  0.000189952\n",
      "loss:  0.000189505\n",
      "loss:  0.000189059\n",
      "loss:  0.000188613\n",
      "loss:  42.3025\n",
      "loss:  0.0911759\n",
      "loss:  0.00954161\n",
      "loss:  0.00913115\n",
      "loss:  0.00245334\n",
      "loss:  0.000198609\n",
      "loss:  0.000198166\n",
      "loss:  0.000197725\n",
      "loss:  0.000197289\n",
      "loss:  0.000196855\n",
      "loss:  41.3787\n",
      "loss:  0.0920424\n",
      "loss:  0.0102321\n",
      "loss:  0.0103801\n",
      "loss:  0.000191589\n",
      "loss:  0.000191155\n",
      "loss:  0.000190723\n",
      "loss:  0.000190291\n",
      "loss:  0.00018986\n",
      "loss:  0.00018943\n",
      "loss:  44.0166\n",
      "loss:  0.0926891\n",
      "loss:  0.0106902\n",
      "loss:  0.016364\n",
      "loss:  0.0317461\n",
      "loss:  0.0317458\n",
      "loss:  0.0317456\n",
      "loss:  0.0317453\n",
      "loss:  0.0317451\n",
      "loss:  0.0317448\n",
      "loss:  49.9589\n",
      "loss:  0.0922293\n",
      "loss:  0.0115266\n",
      "loss:  0.0400838\n",
      "loss:  0.0733182\n",
      "loss:  0.0732675\n",
      "loss:  0.0732168\n",
      "loss:  0.0731664\n",
      "loss:  0.0731161\n",
      "loss:  0.073066\n",
      "loss:  45.8885\n",
      "loss:  0.0919601\n",
      "loss:  0.0118678\n",
      "loss:  0.0222144\n",
      "loss:  0.0262887\n",
      "loss:  0.0262281\n",
      "loss:  0.0261678\n",
      "loss:  0.0261079\n",
      "loss:  0.0260483\n",
      "loss:  0.0259889\n",
      "loss:  45.4786\n",
      "loss:  0.0919348\n",
      "loss:  0.0117232\n",
      "loss:  0.0195026\n",
      "loss:  0.020349\n",
      "loss:  0.0203318\n",
      "loss:  0.0203146\n",
      "loss:  0.0202975\n",
      "loss:  0.0202804\n",
      "loss:  0.0202633\n",
      "loss:  49.8718\n",
      "loss:  0.0912733\n",
      "loss:  0.0127511\n",
      "loss:  0.100649\n",
      "loss:  0.0988824\n",
      "loss:  0.0972354\n",
      "loss:  0.0956992\n",
      "loss:  0.0942659\n",
      "loss:  0.0929283\n",
      "loss:  0.0916794\n",
      "loss:  36.8127\n",
      "loss:  0.0929471\n",
      "loss:  0.0105493\n",
      "loss:  0.000809007\n",
      "loss:  0.000763076\n",
      "loss:  0.000720086\n",
      "loss:  0.000679845\n",
      "loss:  0.000642171\n",
      "loss:  0.0006069\n",
      "loss:  0.000573877\n"
     ]
    }
   ],
   "source": [
    "# Test weekly prediction prefomance up to one year using last 8 weeks. For videos with history more then 1 year.\n",
    "wSeqPred = TestSeqPredDeltaPerf(trainViewsW, testViewsW, seqLen = 8,\n",
    "                                    maxPredDelta = 51, predDeltaStep = 4, minLimit = 50, maxLimit = None)"
   ]
  },
  {
   "cell_type": "code",
   "execution_count": 8,
   "metadata": {},
   "outputs": [
    {
     "data": {
      "image/png": "[encoded data removed]",
      "text/plain": [
       "<matplotlib.figure.Figure at 0x7f88b999d6a0>"
      ]
     },
     "metadata": {},
     "output_type": "display_data"
    },
    {
     "data": {
      "image/png": "[encoded data removed]",
      "text/plain": [
       "<matplotlib.figure.Figure at 0x7f88babc8ba8>"
      ]
     },
     "metadata": {},
     "output_type": "display_data"
    },
    {
     "name": "stdout",
     "output_type": "stream",
     "text": [
      "Min at index: 0; val: 0.0%\n"
     ]
    }
   ],
   "source": [
    "Plot(wSeqPred)"
   ]
  },
  {
   "cell_type": "code",
   "execution_count": 56,
   "metadata": {
    "collapsed": true
   },
   "outputs": [],
   "source": [
    "# Test daily prediction prefomance up to one year using last 26 days. For videos with history more then 1 year.\n",
    "dSeqPred = TestSeqPredDeltaPerf(trainViewsD, testViewsD, seqLen = 26,\n",
    "                                    maxPredDelta = 360, predDeltaStep = 30, minLimit = 360, maxLimit = None)\n"
   ]
  },
  {
   "cell_type": "code",
   "execution_count": 57,
   "metadata": {},
   "outputs": [
    {
     "ename": "ValueError",
     "evalue": "not enough values to unpack (expected 4, got 0)",
     "output_type": "error",
     "traceback": [
      "\u001b[0;31m---------------------------------------------------------------------------\u001b[0m",
      "\u001b[0;31mValueError\u001b[0m                                Traceback (most recent call last)",
      "\u001b[0;32m<ipython-input-57-8b6a2005b791>\u001b[0m in \u001b[0;36m<module>\u001b[0;34m()\u001b[0m\n\u001b[0;32m----> 1\u001b[0;31m \u001b[0mPlot\u001b[0m\u001b[0;34m(\u001b[0m\u001b[0mdSeqPred\u001b[0m\u001b[0;34m)\u001b[0m\u001b[0;34m\u001b[0m\u001b[0m\n\u001b[0m",
      "\u001b[0;32m<ipython-input-54-2a9b98a5e71c>\u001b[0m in \u001b[0;36mPlot\u001b[0;34m(dataL, step)\u001b[0m\n\u001b[1;32m    234\u001b[0m \u001b[0;34m\u001b[0m\u001b[0m\n\u001b[1;32m    235\u001b[0m \u001b[0;32mdef\u001b[0m \u001b[0mPlot\u001b[0m\u001b[0;34m(\u001b[0m\u001b[0mdataL\u001b[0m\u001b[0;34m,\u001b[0m \u001b[0mstep\u001b[0m\u001b[0;34m=\u001b[0m\u001b[0;36m1\u001b[0m\u001b[0;34m)\u001b[0m\u001b[0;34m:\u001b[0m\u001b[0;34m\u001b[0m\u001b[0m\n\u001b[0;32m--> 236\u001b[0;31m     \u001b[0mrseMean\u001b[0m\u001b[0;34m,\u001b[0m \u001b[0mrseVar\u001b[0m\u001b[0;34m,\u001b[0m \u001b[0mmapeMean\u001b[0m\u001b[0;34m,\u001b[0m \u001b[0mmapeVar\u001b[0m \u001b[0;34m=\u001b[0m \u001b[0mzip\u001b[0m\u001b[0;34m(\u001b[0m\u001b[0;34m*\u001b[0m\u001b[0mdataL\u001b[0m\u001b[0;34m)\u001b[0m\u001b[0;34m\u001b[0m\u001b[0m\n\u001b[0m\u001b[1;32m    237\u001b[0m     \u001b[0;31m#     plt.title('RSE mean')\u001b[0m\u001b[0;34m\u001b[0m\u001b[0;34m\u001b[0m\u001b[0m\n\u001b[1;32m    238\u001b[0m     \u001b[0;31m#     plt.plot(rseMean, np.arange(len(rseMean)))\u001b[0m\u001b[0;34m\u001b[0m\u001b[0;34m\u001b[0m\u001b[0m\n",
      "\u001b[0;31mValueError\u001b[0m: not enough values to unpack (expected 4, got 0)"
     ]
    }
   ],
   "source": [
    "Plot(dSeqPred)"
   ]
  },
  {
   "cell_type": "code",
   "execution_count": 53,
   "metadata": {},
   "outputs": [
    {
     "name": "stdout",
     "output_type": "stream",
     "text": [
      "(0.023438504552296079, 0.053837229848589199, 0.093689122233756125, 0.10642736050002977, 0.92067736995318006, 0.14364342556029261, 0.50134173005886529, 0.1893877461819122, 0.21482854856720371, 0.44875991113456348, 0.2340103151192077, 0.3072964315523467)\n"
     ]
    }
   ],
   "source": [
    "rseMean, rseVar, mapeMean, mapeVar = zip(*dSeqPred)\n",
    "print(mapeMean)"
   ]
  },
  {
   "cell_type": "code",
   "execution_count": 47,
   "metadata": {},
   "outputs": [
    {
     "name": "stdout",
     "output_type": "stream",
     "text": [
      "(0.012397810898559809, 0.002382165213488433, 0.058666371992402704, 0.0089560676958088392)\n"
     ]
    }
   ],
   "source": [
    "statsTuple2 = TestParams(trainViewsD, testViewsD, 26, 30 * 1, minLimit = 360, maxLimit = None)\n",
    "print(statsTuple2)"
   ]
  },
  {
   "cell_type": "code",
   "execution_count": 48,
   "metadata": {},
   "outputs": [
    {
     "name": "stdout",
     "output_type": "stream",
     "text": [
      "(0.024383772052560017, 0.0054264797405616273, 0.090952492888184591, 0.016111416089984752)\n"
     ]
    }
   ],
   "source": [
    "print(TestParams(trainViewsD, testViewsD, 26, 30 * 2, minLimit = 360, maxLimit = None))"
   ]
  },
  {
   "cell_type": "code",
   "execution_count": 49,
   "metadata": {},
   "outputs": [
    {
     "name": "stdout",
     "output_type": "stream",
     "text": [
      "(0.02950627333475217, 0.0078478413440528343, 0.10364889964920784, 0.018763178936260599)\n"
     ]
    }
   ],
   "source": [
    "statsTuple2 = TestParams(trainViewsD, testViewsD, 26, 30 * 3, minLimit = 360, maxLimit = None)\n",
    "print(statsTuple2)"
   ]
  },
  {
   "cell_type": "code",
   "execution_count": 45,
   "metadata": {},
   "outputs": [
    {
     "name": "stdout",
     "output_type": "stream",
     "text": [
      "(0.045245144549717849, 0.012180311095886897, 0.1305156829827927, 0.028210801045252972)\n"
     ]
    }
   ],
   "source": [
    "statsTuple2 = TestParams(trainViewsD, testViewsD, 26, 30 * 4, minLimit = 360, maxLimit = None)\n",
    "print(statsTuple2)"
   ]
  },
  {
   "cell_type": "code",
   "execution_count": null,
   "metadata": {
    "collapsed": true
   },
   "outputs": [],
   "source": []
  },
  {
   "cell_type": "code",
   "execution_count": 44,
   "metadata": {},
   "outputs": [
    {
     "name": "stdout",
     "output_type": "stream",
     "text": [
      "(0.055477731235984276, 0.015708737392367517, 0.14862893050350262, 0.033387172253369249)\n"
     ]
    }
   ],
   "source": [
    "statsTuple2 = TestParams(trainViewsD, testViewsD, 26, 30 * 5, minLimit = 360, maxLimit = None)\n",
    "print(statsTuple2)"
   ]
  },
  {
   "cell_type": "code",
   "execution_count": 43,
   "metadata": {},
   "outputs": [
    {
     "name": "stdout",
     "output_type": "stream",
     "text": [
      "(0.058666276904527061, 0.015005621897734557, 0.1805289840224622, 0.026075562832344638)\n"
     ]
    }
   ],
   "source": [
    "statsTuple2 = TestParams(trainViewsD, testViewsD, 26, 30 * 6, minLimit = 360, maxLimit = None)\n",
    "print(statsTuple2)\n"
   ]
  },
  {
   "cell_type": "code",
   "execution_count": 17,
   "metadata": {},
   "outputs": [
    {
     "name": "stdout",
     "output_type": "stream",
     "text": [
      "loss:  0.0170344\n",
      "loss:  0.00422531\n",
      "loss:  0.00394915\n",
      "loss:  0.0036728\n",
      "loss:  0.00300384\n",
      "loss:  0.00265028\n",
      "loss:  0.00279299\n",
      "loss:  0.004187\n",
      "loss:  0.00343638\n",
      "loss:  0.00298608\n",
      "loss:  6.43893\n",
      "loss:  0.0332543\n",
      "loss:  0.00366462\n",
      "loss:  0.00339968\n",
      "loss:  0.00269493\n",
      "loss:  0.0026204\n",
      "loss:  0.00283008\n",
      "loss:  0.00392323\n",
      "loss:  0.00304039\n",
      "loss:  0.00296548\n",
      "loss:  27.3094\n",
      "loss:  0.0714312\n",
      "loss:  0.00377397\n",
      "loss:  0.00312758\n",
      "loss:  0.00245757\n",
      "loss:  0.00260615\n",
      "loss:  0.0028427\n",
      "loss:  0.00363083\n",
      "loss:  0.00287138\n",
      "loss:  0.00294465\n",
      "loss:  62.8535\n",
      "loss:  0.109294\n",
      "loss:  0.00371296\n",
      "loss:  0.00287592\n",
      "loss:  0.00233111\n",
      "loss:  0.00249051\n",
      "loss:  0.00279129\n",
      "loss:  0.00337624\n",
      "loss:  0.00259179\n",
      "loss:  0.00270501\n",
      "loss:  113.239\n",
      "loss:  0.146682\n",
      "loss:  0.00341543\n",
      "loss:  0.00284391\n",
      "loss:  0.00217604\n",
      "loss:  0.00250562\n",
      "loss:  0.00287981\n",
      "loss:  0.00298514\n",
      "loss:  0.00229534\n",
      "loss:  0.00263769\n",
      "loss:  178.591\n",
      "loss:  0.182613\n",
      "loss:  0.00363664\n",
      "loss:  0.00254299\n",
      "loss:  0.00206939\n",
      "loss:  0.00231708\n",
      "loss:  0.00270976\n",
      "loss:  0.00320706\n",
      "loss:  0.0022214\n",
      "loss:  0.0024366\n",
      "loss:  259.047\n",
      "loss:  0.217612\n",
      "loss:  0.00342406\n",
      "loss:  0.00241197\n",
      "loss:  0.0020234\n",
      "loss:  0.00251475\n",
      "loss:  0.00255685\n",
      "loss:  0.00342194\n",
      "loss:  0.00194001\n",
      "loss:  0.00287789\n",
      "loss:  354.777\n",
      "loss:  0.251308\n",
      "loss:  0.00345062\n",
      "loss:  0.00233711\n",
      "loss:  0.00205889\n",
      "loss:  0.00216493\n",
      "loss:  0.00271432\n",
      "loss:  0.00279951\n",
      "loss:  0.00191363\n",
      "loss:  0.0025316\n",
      "loss:  465.936\n",
      "loss:  0.284053\n",
      "loss:  0.00327709\n",
      "loss:  0.00222972\n",
      "loss:  0.00190733\n",
      "loss:  0.0021709\n",
      "loss:  0.00271559\n",
      "loss:  0.00261168\n",
      "loss:  0.00181261\n",
      "loss:  0.00239921\n",
      "loss:  592.651\n",
      "loss:  0.315133\n",
      "loss:  0.00311609\n",
      "loss:  0.00225815\n",
      "loss:  0.00197847\n",
      "loss:  0.00212757\n",
      "loss:  0.00255265\n",
      "loss:  0.00241346\n",
      "loss:  0.00168025\n",
      "loss:  0.00239182\n"
     ]
    }
   ],
   "source": [
    "badPErf = TestSeqLenPerf(trainViewsD, testViewsD, predDelta = 26 * 10, maxSeqLen = 30,\n",
    "                   seqLenStep = 3, minLimit = 360, maxLimit = None)"
   ]
  },
  {
   "cell_type": "code",
   "execution_count": 18,
   "metadata": {},
   "outputs": [
    {
     "data": {
      "image/png": "[encoded data removed]",
      "text/plain": [
       "<matplotlib.figure.Figure at 0x7f88b8a4e390>"
      ]
     },
     "metadata": {},
     "output_type": "display_data"
    },
    {
     "data": {
      "image/png": "[encoded data removed]",
      "text/plain": [
       "<matplotlib.figure.Figure at 0x7f88a9e48cf8>"
      ]
     },
     "metadata": {},
     "output_type": "display_data"
    },
    {
     "name": "stdout",
     "output_type": "stream",
     "text": [
      "Min at index: 8; val: 800.0%\n"
     ]
    }
   ],
   "source": [
    "Plot(badPErf)"
   ]
  },
  {
   "cell_type": "code",
   "execution_count": 19,
   "metadata": {},
   "outputs": [
    {
     "data": {
      "text/plain": [
       "(0.085841099333417395,\n",
       " 0.026713412648721103,\n",
       " 0.21143140017591774,\n",
       " 0.041137862353068343)"
      ]
     },
     "execution_count": 19,
     "metadata": {},
     "output_type": "execute_result"
    }
   ],
   "source": [
    "badPErf[4]"
   ]
  },
  {
   "cell_type": "code",
   "execution_count": 20,
   "metadata": {},
   "outputs": [
    {
     "name": "stdout",
     "output_type": "stream",
     "text": [
      "loss:  0.00160499\n",
      "loss:  0.00117175\n",
      "loss:  0.00156658\n",
      "loss:  0.000814553\n",
      "loss:  0.00148469\n",
      "loss:  0.000988981\n",
      "loss:  0.00121203\n",
      "loss:  0.00102616\n",
      "loss:  0.000867133\n",
      "loss:  0.00136037\n",
      "loss:  0.00467841\n",
      "loss:  0.00113235\n",
      "loss:  0.00169052\n",
      "loss:  0.00101037\n",
      "loss:  0.0013561\n",
      "loss:  0.00111469\n",
      "loss:  0.00102777\n",
      "loss:  0.00103619\n",
      "loss:  0.000966834\n",
      "loss:  0.00136362\n",
      "loss:  0.00765718\n",
      "loss:  0.00140833\n",
      "loss:  0.00193736\n",
      "loss:  0.00140016\n",
      "loss:  0.00154107\n",
      "loss:  0.00133559\n",
      "loss:  0.00107899\n",
      "loss:  0.00126823\n",
      "loss:  0.00153833\n",
      "loss:  0.00138153\n",
      "loss:  0.00992685\n",
      "loss:  0.00171275\n",
      "loss:  0.00226059\n",
      "loss:  0.0018131\n",
      "loss:  0.00166745\n",
      "loss:  0.00163684\n",
      "loss:  0.00128192\n",
      "loss:  0.00141699\n",
      "loss:  0.00173116\n",
      "loss:  0.00178941\n",
      "loss:  0.0118223\n",
      "loss:  0.00202466\n",
      "loss:  0.00256733\n",
      "loss:  0.00215707\n",
      "loss:  0.00183336\n",
      "loss:  0.00189412\n",
      "loss:  0.00145562\n",
      "loss:  0.00172419\n",
      "loss:  0.00196609\n",
      "loss:  0.00225377\n",
      "loss:  0.0135655\n",
      "loss:  0.00235609\n",
      "loss:  0.00293284\n",
      "loss:  0.00252853\n",
      "loss:  0.00196163\n",
      "loss:  0.00202113\n",
      "loss:  0.00175278\n",
      "loss:  0.002299\n",
      "loss:  0.00232288\n",
      "loss:  0.00242959\n",
      "loss:  0.0147818\n",
      "loss:  0.00274331\n",
      "loss:  0.00327937\n",
      "loss:  0.0027246\n",
      "loss:  0.00253569\n",
      "loss:  0.00198287\n",
      "loss:  0.00213291\n",
      "loss:  0.00246042\n",
      "loss:  0.00280847\n",
      "loss:  0.00279893\n",
      "loss:  0.0156601\n",
      "loss:  0.00310716\n",
      "loss:  0.00353649\n",
      "loss:  0.00343396\n",
      "loss:  0.00261835\n",
      "loss:  0.0021802\n",
      "loss:  0.00249383\n",
      "loss:  0.0030364\n",
      "loss:  0.0030998\n",
      "loss:  0.00269031\n",
      "loss:  0.0165363\n",
      "loss:  0.0037565\n",
      "loss:  0.0037932\n",
      "loss:  0.00365117\n",
      "loss:  0.00275599\n",
      "loss:  0.00234453\n",
      "loss:  0.00325341\n",
      "loss:  0.00323196\n",
      "loss:  0.00359517\n",
      "loss:  0.00262421\n",
      "loss:  0.0173189\n",
      "loss:  0.00419146\n",
      "loss:  0.00435482\n",
      "loss:  0.00374097\n",
      "loss:  0.00288272\n",
      "loss:  0.00312911\n",
      "loss:  0.00356882\n",
      "loss:  0.00387142\n",
      "loss:  0.00319747\n",
      "loss:  0.00357614\n",
      "loss:  0.0180524\n",
      "loss:  0.00551507\n",
      "loss:  0.00418053\n",
      "loss:  0.00359443\n",
      "loss:  0.00325416\n",
      "loss:  0.00369343\n",
      "loss:  0.00389159\n",
      "loss:  0.00447663\n",
      "loss:  0.00364529\n",
      "loss:  0.00413509\n",
      "loss:  0.0188433\n",
      "loss:  0.00599597\n",
      "loss:  0.0046165\n",
      "loss:  0.00413589\n",
      "loss:  0.00307922\n",
      "loss:  0.00416476\n",
      "loss:  0.00499687\n",
      "loss:  0.00409058\n",
      "loss:  0.0044906\n",
      "loss:  0.00478694\n"
     ]
    }
   ],
   "source": [
    "# Test daily prediction prefomance up to one year using last 26 days. For videos with history more then 1 year.\n",
    "dSeqPred_oneD = TestSeqPredDeltaPerf(trainViewsD, testViewsD, seqLen = 1,\n",
    "                                    maxPredDelta = 360, predDeltaStep = 30, minLimit = 360, maxLimit = None)"
   ]
  },
  {
   "cell_type": "code",
   "execution_count": 21,
   "metadata": {},
   "outputs": [
    {
     "data": {
      "image/png": "[encoded data removed]",
      "text/plain": [
       "<matplotlib.figure.Figure at 0x7f88af37beb8>"
      ]
     },
     "metadata": {},
     "output_type": "display_data"
    },
    {
     "data": {
      "image/png": "[encoded data removed]",
      "text/plain": [
       "<matplotlib.figure.Figure at 0x7f88b96c0400>"
      ]
     },
     "metadata": {},
     "output_type": "display_data"
    },
    {
     "name": "stdout",
     "output_type": "stream",
     "text": [
      "Min at index: 0; val: 0.0%\n"
     ]
    }
   ],
   "source": [
    "Plot(dSeqPred_oneD)"
   ]
  },
  {
   "cell_type": "code",
   "execution_count": 22,
   "metadata": {},
   "outputs": [
    {
     "data": {
      "text/plain": [
       "0.44120838174683408"
      ]
     },
     "execution_count": 22,
     "metadata": {},
     "output_type": "execute_result"
    }
   ],
   "source": [
    "np.array(dSeqPred_oneD)[:,2][10]"
   ]
  },
  {
   "cell_type": "code",
   "execution_count": 23,
   "metadata": {},
   "outputs": [
    {
     "name": "stdout",
     "output_type": "stream",
     "text": [
      "loss:  0.0165018\n",
      "loss:  0.00395257\n",
      "loss:  0.00361027\n",
      "loss:  0.00363439\n",
      "loss:  0.00281947\n",
      "loss:  0.00224416\n",
      "loss:  0.00293108\n",
      "loss:  0.00321229\n",
      "loss:  0.00379484\n",
      "loss:  0.00263574\n",
      "(0.089464939553247205, 0.022844451636032589, 0.23526451906510945, 0.034115545622310006)\n"
     ]
    }
   ],
   "source": [
    "statsTuple_1d = TestParams(trainViewsD, testViewsD, 1, 8 * 30, minLimit = 360, maxLimit = None)\n",
    "print(statsTuple_1d)"
   ]
  },
  {
   "cell_type": "code",
   "execution_count": 24,
   "metadata": {},
   "outputs": [
    {
     "name": "stdout",
     "output_type": "stream",
     "text": [
      "loss:  0.0172888\n",
      "loss:  0.00436309\n",
      "loss:  0.00411329\n",
      "loss:  0.00382762\n",
      "loss:  0.00293512\n",
      "loss:  0.00302122\n",
      "loss:  0.00310927\n",
      "loss:  0.0040698\n",
      "loss:  0.0033267\n",
      "loss:  0.00354596\n",
      "(0.12422846777402635, 0.026114449297300071, 0.29329163854269907, 0.038208482534965074)\n"
     ]
    }
   ],
   "source": [
    "statsTuple_1d = TestParams(trainViewsD, testViewsD, 1, 9 * 30, minLimit = 360, maxLimit = None)\n",
    "print(statsTuple_1d)"
   ]
  },
  {
   "cell_type": "code",
   "execution_count": 25,
   "metadata": {},
   "outputs": [
    {
     "name": "stdout",
     "output_type": "stream",
     "text": [
      "loss:  0.0180274\n",
      "loss:  0.00551677\n",
      "loss:  0.00419505\n",
      "loss:  0.00365568\n",
      "loss:  0.00319845\n",
      "loss:  0.00340943\n",
      "loss:  0.00389684\n",
      "loss:  0.00456194\n",
      "loss:  0.00357757\n",
      "loss:  0.00420993\n",
      "(0.13815237332760169, 0.029998098520072649, 0.31024008633355366, 0.041903462159350792)\n"
     ]
    }
   ],
   "source": [
    "statsTuple_1d = TestParams(trainViewsD, testViewsD, 1, 10 * 30, minLimit = 360, maxLimit = None)\n",
    "print(statsTuple_1d)"
   ]
  },
  {
   "cell_type": "code",
   "execution_count": 26,
   "metadata": {},
   "outputs": [
    {
     "name": "stdout",
     "output_type": "stream",
     "text": [
      "loss:  0.014745\n",
      "loss:  0.00287382\n",
      "loss:  0.00312413\n",
      "loss:  0.00277396\n",
      "loss:  0.00228054\n",
      "loss:  0.00223252\n",
      "loss:  0.00201998\n",
      "loss:  0.00208925\n",
      "loss:  0.00290471\n",
      "loss:  0.00296832\n",
      "(0.068916421711631037, 0.016694599916906028, 0.20470527597999377, 0.027012171697585616)\n"
     ]
    }
   ],
   "source": [
    "statsTuple_1d = TestParams(trainViewsD, testViewsD, 1, 6 * 30, minLimit = 360, maxLimit = None)\n",
    "print(statsTuple_1d)"
   ]
  },
  {
   "cell_type": "code",
   "execution_count": 27,
   "metadata": {},
   "outputs": [
    {
     "name": "stdout",
     "output_type": "stream",
     "text": [
      "loss:  0.0188433\n",
      "loss:  0.00599597\n",
      "loss:  0.0046165\n",
      "loss:  0.00413589\n",
      "loss:  0.00307922\n",
      "loss:  0.00416476\n",
      "loss:  0.00499687\n",
      "loss:  0.00409058\n",
      "loss:  0.0044906\n",
      "loss:  0.00478694\n",
      "(0.13821691267274863, 0.032343103481023136, 0.30722003436854067, 0.043832763155341375)\n"
     ]
    }
   ],
   "source": [
    "statsTuple_1d = TestParams(trainViewsD, testViewsD, 1, 331, minLimit = 360, maxLimit = None)\n",
    "print(statsTuple_1d)"
   ]
  },
  {
   "cell_type": "code",
   "execution_count": 28,
   "metadata": {},
   "outputs": [
    {
     "data": {
      "text/plain": [
       "array([ 1479.,  1883.,  2021.,  2083.,  2127.,  2192.,  2223.,  2252.,\n",
       "        2279.,  2291.,  2306.,  2324.,  2338.,  2351.,  2356.])"
      ]
     },
     "execution_count": 28,
     "metadata": {},
     "output_type": "execute_result"
    }
   ],
   "source": [
    "trainViewsD[0]"
   ]
  },
  {
   "cell_type": "code",
   "execution_count": 29,
   "metadata": {},
   "outputs": [
    {
     "name": "stdout",
     "output_type": "stream",
     "text": [
      "loss:  0.0100878\n",
      "loss:  0.008201\n",
      "loss:  0.00671089\n",
      "loss:  0.00768345\n",
      "loss:  0.00784552\n",
      "loss:  0.00825246\n",
      "loss:  0.00722813\n",
      "loss:  0.00666448\n",
      "loss:  0.00785293\n",
      "loss:  0.00883569\n",
      "loss:  0.643611\n",
      "loss:  0.0143779\n",
      "loss:  0.00729171\n",
      "loss:  0.0073014\n",
      "loss:  0.00697531\n",
      "loss:  0.00753438\n",
      "loss:  0.00681189\n",
      "loss:  0.00726005\n",
      "loss:  0.00762265\n",
      "loss:  0.00889962\n",
      "loss:  2.91007\n",
      "loss:  0.0255287\n",
      "loss:  0.00696787\n",
      "loss:  0.00746943\n",
      "loss:  0.00796485\n",
      "loss:  0.00764642\n",
      "loss:  0.00682629\n",
      "loss:  0.0081328\n",
      "loss:  0.00716985\n",
      "loss:  0.0083311\n",
      "loss:  6.81748\n",
      "loss:  0.0382144\n",
      "loss:  0.00743301\n",
      "loss:  0.0072611\n",
      "loss:  0.00809846\n",
      "loss:  0.00737228\n",
      "loss:  0.007047\n",
      "loss:  0.00814501\n",
      "loss:  0.00772765\n",
      "loss:  0.00841123\n",
      "loss:  12.3727\n",
      "loss:  0.0505876\n",
      "loss:  0.00749548\n",
      "loss:  0.00712112\n",
      "loss:  0.00813311\n",
      "loss:  0.00811439\n",
      "loss:  0.00750203\n",
      "loss:  0.00770947\n",
      "loss:  0.00764778\n",
      "loss:  0.00783437\n",
      "loss:  19.5827\n",
      "loss:  0.0639951\n",
      "loss:  0.00714882\n",
      "loss:  0.00739044\n",
      "loss:  0.00804445\n",
      "loss:  0.00787119\n",
      "loss:  0.0072639\n",
      "loss:  0.00740881\n",
      "loss:  0.00826315\n",
      "loss:  0.0079734\n",
      "loss:  28.4555\n",
      "loss:  0.0763642\n",
      "loss:  0.00704505\n",
      "loss:  0.00729251\n",
      "loss:  0.00840777\n",
      "loss:  0.00750256\n",
      "loss:  0.00764825\n",
      "loss:  0.00659391\n",
      "loss:  0.0085104\n",
      "loss:  0.00759295\n",
      "loss:  38.9983\n",
      "loss:  0.0895643\n",
      "loss:  0.00778114\n",
      "loss:  0.00719564\n",
      "loss:  0.00847238\n",
      "loss:  0.00785885\n",
      "loss:  0.00781171\n",
      "loss:  0.00664292\n",
      "loss:  0.0088403\n",
      "loss:  0.00865808\n",
      "loss:  51.2169\n",
      "loss:  0.102314\n",
      "loss:  0.00687703\n",
      "loss:  0.00740572\n",
      "loss:  0.00860818\n",
      "loss:  0.00767414\n",
      "loss:  0.00808832\n",
      "loss:  0.00695316\n",
      "loss:  0.0091451\n",
      "loss:  0.00810008\n",
      "loss:  65.1149\n",
      "loss:  0.115243\n",
      "loss:  0.00746181\n",
      "loss:  0.00717831\n",
      "loss:  0.00868866\n",
      "loss:  0.00715099\n",
      "loss:  0.007382\n",
      "loss:  0.00635803\n",
      "loss:  0.00852433\n",
      "loss:  0.00740352\n",
      "loss:  80.6971\n",
      "loss:  0.128089\n",
      "loss:  0.00725609\n",
      "loss:  0.00728229\n",
      "loss:  0.00898017\n",
      "loss:  0.00731261\n",
      "loss:  0.00791798\n",
      "loss:  0.00659806\n",
      "loss:  0.00825769\n",
      "loss:  0.00816994\n",
      "loss:  97.9684\n",
      "loss:  0.139324\n",
      "loss:  0.00687408\n",
      "loss:  0.00709975\n",
      "loss:  0.00872316\n",
      "loss:  0.00735823\n",
      "loss:  0.00789222\n",
      "loss:  0.00681446\n",
      "loss:  0.00833273\n",
      "loss:  0.00781055\n",
      "loss:  116.938\n",
      "loss:  0.152305\n",
      "loss:  0.00637583\n",
      "loss:  0.00787513\n",
      "loss:  0.00930713\n",
      "loss:  0.00721191\n",
      "loss:  0.00772905\n",
      "loss:  0.00695795\n",
      "loss:  0.00812913\n",
      "loss:  0.00823504\n",
      "loss:  137.612\n",
      "loss:  0.164435\n",
      "loss:  0.00668922\n",
      "loss:  0.00704528\n",
      "loss:  0.00852839\n",
      "loss:  0.00752446\n",
      "loss:  0.00811393\n",
      "loss:  0.00721676\n",
      "loss:  0.00770099\n",
      "loss:  0.00777001\n",
      "loss:  159.998\n",
      "loss:  0.176175\n",
      "loss:  0.00675182\n",
      "loss:  0.00851383\n",
      "loss:  0.00804867\n",
      "loss:  0.00766764\n",
      "loss:  0.0077381\n",
      "loss:  0.00811861\n",
      "loss:  0.00864705\n",
      "loss:  0.0079985\n",
      "loss:  184.094\n",
      "loss:  0.187767\n",
      "loss:  0.00653527\n",
      "loss:  0.00799059\n",
      "loss:  0.00802182\n",
      "loss:  0.00726069\n",
      "loss:  0.00800246\n",
      "loss:  0.00765814\n",
      "loss:  0.00836828\n",
      "loss:  0.00826756\n",
      "loss:  209.896\n",
      "loss:  0.199338\n",
      "loss:  0.00710504\n",
      "loss:  0.0085432\n",
      "loss:  0.00801696\n",
      "loss:  0.00681784\n",
      "loss:  0.00721706\n",
      "loss:  0.00798843\n",
      "loss:  0.00752653\n",
      "loss:  0.00842098\n",
      "loss:  237.407\n",
      "loss:  0.211122\n",
      "loss:  0.00725522\n",
      "loss:  0.00814664\n",
      "loss:  0.00807678\n",
      "loss:  0.00756954\n",
      "loss:  0.00713774\n",
      "loss:  0.00771071\n",
      "loss:  0.00766205\n",
      "loss:  0.00920293\n",
      "loss:  266.627\n",
      "loss:  0.222196\n",
      "loss:  0.00668942\n",
      "loss:  0.00735729\n",
      "loss:  0.00839018\n",
      "loss:  0.0071572\n",
      "loss:  0.00790395\n",
      "loss:  0.00684907\n",
      "loss:  0.00888402\n",
      "loss:  0.0102142\n",
      "loss:  297.572\n",
      "loss:  0.23404\n",
      "loss:  0.00729628\n",
      "loss:  0.00779138\n",
      "loss:  0.00806838\n",
      "loss:  0.00700361\n",
      "loss:  0.00728841\n",
      "loss:  0.00772299\n",
      "loss:  0.00823395\n",
      "loss:  0.0102448\n",
      "loss:  330.243\n",
      "loss:  0.245192\n",
      "loss:  0.00724616\n",
      "loss:  0.00789393\n",
      "loss:  0.00795372\n",
      "loss:  0.00808085\n",
      "loss:  0.00777893\n",
      "loss:  0.00781212\n",
      "loss:  0.0088535\n",
      "loss:  0.010427\n",
      "loss:  364.652\n",
      "loss:  0.255949\n",
      "loss:  0.00743394\n",
      "loss:  0.00734987\n",
      "loss:  0.00840568\n",
      "loss:  0.0082467\n",
      "loss:  0.00760196\n",
      "loss:  0.0074774\n",
      "loss:  0.00771448\n",
      "loss:  0.0103444\n",
      "loss:  400.797\n",
      "loss:  0.267456\n",
      "loss:  0.00743077\n",
      "loss:  0.00756602\n",
      "loss:  0.00816474\n",
      "loss:  0.0083256\n",
      "loss:  0.00817201\n",
      "loss:  0.00796738\n",
      "loss:  0.00835667\n",
      "loss:  0.0106205\n",
      "loss:  438.679\n",
      "loss:  0.278248\n",
      "loss:  0.00728891\n",
      "loss:  0.00762116\n",
      "loss:  0.0076025\n",
      "loss:  0.00751387\n",
      "loss:  0.00821702\n",
      "loss:  0.00868522\n",
      "loss:  0.00853604\n",
      "loss:  0.0109491\n",
      "loss:  478.291\n",
      "loss:  0.28873\n",
      "loss:  0.00715882\n",
      "loss:  0.00783513\n",
      "loss:  0.00760996\n",
      "loss:  0.00836051\n",
      "loss:  0.00764696\n",
      "loss:  0.00871298\n",
      "loss:  0.00873997\n",
      "loss:  0.0121131\n",
      "loss:  519.649\n",
      "loss:  0.299252\n",
      "loss:  0.00720415\n",
      "loss:  0.0086091\n",
      "loss:  0.00812176\n",
      "loss:  0.0075948\n",
      "loss:  0.00747791\n",
      "loss:  0.00919511\n",
      "loss:  0.00808024\n",
      "loss:  0.0126539\n",
      "loss:  562.766\n",
      "loss:  0.309597\n",
      "loss:  0.00786144\n",
      "loss:  0.00768902\n",
      "loss:  0.00779194\n",
      "loss:  0.00834406\n",
      "loss:  0.00794762\n",
      "loss:  0.00895183\n",
      "loss:  0.00802451\n",
      "loss:  0.0116534\n",
      "loss:  607.644\n",
      "loss:  0.320505\n",
      "loss:  0.00807391\n",
      "loss:  0.00806601\n",
      "loss:  0.00814224\n",
      "loss:  0.0082215\n",
      "loss:  0.00771564\n",
      "loss:  0.00864253\n",
      "loss:  0.00871949\n",
      "loss:  0.00990943\n",
      "loss:  654.285\n",
      "loss:  0.330131\n",
      "loss:  0.00725462\n",
      "loss:  0.00810509\n",
      "loss:  0.00856553\n",
      "loss:  0.00893748\n",
      "loss:  0.00661961\n",
      "loss:  0.0087058\n",
      "loss:  0.00842919\n",
      "loss:  0.0104664\n",
      "loss:  702.689\n",
      "loss:  0.340578\n",
      "loss:  0.00768891\n",
      "loss:  0.00767532\n",
      "loss:  0.0087662\n",
      "loss:  0.00926082\n",
      "loss:  0.00682103\n",
      "loss:  0.00856961\n",
      "loss:  0.00859799\n",
      "loss:  0.00874849\n"
     ]
    }
   ],
   "source": [
    "# Test daily per sequence size one year ahead prediction prefomance.\n",
    "# For videos with history more then 1 year.\n",
    "# dOneTwoMonPred = TestSeqLenPerf(trainViewsD, trainViewsD, predDelta = 60, maxSeqLen = 30,\n",
    "#                    seqLenStep = 1, minLimit = 80, maxLimit = None)\n",
    "\n",
    "dOneYearPred_short_life = TestSeqLenPerf(trainViewsD, testViewsD, predDelta = 60, maxSeqLen = 30,\n",
    "                   seqLenStep = 1, minLimit = 61, maxLimit = 360)"
   ]
  },
  {
   "cell_type": "code",
   "execution_count": 30,
   "metadata": {},
   "outputs": [
    {
     "ename": "NameError",
     "evalue": "name 'dOneYearPred' is not defined",
     "output_type": "error",
     "traceback": [
      "\u001b[0;31m---------------------------------------------------------------------------\u001b[0m",
      "\u001b[0;31mNameError\u001b[0m                                 Traceback (most recent call last)",
      "\u001b[0;32m<ipython-input-30-c7941ea10795>\u001b[0m in \u001b[0;36m<module>\u001b[0;34m()\u001b[0m\n\u001b[0;32m----> 1\u001b[0;31m \u001b[0mPlot\u001b[0m\u001b[0;34m(\u001b[0m\u001b[0mdOneYearPred\u001b[0m\u001b[0;34m)\u001b[0m\u001b[0;34m\u001b[0m\u001b[0m\n\u001b[0m",
      "\u001b[0;31mNameError\u001b[0m: name 'dOneYearPred' is not defined"
     ]
    }
   ],
   "source": [
    "Plot(dOneYearPred)"
   ]
  },
  {
   "cell_type": "code",
   "execution_count": null,
   "metadata": {
    "collapsed": true
   },
   "outputs": [],
   "source": [
    "# Test daily prediction prefomance up to one year using last 7 days.\n",
    "# For videos with history < 1 year and > 38d.\n",
    "\n",
    "dSeqPred_short_life = TestSeqPredDeltaPerf(trainViewsD, testViewsD, seqLen = 7,\n",
    "                                    maxPredDelta = 60, predDeltaStep = 1, minLimit = 38, maxLimit = 360)"
   ]
  },
  {
   "cell_type": "code",
   "execution_count": null,
   "metadata": {
    "collapsed": true
   },
   "outputs": [],
   "source": [
    "Plot(dSeqPred_short_life)"
   ]
  },
  {
   "cell_type": "code",
   "execution_count": null,
   "metadata": {
    "collapsed": true
   },
   "outputs": [],
   "source": [
    "# Test daily per sequence size one month ahead prediction prefomance.\n",
    "# For videos with history < 1 year and > 61d.\n",
    "\n",
    "dOneYearPred_short_life = TestSeqLenPerf(trainViewsD, testViewsD, predDelta = 30, maxSeqLen = 30,\n",
    "                   seqLenStep = 1, minLimit = 61, maxLimit = 360)"
   ]
  },
  {
   "cell_type": "code",
   "execution_count": null,
   "metadata": {
    "collapsed": true
   },
   "outputs": [],
   "source": [
    "Plot(dOneYearPred_short_life)"
   ]
  },
  {
   "cell_type": "code",
   "execution_count": null,
   "metadata": {
    "collapsed": true
   },
   "outputs": [],
   "source": [
    "# Test daily per sequence size one year ahead prediction prefomance.\n",
    "# For videos with history more then 1 year.\n",
    "dOneYearPred = TestSeqLenPerf(trainViewsD, testViewsD, predDelta = 360, maxSeqLen = 40,\n",
    "                   seqLenStep = 5, minLimit = 360, maxLimit = None)"
   ]
  },
  {
   "cell_type": "code",
   "execution_count": null,
   "metadata": {
    "collapsed": true
   },
   "outputs": [],
   "source": [
    "Plot(dOneYearPred)"
   ]
  },
  {
   "cell_type": "code",
   "execution_count": null,
   "metadata": {
    "collapsed": true
   },
   "outputs": [],
   "source": [
    "rseMean, rseVar, mapeMean, mapeVar  = zip(*dOneYearPred)\n",
    "print(np.argmin(mapeMean))\n",
    "print(mapeMean[1])"
   ]
  },
  {
   "cell_type": "code",
   "execution_count": null,
   "metadata": {
    "collapsed": true
   },
   "outputs": [],
   "source": [
    "rseMean, rseVar, mapeMean, mapeVar  = zip(*dOneYearPred)\n",
    "mapeMean[1]"
   ]
  },
  {
   "cell_type": "code",
   "execution_count": null,
   "metadata": {
    "collapsed": true
   },
   "outputs": [],
   "source": [
    "# Test daily prediction prefomance up to one year using last 26 days. For videos with history more then 1 year.\n",
    "dSeqPred = TestSeqPredDeltaPerf(trainViewsD, testD, seqLen = 7,\n",
    "                                    maxPredDelta = 30, predDeltaStep = 7, minLimit = 37, maxLimit = 180)"
   ]
  },
  {
   "cell_type": "code",
   "execution_count": null,
   "metadata": {
    "collapsed": true
   },
   "outputs": [],
   "source": [
    "Plot(dSeqPred)"
   ]
  },
  {
   "cell_type": "code",
   "execution_count": null,
   "metadata": {
    "collapsed": true
   },
   "outputs": [],
   "source": [
    "rseMean, rseVar, mapeMean, mapeVar  = zip(*dSeqPred)\n",
    "ind = np.argmin(mapeMean)\n",
    "print(ind)\n",
    "print(mapeMean[ind])\n",
    "print(rseMean)"
   ]
  },
  {
   "cell_type": "code",
   "execution_count": null,
   "metadata": {
    "collapsed": true
   },
   "outputs": [],
   "source": [
    "# Test daily prediction prefomance up to one year using last 26 days. For videos with history more then 1 year.\n",
    "dSeqPred = TestSeqPredDeltaPerf(trainViewsD, testViewD, seqLen = 1,\n",
    "                                    maxPredDelta = 30, predDeltaStep = 7, minLimit = 37, maxLimit = 180)"
   ]
  },
  {
   "cell_type": "code",
   "execution_count": null,
   "metadata": {
    "collapsed": true
   },
   "outputs": [],
   "source": [
    "rseMean, rseVar, mapeMean, mapeVar  = zip(*dSeqPred)\n",
    "ind = np.argmin(mapeMean)\n",
    "print(ind)\n",
    "print(mapeMean[ind])"
   ]
  },
  {
   "cell_type": "code",
   "execution_count": null,
   "metadata": {
    "collapsed": true
   },
   "outputs": [],
   "source": [
    "rseMean"
   ]
  },
  {
   "cell_type": "code",
   "execution_count": null,
   "metadata": {
    "collapsed": true
   },
   "outputs": [],
   "source": [
    "Plot(dSeqPred)"
   ]
  },
  {
   "cell_type": "code",
   "execution_count": null,
   "metadata": {
    "collapsed": true
   },
   "outputs": [],
   "source": [
    "# from sklearn.neighbors import KNeighborsClassifier\n",
    "\n",
    "# def ExtractNormilizedSequences(listOfVideoViews, seqLen, minLen, maxLen):\n",
    "#     if(not minLen):\n",
    "#         minLen = 0\n",
    "\n",
    "#     if (not maxLen):\n",
    "#         maxLen = 10e+10\n",
    "\n",
    "    \n",
    "#     datas = []\n",
    "#     lables = []\n",
    "#     for s in listOfVideoViews:\n",
    "#         if (len(s) > minLen and len(s) < maxLen):\n",
    "#             data = np.array(s[:seqLen])\n",
    "#             maxData = data[seqLen - 1]\n",
    "#             data = data / maxData\n",
    "#             datas.append(data)\n",
    "\n",
    "# #     datas = np.log(datas) + STABLE_DELTA\n",
    "# #     lables = np.log(lables) + STABLE_DELTA\n",
    "#     return datas\n",
    "\n",
    "\n",
    "#test_inputs, test_lables = ExtractSequenes(listOfTestVideoViews, seqLength, lableShift, minLimit, maxLimit)"
   ]
  },
  {
   "cell_type": "code",
   "execution_count": null,
   "metadata": {
    "collapsed": true
   },
   "outputs": [],
   "source": [
    "maxLimit = 360\n",
    "minLimit = 30\n",
    "seqLength = 30\n",
    "\n",
    "train_inputs = ExtractNormilizedSequences(trainViewsD, seqLength, minLimit, maxLimit)"
   ]
  },
  {
   "cell_type": "code",
   "execution_count": null,
   "metadata": {
    "collapsed": true
   },
   "outputs": [],
   "source": [
    "CLUSTERS_COUNT = 6\n",
    "kmeans = KMeans(n_clusters=CLUSTERS_COUNT, random_state=0).fit(train_inputs)\n",
    "\n",
    "def PrintClusterExamples(clusterid, examplesCount = 10):\n",
    "    for i in range(examplesCount):\n",
    "        classInd = np.where(kmeans.labels_ == 0)[0]\n",
    "        plt.plot(train_inputs[classInd[i]])\n",
    "    plt.show()"
   ]
  },
  {
   "cell_type": "code",
   "execution_count": null,
   "metadata": {
    "collapsed": true
   },
   "outputs": [],
   "source": [
    "EXAMPLES_COUNT = 8\n",
    "\n",
    "for i in range(CLUSTERS_COUNT):\n",
    "    classInd = np.where(kmeans.labels_ == i)[0]\n",
    "\n",
    "    for y in range(EXAMPLES_COUNT):\n",
    "        plt.plot(train_inputs[classInd[y]])\n",
    "    plt.show()\n"
   ]
  },
  {
   "cell_type": "code",
   "execution_count": null,
   "metadata": {
    "collapsed": true
   },
   "outputs": [],
   "source": [
    "for i in range(CLUSTERS_COUNT):\n",
    "    menVals = np.mean(train_inputs[np.where(kmeans.labels_ == i)[0]], axis = 0)\n",
    "    plt.plot(menVals)\n",
    "    plt.show()"
   ]
  },
  {
   "cell_type": "code",
   "execution_count": null,
   "metadata": {
    "collapsed": true
   },
   "outputs": [],
   "source": [
    "from sklearn.cluster import AgglomerativeClustering\n",
    "\n",
    "aggl = AgglomerativeClustering(n_clusters=4, linkage='ward').fit(train_inputs)\n"
   ]
  },
  {
   "cell_type": "code",
   "execution_count": null,
   "metadata": {
    "collapsed": true
   },
   "outputs": [],
   "source": [
    "aggl.labels_\n"
   ]
  },
  {
   "cell_type": "code",
   "execution_count": null,
   "metadata": {
    "collapsed": true
   },
   "outputs": [],
   "source": [
    "for i in range(np.max(aggl.labels_)):\n",
    "    menVals = np.mean(train_inputs[np.where(kmeans.labels_ == i)[0]], axis = 0)\n",
    "    plt.plot(menVals)\n",
    "    plt.show()"
   ]
  },
  {
   "cell_type": "code",
   "execution_count": null,
   "metadata": {
    "collapsed": true
   },
   "outputs": [],
   "source": [
    "minLimit = 360\n",
    "seqLength = 360\n",
    "maxLimit = 100000\n",
    "train_inputs = np.array(ExtractNormilizedSequences(trainViewsD, seqLength, minLimit, maxLimit))"
   ]
  },
  {
   "cell_type": "code",
   "execution_count": null,
   "metadata": {
    "collapsed": true
   },
   "outputs": [],
   "source": [
    "CLUSTERS_COUNT = 4\n",
    "kmeans = KMeans(n_clusters=CLUSTERS_COUNT, random_state=0).fit(train_inputs)\n",
    "\n",
    "def PrintClusterExamples(clusterid, examplesCount = 10):\n",
    "    for i in range(examplesCount):\n",
    "        classInd = np.where(kmeans.labels_ == 0)[0]\n",
    "        plt.plot(train_inputs[classInd[i]])\n",
    "    plt.show()"
   ]
  },
  {
   "cell_type": "code",
   "execution_count": null,
   "metadata": {
    "collapsed": true
   },
   "outputs": [],
   "source": [
    "for i in range(CLUSTERS_COUNT):\n",
    "    menVals = np.mean(train_inputs[np.where(kmeans.labels_ == i)[0]], axis = 0)\n",
    "    plt.plot(menVals)\n",
    "    plt.show()"
   ]
  },
  {
   "cell_type": "code",
   "execution_count": null,
   "metadata": {
    "collapsed": true
   },
   "outputs": [],
   "source": [
    "train_inputs"
   ]
  },
  {
   "cell_type": "code",
   "execution_count": 59,
   "metadata": {},
   "outputs": [
    {
     "name": "stdout",
     "output_type": "stream",
     "text": [
      "359 from 360\r"
     ]
    },
    {
     "data": {
      "image/png": "[encoded data removed]",
      "text/plain": [
       "<matplotlib.figure.Figure at 0x7f88b957fb38>"
      ]
     },
     "metadata": {},
     "output_type": "display_data"
    },
    {
     "data": {
      "text/plain": [
       "<matplotlib.figure.Figure at 0x7f88b957fba8>"
      ]
     },
     "metadata": {},
     "output_type": "display_data"
    },
    {
     "data": {
      "image/png": "[encoded data removed]",
      "text/plain": [
       "<matplotlib.figure.Figure at 0x7f88af6ceef0>"
      ]
     },
     "metadata": {},
     "output_type": "display_data"
    },
    {
     "data": {
      "text/plain": [
       "<matplotlib.figure.Figure at 0x7f88af6cef60>"
      ]
     },
     "metadata": {},
     "output_type": "display_data"
    },
    {
     "data": {
      "image/png": "[encoded data removed]",
      "text/plain": [
       "<matplotlib.figure.Figure at 0x7f88af6f8d30>"
      ]
     },
     "metadata": {},
     "output_type": "display_data"
    },
    {
     "data": {
      "image/png": "[encoded data removed]",
      "text/plain": [
       "<matplotlib.figure.Figure at 0x7f88af6f8da0>"
      ]
     },
     "metadata": {},
     "output_type": "display_data"
    },
    {
     "data": {
      "image/png": "[encoded data removed]",
      "text/plain": [
       "<matplotlib.figure.Figure at 0x7f883c7bde80>"
      ]
     },
     "metadata": {},
     "output_type": "display_data"
    },
    {
     "name": "stdout",
     "output_type": "stream",
     "text": [
      "Min at index: 0; val: 0.0%\n"
     ]
    }
   ],
   "source": [
    "dSeqPred_oneD = TestSeqPredDeltaPerf(trainViewsD, testViewsD, seqLen = 1,\n",
    "                                    maxPredDelta = 360, predDeltaStep = 1, minLimit = 360, maxLimit = None)\n",
    "Plot(dSeqPred_oneD)"
   ]
  }
 ],
 "metadata": {
  "kernelspec": {
   "display_name": "Python 3",
   "language": "python",
   "name": "python3"
  },
  "language_info": {
   "codemirror_mode": {
    "name": "ipython",
    "version": 3
   },
   "file_extension": ".py",
   "mimetype": "text/x-python",
   "name": "python",
   "nbconvert_exporter": "python",
   "pygments_lexer": "ipython3",
   "version": "3.5.2"
  }
 },
 "nbformat": 4,
 "nbformat_minor": 2
}
