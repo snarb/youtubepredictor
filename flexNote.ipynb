{
 "cells": [
  {
   "cell_type": "code",
   "execution_count": 1,
   "metadata": {},
   "outputs": [],
   "source": [
    "from Flex_2 import TrainModel,TrainModel_2, LoadData, GetRegrouppedViews\n",
    "from SETTINGS import *\n",
    "import sys\n",
    "import time"
   ]
  },
  {
   "cell_type": "code",
   "execution_count": 2,
   "metadata": {
    "collapsed": true
   },
   "outputs": [],
   "source": [
    "trainDf = LoadData('train')\n",
    "testDf = LoadData('validation')\n",
    "trainViewsD, testViewsD = GetRegrouppedViews(trainDf, testDf)"
   ]
  },
  {
   "cell_type": "code",
   "execution_count": 3,
   "metadata": {},
   "outputs": [
    {
     "name": "stdout",
     "output_type": "stream",
     "text": [
      "Step: 0 from: 50000\n",
      "AVG loss:  1526.09\n",
      "Step: 10000 from: 50000\n",
      "AVG loss:  17.2509\n",
      "End of dataset reached.\n",
      "Step: 20000 from: 50000\n",
      "AVG loss:  0.0337444\n",
      "End of dataset reached.\n",
      "Step: 30000 from: 50000\n",
      "AVG loss:  0.00720438\n",
      "End of dataset reached.\n",
      "Step: 40000 from: 50000\n",
      "AVG loss:  0.00483712\n",
      "End of dataset reached.\n",
      "End of dataset reached.\n",
      "End of dataset reached.\n",
      "End of dataset reached.\n",
      "0.270382726087 0.00282627734226\n"
     ]
    }
   ],
   "source": [
    "start = time.time()\n",
    "\n",
    "erMEan, erStd = TrainModel(trainViewsD, testViewsD, seqLen=SEQUENCE_LENGTH, minPredDelta=1, maxPredDelta=120, \n",
    "                           minLen=180, maxLen=None)\n",
    "\n",
    "print('Step: {} from: {}'.format(step, TRAIN_STEPS))\n",
    "\n",
    "print(\"Elapsed s: \", erMEan, erStd)\n",
    "\n",
    "end = time.time()\n",
    "print(\"Elapsed s: \", end - start)"
   ]
  }
 ],
 "metadata": {
  "kernelspec": {
   "display_name": "Python 3",
   "language": "python",
   "name": "python3"
  },
  "language_info": {
   "codemirror_mode": {
    "name": "ipython",
    "version": 3
   },
   "file_extension": ".py",
   "mimetype": "text/x-python",
   "name": "python",
   "nbconvert_exporter": "python",
   "pygments_lexer": "ipython3",
   "version": "3.5.3"
  }
 },
 "nbformat": 4,
 "nbformat_minor": 2
}
